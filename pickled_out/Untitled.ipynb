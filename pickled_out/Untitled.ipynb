{
 "cells": [
  {
   "cell_type": "markdown",
   "id": "5707bc6c-b5be-4a7b-9291-57098007d289",
   "metadata": {},
   "source": [
    "# ReadME"
   ]
  },
  {
   "cell_type": "markdown",
   "id": "c4fc29b4-1298-4552-ab32-6a97a654fe53",
   "metadata": {},
   "source": [
    "A quick summary of the model: Data was from the Kaggle NCAA march madness competition. That provided detailed results for regular season games from every season since 2003, tournament games since 2003, and many other data files. \n",
    "\n",
    "We used the files to create a feature set primarily composing of regular season averages built a PageRank Algorithm and used that as a feature, and had some categorical featuers like conference champion, power conferences, and then also used historical winning percentage as a proxy for TeamID to help keep the dimmensionality down. \n",
    "\n",
    "Utilized mostly dictioanries to hold the data and lambda functions to access them. "
   ]
  },
  {
   "cell_type": "code",
   "execution_count": null,
   "id": "d7c5c176-4b6e-4671-8b91-af1f415ec419",
   "metadata": {},
   "outputs": [],
   "source": []
  }
 ],
 "metadata": {
  "kernelspec": {
   "display_name": "Python 3 (ipykernel)",
   "language": "python",
   "name": "python3"
  },
  "language_info": {
   "codemirror_mode": {
    "name": "ipython",
    "version": 3
   },
   "file_extension": ".py",
   "mimetype": "text/x-python",
   "name": "python",
   "nbconvert_exporter": "python",
   "pygments_lexer": "ipython3",
   "version": "3.9.12"
  }
 },
 "nbformat": 4,
 "nbformat_minor": 5
}
