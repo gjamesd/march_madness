{
 "cells": [
  {
   "cell_type": "code",
   "execution_count": 445,
   "id": "b9b7b288-4216-4e29-b88c-7e8b327acdef",
   "metadata": {},
   "outputs": [],
   "source": [
    "# Importing LOTS of stuff \n",
    "from sklearn.model_selection import learning_curve\n",
    "from sklearn.metrics import make_scorer\n",
    "from sklearn import linear_model\n",
    "from sklearn.preprocessing import LabelEncoder\n",
    "from sklearn.preprocessing import StandardScaler\n",
    "from sklearn.model_selection import train_test_split, RandomizedSearchCV, GridSearchCV\n",
    "from sklearn.preprocessing import LabelEncoder\n",
    "from sklearn.metrics import f1_score, mean_squared_error, classification_report \n",
    "import random \n",
    "from random import sample\n",
    "\n",
    "# to solve problems that I am encounterinbg\n",
    "import pandas as pd\n",
    "import seaborn as sns\n",
    "import matplotlib.pyplot as plt #plotting for visualization purposes of story telling \n",
    "import numpy as np\n",
    "\n",
    "#from tqdm import tqdm\n",
    "\n",
    "import datetime\n",
    "import gc\n",
    "import seaborn as sns\n",
    "sns.set_palette(sns.color_palette('hls', 7))\n",
    "\n",
    "from statistics import mean\n",
    "from collections import Counter\n",
    "from sklearn.ensemble import GradientBoostingClassifier, RandomForestClassifier\n",
    "from collections import Counter\n",
    "from imblearn.over_sampling import RandomOverSampler\n",
    "import xgboost as xgb\n",
    "\n",
    "from scipy import linalg as la\n",
    "import networkx as nx\n",
    "from itertools import combinations\n",
    "\n",
    "import warnings\n",
    "warnings.filterwarnings('ignore')\n",
    "from tqdm import tqdm\n",
    "\n",
    "import pickle \n",
    "import time\n",
    "\n",
    "from numpy import array\n",
    "from numpy import argmax\n",
    "from keras.layers.core import Dense, Activation, Dropout\n",
    "from keras.preprocessing import sequence\n",
    "from keras.models import Sequential\n",
    "from keras.layers import Dense, Embedding\n",
    "from keras.layers import LSTM\n",
    "import tensorflow as tf"
   ]
  },
  {
   "cell_type": "markdown",
   "id": "2ea598c9-d411-4779-bffe-f11e76d4c11b",
   "metadata": {},
   "source": [
    "# Step 0 - read in data and libraries for process \n",
    "\n",
    "for a full data description from kaggle, visit this webstie: https://www.kaggle.com/competitions/mens-march-mania-2022/data\n",
    "\n",
    "The only thing i created by hand is Power the power seeding dictionary. The selection comitte does this, selects teams seeds the tournament. The top overal seed is obviously 1, the second 1 seed, on the opposite side of the bracket is 2, on the same side of the bracket is the third overall and then the fourth overall 1 seed is on the same side as the 1st overall seed. This means that the 5th overall seed is the \"best\" 2 seed and get the \"wrost\" 1 seed. and then the process is cyclic, rotating around the tournament from 1 to 64. This is the variable in question I use to generate the outcome variable: Did the higher seed win? "
   ]
  },
  {
   "cell_type": "code",
   "execution_count": 331,
   "id": "7f0246de-6235-4c6a-8cf4-ab9eae02d6ea",
   "metadata": {},
   "outputs": [],
   "source": [
    "#what year are we running the analysis for? \n",
    "year_ = 2023"
   ]
  },
  {
   "cell_type": "code",
   "execution_count": 698,
   "id": "ca8ab4ce-3ece-466f-98f1-89aaeecdf419",
   "metadata": {},
   "outputs": [],
   "source": [
    "#import lots of data \n",
    "# teams that could make the tournament all D1 teams \n",
    "teams_df = pd.read_csv(\"../data/MTeams.csv\")\n",
    "\n",
    "#detailed game by game of tournament games from 2003 onward \n",
    "tourney_deets = pd.read_csv(\"../data/MNCAATourneyDetailedResults.csv\")\n",
    "\n",
    "#regular season games from 2003 onwards \n",
    "reg_deets = pd.read_csv(\"../data/MRegularSeasonDetailedResults.csv\")\n",
    "\n",
    "#winner and loser of tournament games since 1985 \n",
    "tourney_compact_deets =  pd.read_csv(\"../data/MNCAATourneyCompactResults.csv\")\n",
    "\n",
    "#historical tournament seeds \n",
    "tourney_seeds = pd.read_csv(\"../data/MNCAATourneySeeds.csv\")\n",
    "\n",
    "#conference tournament games detailed results \n",
    "conf_tour = pd.read_csv(\"../data/MConferenceTourneyGames.csv\")\n",
    "\n",
    "#what conferences had who in what year \n",
    "conf = pd.read_csv(\"../data/MTeamConferences.csv\")\n",
    "\n",
    "#hand made varialbe used to create target \n",
    "power_seeds = pd.read_csv(\"../data/PowerSeeds.csv\")\n",
    "\n",
    "compact = pd.read_csv('../data/MNCAATourneyCompactResults.csv')"
   ]
  },
  {
   "cell_type": "markdown",
   "id": "39c78891-11ad-4bec-bb17-d7be46f3c9a7",
   "metadata": {},
   "source": [
    "# Step 1 Data Prep / build dictionaries for features \n",
    "\n",
    "The goal here is to use among other things regular season values for each team for each season as features for the model. We will create a multitude of different dictionaries with seasons and teams as keys and things like average 3's made, average turnovers, number of wins etc as values. This will be the general approach we take to model feature creation "
   ]
  },
  {
   "cell_type": "code",
   "execution_count": 333,
   "id": "3cdf1f14-f453-4706-92c1-06ad8e79f8dd",
   "metadata": {},
   "outputs": [],
   "source": [
    "def get_conf_affiliation():\n",
    "    '''\n",
    "    Parameters: None\n",
    "    output: regular season detailed results with the winning \n",
    "    and losing team conference afiiliation denoted \n",
    "    \n",
    "    prepping a data frame for getting conference affiliation \n",
    "    by season by year here below\n",
    "    \n",
    "    '''\n",
    "    \n",
    "    step1 = pd.merge(left = reg_deets, right = conf_tour, on = ['Season', \"WTeamID\"]) \n",
    "    \n",
    "    step1 = step1.drop(columns = ['DayNum_y', 'LTeamID_y'])\n",
    "    step1 = step1.rename(columns = {'DayNum_x':'DayNum',\n",
    "                                   'ConfAbbrev':\"WTeam_Conf\", \n",
    "                                   \"LTeamID_x\":\"LTeamID\"})\n",
    "    \n",
    "    step2 = pd.merge(left = step1, right = conf_tour, on = ['Season', \"LTeamID\"]) \n",
    "    step2 = step2.drop(columns = ['DayNum_y', 'WTeamID_y'])\n",
    "    step2 = step2.rename(columns = {'DayNum_x':'DayNum','ConfAbbrev':\"LTeam_Conf\",\n",
    "                                   'WTeamID_x':'WTeamID'})\n",
    "    \n",
    "    return step2"
   ]
  },
  {
   "cell_type": "code",
   "execution_count": 334,
   "id": "c98d742f-6b07-4595-b917-782cc4f2ad56",
   "metadata": {},
   "outputs": [],
   "source": [
    "reg_deets2 = get_conf_affiliation()"
   ]
  },
  {
   "cell_type": "code",
   "execution_count": null,
   "id": "4ad18520-c728-41e4-a0bb-c7151d54db86",
   "metadata": {},
   "outputs": [],
   "source": []
  },
  {
   "cell_type": "code",
   "execution_count": 335,
   "id": "c3ccf26b-0a80-4137-b09d-3db02138ee4b",
   "metadata": {},
   "outputs": [],
   "source": [
    "def get_winning_dict(df, column):\n",
    "    '''\n",
    "    building a dictionary for the averages by season by team for when they \n",
    "    were the winning team: \n",
    "    \n",
    "    Note - it is possible for a team to go winless, we will need to \n",
    "    figure out how to deal with that should we have an undefeated regular season--\n",
    "    although these teams will not play in march and it seams very unlikely that \n",
    "    they don't get a single win, it is possible lol \n",
    "    \n",
    "    '''\n",
    "    \n",
    "    features = ['WScore', 'LScore', 'WFGM', 'WFGA', 'WFGM3','WFGA3', 'WFTM', 'WFTA', 'WOR',\n",
    "                'WTO',\n",
    "            'WDR', 'WAst', 'WStl', 'WBlk', 'WPF', 'LFGM', 'LFGA', 'LFGM3', 'LFGA3',\n",
    "       'LFTM', 'LFTA', 'LOR', 'LDR', 'LAst', 'LTO', 'LStl', 'LBlk', 'LPF', ]\n",
    "    \n",
    "\n",
    "    \n",
    "\n",
    "    w = df.groupby(by=[column])\n",
    "    w1 = pd.DataFrame(w)\n",
    "    teams = {}\n",
    "    \n",
    "    for i in tqdm(range(len(w1))):\n",
    "        #print(i)\n",
    "        ws = w1[1][i].groupby(\"Season\")\n",
    "        ws = pd.DataFrame(ws)\n",
    "        #print(ws['Season'])\n",
    "        seasons = {}\n",
    "        for j in range(len(ws)):\n",
    "            season = ws[0][j]\n",
    "            #print(season)\n",
    "            \n",
    "            vals = dict(ws[1][j][features].sum(axis = 0))\n",
    "            vals.update({'season_wins': len(ws[1][j])})\n",
    "            #vals.update({'conf':list(set(ws[1][j]['WTeam_Conf']))[0]})\n",
    "            #print(v_dict)\n",
    "            seasons.update({ws[0][j]:  vals})\n",
    "        \n",
    "        teams.update({w1[0][i]:seasons})\n",
    "    return teams\n",
    "        \n",
    "        \n",
    "        \n"
   ]
  },
  {
   "cell_type": "code",
   "execution_count": 336,
   "id": "3376a586-8451-441f-87a2-d42c7c9532cb",
   "metadata": {},
   "outputs": [
    {
     "name": "stderr",
     "output_type": "stream",
     "text": [
      "100%|█████████████████████████████████████████| 368/368 [00:06<00:00, 55.07it/s]\n"
     ]
    }
   ],
   "source": [
    "w_feats = get_winning_dict(reg_deets, \"WTeamID\")"
   ]
  },
  {
   "cell_type": "code",
   "execution_count": null,
   "id": "d94f8e54-b2ba-4eb3-addb-3dc6c47be52b",
   "metadata": {},
   "outputs": [],
   "source": []
  },
  {
   "cell_type": "code",
   "execution_count": 337,
   "id": "1c1de851-66d3-424d-a3df-c39268a51a78",
   "metadata": {},
   "outputs": [],
   "source": [
    "def get_losing_dict(df, column):\n",
    "    \n",
    "    '''\n",
    "    building a dictionary for the averages by season by team for when they \n",
    "    were the losing team: \n",
    "    \n",
    "    Note - it is possible for a team to go undefeated, we will need to \n",
    "    figure out how to deal with that should we have an undefeated regular season\n",
    "    \n",
    "    \n",
    "    '''\n",
    "    \n",
    "    \n",
    "    features =['WScore', 'LScore', 'WFGM', 'WFGA', 'WFGM3','WFGA3', 'WFTM', 'WFTA', 'WOR',\n",
    "                'WTO',\n",
    "            'WDR', 'WAst', 'WStl', 'WBlk', 'WPF', 'LFGM', 'LFGA', 'LFGM3', 'LFGA3',\n",
    "       'LFTM', 'LFTA', 'LOR', 'LDR', 'LAst', 'LTO', 'LStl', 'LBlk', 'LPF', ]\n",
    "    \n",
    "    \n",
    "    rename = ['LScore', 'WScore', 'LFGM', 'LFGA', 'LFGM3','LFGA3', 'LFTM', 'LFTA', 'LOR',\n",
    "                'LTO',\n",
    "            'LDR', 'LAst', 'LStl', 'LBlk', 'LPF', 'WFGM', 'WFGA', 'WFGM3', 'WFGA3',\n",
    "       'WFTM', 'WFTA', 'WOR', 'WDR', 'WAst', 'WTO', 'WStl', 'WBlk', 'WPF', ]\n",
    "    \n",
    "        \n",
    "    w = df.groupby(by=[column])\n",
    "    w1 = pd.DataFrame(w)\n",
    "    teams = {}\n",
    "    \n",
    "    for i in tqdm(range(len(w1))):\n",
    "        #print(i)\n",
    "        ws = w1[1][i].groupby(\"Season\")\n",
    "        ws = pd.DataFrame(ws)\n",
    "        seasons = {}\n",
    "        for j in range(len(ws)):\n",
    "            season = ws[0][j]\n",
    "            data = ws[1][j][features]\n",
    "            data.columns = rename\n",
    "            #vals = dict(data.sum(axis = 0)/len(data))\n",
    "            vals = dict(data.sum(axis = 0))\n",
    "            vals.update({'season_losses': len(ws[1][j])})\n",
    "\n",
    "            seasons.update({ws[0][j]:  vals})\n",
    "        \n",
    "        teams.update({w1[0][i]:seasons})\n",
    "    return teams"
   ]
  },
  {
   "cell_type": "code",
   "execution_count": 338,
   "id": "25e19ca6-7109-4227-ab9c-118cd82cdacd",
   "metadata": {},
   "outputs": [
    {
     "name": "stderr",
     "output_type": "stream",
     "text": [
      "100%|█████████████████████████████████████████| 368/368 [00:08<00:00, 44.88it/s]\n"
     ]
    }
   ],
   "source": [
    "l_feats = get_losing_dict(reg_deets, \"LTeamID\")"
   ]
  },
  {
   "cell_type": "code",
   "execution_count": null,
   "id": "a483e706-7cc1-4247-bf25-1f299c260ab5",
   "metadata": {},
   "outputs": [],
   "source": []
  },
  {
   "cell_type": "markdown",
   "id": "37bbe3ac-87b5-4468-875d-ce2520b83675",
   "metadata": {},
   "source": [
    "#### Offensive Efficiency\n",
    "\n",
    "Calculate the number of total number of possessions for your team using the formula: field goals attempted - offensive rebounds + turnovers + (0.4 x free throws attempted) = total number of possessions for the season. This works because a possession can end only in one of three ways: an attempted field goal, a turnover or a free throw, with an offensive rebound negating additional field goal attempts.\n",
    "\n",
    "Divide the team's total points scored for the season by the possessions you calculated in Step 1. For example, 938 total points scored divided by 998 total possessions gives your team 0.94 points scored per possession. Numbers above 1.0 are generally considered good.\n",
    "\n",
    "Convert the offensive PPP number to an efficiency rating by simply multipling by 100. So 0.94 points scored per possession becomes an offensive efficiency rating of 94.\n",
    "\n",
    "#### Defensive Efficiency\n",
    "\n",
    "Use the formula field goals attempted - offensive rebounds + turnovers + (0.4 x free throws attempted) = total number of possessions for the season to calculate total team possessions.\n",
    "\n",
    "Divide the total number of points allowed by your team by the possession total you calculated in Step 1. For example, 1009 total points allowed divided by 998 total possessions gives your team 1.01 points allowed per possession. The opposite is true for defensive PPP: Above 1.0 is bad; below 1.0 is considered good.\n",
    "\n",
    "Convert defensive points per possession to a defensive efficiency rating by multiplying by 100. So 1.01 points allowed per possession becomes a defensive efficiency rating of 101.\n",
    "\n"
   ]
  },
  {
   "cell_type": "code",
   "execution_count": null,
   "id": "1f3b2981-89f4-48e9-8dc4-acae9ddd4259",
   "metadata": {},
   "outputs": [],
   "source": []
  },
  {
   "cell_type": "code",
   "execution_count": 339,
   "id": "1fd46f41-8033-4444-b346-7c34870ab020",
   "metadata": {},
   "outputs": [],
   "source": [
    "def combine2(w_dict, l_dict):\n",
    "    '''\n",
    "    Parameters: winnign dictioanry, losing dictionary \n",
    "    \n",
    "    combining the dictioanries for games won and games lost \n",
    "    for the regular season for teams. we will then combine them \n",
    "    and get averages for each statistical category and compute \n",
    "    things like offensive and defensive efficiency. \n",
    "    \n",
    "    -- NOTE: if we use one of the efficiency metrics, we will not\n",
    "    be able to use the features that are inputs to that column. \n",
    "    because as given, the efficiency is simply a linear combination\n",
    "    of other features, this will make our matrix non-invertable as our \n",
    "    columns will not be independent, so we will have to choose to either \n",
    "    keep all of the features seperate or combine and drop some \n",
    "    \n",
    "    '''\n",
    "    \n",
    "    \n",
    "    total = {}\n",
    "    first = reg_deets.WTeamID.min()\n",
    "    last = reg_deets.WTeamID.max()+1\n",
    "    \n",
    "    features = ['WScore', 'LScore', 'WFGM', 'WFGA', 'WFGM3','WFGA3', 'WFTM', 'WFTA', 'WOR',\n",
    "                'WTO',\n",
    "            'WDR', 'WAst', 'WStl', 'WBlk', 'WPF', 'LFGM', 'LFGA', 'LFGM3', 'LFGA3',\n",
    "       'LFTM', 'LFTA', 'LOR', 'LDR', 'LAst', 'LTO', 'LStl', 'LBlk', 'LPF',]\n",
    "    \n",
    "    #for each team from the frist teamID to the last one \n",
    "    for i in tqdm(range(first, last+1)):\n",
    "    #for i in range(first, last+1):\n",
    "        #print(i)\n",
    "            \n",
    "        season = {}\n",
    "        f_season = 2003 #pd.DataFrame(w_dict[1102]).T.index.min()\n",
    "        l_season = year_ #pd.DataFrame(w_dict[1102]).T.index.max()+1\n",
    "        w_l = {}\n",
    "        for j in range(f_season, l_season+1):\n",
    "            #print(j)\n",
    "            try:\n",
    "                w_df = pd.DataFrame(w_dict[i]).T\n",
    "                l_df = pd.DataFrame(l_dict[i]).T\n",
    "\n",
    "                w_df_r = w_df.reset_index()\n",
    "                l_df_r = l_df.reset_index()\n",
    "\n",
    "\n",
    "\n",
    "                temp  = pd.concat([w_df_r[w_df_r['index'] == j],l_df_r[l_df_r['index'] == j]])\n",
    "                temp = temp.fillna(0)\n",
    "\n",
    "                games = np.sum(temp['season_losses'])+np.sum(temp['season_wins'])\n",
    "\n",
    "                #temp[features].sum(axis = 0)/games\n",
    "                season_avg = dict(temp[features].sum(axis = 0)/games)\n",
    "\n",
    "                w_l.update({'num_loss': np.sum(temp['season_losses'])})\n",
    "                w_l.update({'num_wins': np.sum(temp['season_wins'])})\n",
    "\n",
    "                season_avg = season_avg|w_l\n",
    "\n",
    "\n",
    "                new_key = ['Score', 'Op_score', 'FGM', 'FGA', 'FGM3', 'FGA3', 'FTM', 'FTA', 'OR', 'TO', \n",
    "               'DR', 'Ast', 'Stl', 'Blk', 'PF', 'Op_FGM', 'Op_FGA', 'Op_FGM3', 'Op_FGA3', \n",
    "               'Op_FTM', 'Op_FTA', 'Op_OR', 'Op_DR', 'Op_Ast', 'Op_TO', 'Op_Stl', \n",
    "               'Op_Blk', 'Op_PF', 'num_loss', 'num_wins', 'conf']\n",
    "\n",
    "                vals = list(season_avg.values())\n",
    "                #print(vals)\n",
    "                new = dict(zip(new_key, vals))\n",
    "                off_eff = (new['FGA'] - new['OR']+new['Op_TO']+(0.47*new['FTA']))/(new['Score'])*100\n",
    "                new.update({'off_eff':off_eff})\n",
    "\n",
    "                def_eff = (new['Op_FGA'] - new['Op_OR']+new['TO']+(0.47*new['Op_FTA']))/(new['Op_score'])*100\n",
    "                new.update({'def_eff':def_eff})\n",
    "\n",
    "                equalizer = (new['FGM3']/new['FGA3'])*100\n",
    "                new.update({'three_perc':equalizer})\n",
    "\n",
    "                d_equal = (new['Op_FGM3']/new['Op_FGA3'])*100\n",
    "                new.update({'d_three_perc':d_equal})\n",
    "\n",
    "                #print(vals)\n",
    "                #season.update({j:  season_avg})\n",
    "                season.update({j:  new})\n",
    "\n",
    "\n",
    "\n",
    "            except:\n",
    "                #print(i)\n",
    "                pass\n",
    "    \n",
    "        total.update({i:season})\n",
    "    return total "
   ]
  },
  {
   "cell_type": "code",
   "execution_count": 340,
   "id": "6b4db5eb-5e2e-453d-86d5-e799035c93f5",
   "metadata": {},
   "outputs": [
    {
     "name": "stderr",
     "output_type": "stream",
     "text": [
      "100%|█████████████████████████████████████████| 378/378 [00:51<00:00,  7.36it/s]\n"
     ]
    }
   ],
   "source": [
    "total_dict = combine2(w_feats, l_feats)"
   ]
  },
  {
   "cell_type": "code",
   "execution_count": null,
   "id": "873e1ab4-be31-48e7-8199-afddd4d3fef0",
   "metadata": {},
   "outputs": [],
   "source": []
  },
  {
   "cell_type": "code",
   "execution_count": 341,
   "id": "94461a5d-1e15-49fc-b187-d0b18a4f472f",
   "metadata": {},
   "outputs": [],
   "source": [
    "def get_conf_dict(df):\n",
    "    \n",
    "    '''\n",
    "    Many of the tournament titles are played on \"Selection Sunday\"\n",
    "    the day the tournament is seeded.  others are played throughout\n",
    "    \"Championship Week\". We will need to find a way to group by \n",
    "    conference and select the winner on the last day a game was played \n",
    "    for a particular conference \n",
    "\n",
    "    '''\n",
    "    \n",
    "    conf_champ = conf_tour.groupby([\"Season\", \"ConfAbbrev\"])[\"DayNum\"].max() \n",
    "    \n",
    "    cdf = pd.DataFrame(conf_champ).reset_index()\n",
    "    cdf2 = pd.merge(left = cdf, right = conf_tour, on = ['Season', 'ConfAbbrev', 'DayNum'])\n",
    "    cdf2 = cdf2.drop(columns = ['LTeamID'])\n",
    "    \n",
    "    teams = {}\n",
    "    cdf2 = pd.DataFrame(cdf2.groupby('Season'))\n",
    "    for i in tqdm(range(len(cdf2))):\n",
    "        #print(i)\n",
    "        season = cdf2[1][i]\n",
    "        year = cdf2[0][i]\n",
    "        champs = dict(zip(cdf2[1][i]['WTeamID'],cdf2[1][i]['ConfAbbrev']))\n",
    "        teams.update({year: champs})\n",
    "\n",
    "    return teams, cdf2\n",
    "        "
   ]
  },
  {
   "cell_type": "code",
   "execution_count": 342,
   "id": "5192b65e-8f5a-4a97-8e7a-50c09e571031",
   "metadata": {},
   "outputs": [],
   "source": [
    "# conf_champ = conf_tour.groupby([\"Season\", \"ConfAbbrev\"])[\"DayNum\"].max() \n",
    "# cdf = pd.DataFrame(conf_champ).reset_index()\n",
    "# cdf"
   ]
  },
  {
   "cell_type": "code",
   "execution_count": 343,
   "id": "72fa715b-6c24-46bb-9569-6a1abd3f9633",
   "metadata": {},
   "outputs": [
    {
     "name": "stderr",
     "output_type": "stream",
     "text": [
      "100%|████████████████████████████████████████| 23/23 [00:00<00:00, 10044.67it/s]\n"
     ]
    }
   ],
   "source": [
    "conf_champs, cdf2 = get_conf_dict(conf_tour)\n"
   ]
  },
  {
   "cell_type": "code",
   "execution_count": null,
   "id": "53bc0aa6-7430-4a58-9796-78484d09064d",
   "metadata": {},
   "outputs": [],
   "source": []
  },
  {
   "cell_type": "code",
   "execution_count": 344,
   "id": "9919b114-5d64-4488-ad24-34d8c4022976",
   "metadata": {},
   "outputs": [],
   "source": [
    "def get_conf_affiliation_dict(df):\n",
    "    '''\n",
    "    Parameters: Regular deets 2 which has been merged with the \n",
    "    conference tournament data to get the conference afiiliatoin \n",
    "    by season by team\n",
    "    As teams can  move conferences from year to year, it is unclear \n",
    "    if the marginal change affects teams, but we wanted to gather the \n",
    "    confernece affect and then group them into power, mid major and \n",
    "    low major levels to be done later \n",
    "    \n",
    "    \n",
    "    '''\n",
    "    reg_deets2\n",
    "    t1 = pd.DataFrame(df.groupby(\"Season\"))\n",
    "    cf = {}\n",
    "    for i in range(len(t1)):\n",
    "        \n",
    "        d1 = dict(zip(t1[1][i]['WTeamID'], t1[1][i]['WTeam_Conf']))\n",
    "        d2 = dict(zip(t1[1][i]['LTeamID'], t1[1][i]['LTeam_Conf']))\n",
    "        d3 =d1|d2\n",
    "        cf.update({t1[0][i]:d3})\n",
    "    \n",
    "        \n",
    "    return cf\n",
    "    \n",
    "\n"
   ]
  },
  {
   "cell_type": "code",
   "execution_count": 345,
   "id": "7b3f6055-57b8-44e9-acd8-bc0bef2198d6",
   "metadata": {},
   "outputs": [],
   "source": [
    "conf_affil = get_conf_affiliation_dict(reg_deets2)"
   ]
  },
  {
   "cell_type": "code",
   "execution_count": 346,
   "id": "86ab1b57-f01a-48df-b60e-5fa7e6ca9683",
   "metadata": {},
   "outputs": [],
   "source": [
    "def create_power_seeds_dict(df):\n",
    "    \n",
    "    #first add team id to TeamNamein power seeds \n",
    "    \n",
    "    teams2 = teams_df[['TeamID', 'TeamName']]\n",
    "    \n",
    "    df2 = pd.merge(left = df, right = teams2, on = 'TeamName') \n",
    "    \n",
    "    df2.to_csv('../data/power_test.csv')\n",
    "    ps1 = pd.DataFrame(df2.groupby(by = \"Season\"))\n",
    "    empty = {}\n",
    "\n",
    "    for i in range(len(ps1)):\n",
    "        empty.update({ps1[0][i]: dict(zip(ps1[1][i]['TeamID'], ps1[1][i]['PowerSeed ']))})\n",
    "\n",
    "\n",
    "    return empty"
   ]
  },
  {
   "cell_type": "code",
   "execution_count": 347,
   "id": "7f18c88f-8c7d-4116-9e73-fc8bff2a04ba",
   "metadata": {},
   "outputs": [],
   "source": [
    "psd  = create_power_seeds_dict(power_seeds)"
   ]
  },
  {
   "cell_type": "code",
   "execution_count": null,
   "id": "70edf967-fad2-463b-a13c-0168bc7f7c40",
   "metadata": {},
   "outputs": [],
   "source": []
  },
  {
   "cell_type": "code",
   "execution_count": 348,
   "id": "0d37922e-fd32-4ae5-9921-fb64045e75b3",
   "metadata": {},
   "outputs": [],
   "source": [
    "def get_power_seeds_tourney(df):\n",
    "    ''' takes in tourney_deets and gets L team and w team power seeds\n",
    "    \n",
    "    TIP: 134, 135 are play in days \n",
    "    '''\n",
    "    \n",
    "    \n",
    "    df = df[df['DayNum']  >= 137]\n",
    "    df = df.reset_index()\n",
    "    df = df.drop(columns =['index'])\n",
    "    \n",
    "    lteam = []\n",
    "    wteam = []\n",
    "    for i in tqdm(range(len(df))):\n",
    "        #print(i)\n",
    "        try: \n",
    "            lteam.append(psd[df['Season'][i]][df['LTeamID'][i]])\n",
    "            wteam.append(psd[df['Season'][i]][df['WTeamID'][i]])\n",
    "            #pass\n",
    "        except:  \n",
    "            print(df['Season'][i])\n",
    "            print(i)\n",
    "            print(df['LTeamID'][i])\n",
    "            print(\" \")\n",
    "            #wteam.append(\"error\")\n",
    "            #lteam.append('error')\n",
    "            #pass\n",
    "    df['lteam_seed'] = lteam\n",
    "    df['wteam_seed'] = wteam\n",
    "    \n",
    "    df = df.reset_index()\n",
    "    df = df.drop(columns = ['index'])\n",
    "    return df \n",
    "    \n",
    "    "
   ]
  },
  {
   "cell_type": "code",
   "execution_count": 349,
   "id": "a8298eda-0684-4b1c-ad10-e2de677e5e93",
   "metadata": {},
   "outputs": [
    {
     "name": "stderr",
     "output_type": "stream",
     "text": [
      "100%|██████████████████████████████████████| 908/908 [00:00<00:00, 48259.26it/s]\n"
     ]
    }
   ],
   "source": [
    "tour2 = get_power_seeds_tourney(tourney_deets)"
   ]
  },
  {
   "cell_type": "code",
   "execution_count": null,
   "id": "969a8f98-8209-467d-bb5f-45c5b61c05e5",
   "metadata": {},
   "outputs": [],
   "source": []
  },
  {
   "cell_type": "code",
   "execution_count": 350,
   "id": "2fa20aba-d973-4136-86d1-ed6bb1bfbf3b",
   "metadata": {},
   "outputs": [],
   "source": [
    "def prep_data(df):\n",
    "    df = df.reset_index()\n",
    "    ''' \n",
    "    takes in tourney_deets df and \n",
    "    renames columns based on seeding of low and high seeds\n",
    "    instead of winning and losing teams, this way our \n",
    "    model will not just memorize the order of columns and that \n",
    "    will tell the computer who won. And the games we have haven't \n",
    "    happened yet so like it doesnt even make sense to run that way lol \n",
    "    \n",
    "    \n",
    "    ''' \n",
    "    \n",
    "    fav = {'Season':'Season', 'DayNum':'DayNum',\n",
    "           \n",
    "           'WTeamID':'HSTeamID', \n",
    "           'LTeamID':'LSTeamID', 'WLoc':'WLoc', 'NumOT':'NumOT', \n",
    "       \n",
    "       'WFGM':'HSFGM', 'WFGA':'HSFGA', 'WFGM3':'HSFGM3', \n",
    "       'WFGA3':'HSFGA3', 'WFTM':'HSFTM', 'WFTA':'HSFTA', \n",
    "       'WOR':'HSOR', 'WDR':'HSDR', 'WAst':'HSAst', \n",
    "       'WTO':'HSTO', 'WStl':'HSStl', 'WBlk':'HSBlk', \n",
    "       'WPF':'HSPF', \"WScore\":\"HS_Score\", \n",
    "       \n",
    "       'LFGM':'LSFGM', 'LFGA':'LSFGA', 'LFGM3':'LSFGM3', \n",
    "       'LFGA3':'LSFGA3', 'LFTM':'LSFTM', 'LFTA':'LSFTA', \n",
    "       'LOR':'LSOR', 'LDR':'LSDR', 'LAst':'LSAst', \n",
    "       'LStl':'LSStl', 'LBlk':'LSBlk', 'LPF':'LSPF', \n",
    "        'LTO':'LSTO', \"LScore\":\"LS_Score\", \n",
    "       \n",
    "       \n",
    "       \n",
    "       'lteam_seed':'ls_seed', 'wteam_seed':'ws_seed'}\n",
    "    \n",
    "    up = {'Season':'Season', 'DayNum':'DayNum', 'WTeamID':'LSTeamID', \n",
    "       'LTeamID':'HSTeamID', 'WLoc':'WLoc', 'NumOT':'NumOT', \n",
    "      \n",
    "       'WFGM':'LSFGM', 'WFGA':'LSFGA', 'WFGM3':'LSFGM3', \n",
    "       'WFGA3':'LSFGA3', 'WFTM':'LSFTM', 'WFTA':'LSFTA', \n",
    "       'WOR':'LSOR', 'WDR':'LSDR', 'WAst':'LSAst', \n",
    "       'WTO':'LSTO', 'WStl':'LSStl', 'WBlk':'LSBlk', \n",
    "       'WPF':'LSPF', \"WScore\":\"LS_Score\", \n",
    "       \n",
    "       'LFGM':'HSFGM', 'LFGA':'HSFGA', 'LFGM3':'HSFGM3', \n",
    "       'LFGA3':'HSFGA3', 'LFTM':'HSFTM', 'LFTA':'HSFTA', \n",
    "       'LOR':'HSOR', 'LDR':'HSDR', 'LAst':'HSAst', \n",
    "       'LStl':'HSStl', 'LBlk':'HSBlk', 'LPF':'HSPF',\n",
    "       'LTO':'HSTO', \"LScore\":\"HS_Score\", \n",
    "       \n",
    "       'lteam_seed':'ls_seed', 'wteam_seed':'ws_seed'}\n",
    "    \n",
    "    cols = list(fav.values())\n",
    "    empty = pd.DataFrame(columns = cols)\n",
    "    \n",
    "    for i in range(len(df)):\n",
    "  \n",
    "        if df['wteam_seed'][i] < df['lteam_seed'][i]:\n",
    "            #then the favorite won, apply favorite dictionary \n",
    "            \n",
    "            row = df.iloc[[i]]\n",
    "            row = row.rename(columns = fav)\n",
    "            empty = pd.concat([empty, row])\n",
    "        else:\n",
    "            #apply upset_dictioanry \n",
    "            row = df.iloc[[i]]\n",
    "            row = row.rename(columns = up)\n",
    "            empty = pd.concat([empty, row])\n",
    "            \n",
    "    \n",
    "    empty = empty.drop(columns = ['index'])\n",
    "    return empty \n",
    "            "
   ]
  },
  {
   "cell_type": "code",
   "execution_count": 351,
   "id": "ca501fe2-186d-4f19-ae0c-78af823d2366",
   "metadata": {},
   "outputs": [],
   "source": [
    "tour3 = prep_data(tour2)"
   ]
  },
  {
   "cell_type": "code",
   "execution_count": 352,
   "id": "c3877087-c26e-4623-94ff-d402cef1978a",
   "metadata": {},
   "outputs": [],
   "source": [
    "#\n",
    "def power_seed_2(df):\n",
    "    '''\n",
    "    up until this pointwe have been using winning vs losing team id's \n",
    "    we now are transitioning into lower vs higher seed id. \n",
    "    '''\n",
    "    \n",
    "    high = []\n",
    "    low = []\n",
    "    for i in tqdm(range(len(df))):\n",
    "        low.append(psd[df['Season'][i]][df['LSTeamID'][i]])\n",
    "        high.append(psd[df['Season'][i]][df['HSTeamID'][i]])\n",
    "            #pass\n",
    "    df['LS_power_seed'] = low\n",
    "    df['HS_power_seed'] = high\n",
    "    \n",
    "    return df \n",
    "    "
   ]
  },
  {
   "cell_type": "code",
   "execution_count": 353,
   "id": "d43778c4-3fe3-4f6b-afb6-f7364bb62454",
   "metadata": {},
   "outputs": [
    {
     "name": "stderr",
     "output_type": "stream",
     "text": [
      "100%|██████████████████████████████████████| 908/908 [00:00<00:00, 44990.29it/s]\n"
     ]
    }
   ],
   "source": [
    "tour3 = power_seed_2(tour3)"
   ]
  },
  {
   "cell_type": "code",
   "execution_count": 354,
   "id": "bb2b2116-7255-48a6-9a44-b7ed3f6c6551",
   "metadata": {},
   "outputs": [],
   "source": [
    "def get_historical_tourney_perc(df):\n",
    "    ''' so im at this problem where I cant really use team ID as a dummy column \n",
    "    if I want to do a supervized learning technique, the problem being that \n",
    "    I would have a massive amount of columns, which would then make inverting \n",
    "    it very difficult, I would get a massive number of empty columns, so my data\n",
    "    would get very sparce very quickly. \n",
    "    \n",
    "    the reason I wanted to use team id would be for the program to have some sort of \n",
    "    way to recognize teams that do well across the tournament, Duke, Kentucky, and \n",
    "    teams of that nature come to mind. \n",
    "    \n",
    "    Going to build a dictionary with historical win percentages in the tournament. \n",
    "    \n",
    "    we will start from 1985, and go until 2003, and that will be the win percentage for \n",
    "    teams going into the 2003 tournament. Then we will have each year from 2003 onwards \n",
    "    will be its own year, and will be updated according to the wins and losses of the previous \n",
    "    tournament.\n",
    "    \n",
    "    this way we do not bias the results by including games that have already happened \n",
    "    for historical tournaments. \n",
    "    ''' \n",
    "    \n",
    "    # first read in the compact results for the NCAA tournament going back to 1985 \n",
    "    \n",
    "    keys = list(range(2003, year_+1))\n",
    "    #print(keys)\n",
    "    t_perc = {}\n",
    "    for i in range(len(keys)):\n",
    "        #initialize dict \n",
    "        season = {}\n",
    "        #find historical seasons \n",
    "        c_tour = df[df['Season'] < keys[i]]\n",
    "        \n",
    "        year = keys[i]\n",
    "        \n",
    "        wins = c_tour['WTeamID'].value_counts().reset_index()\n",
    "        losses = c_tour['LTeamID'].value_counts().reset_index()\n",
    "        \n",
    "        w_l = pd.merge(left = wins, right = losses, on = 'index')\n",
    "        w_l['total_games'] = w_l['WTeamID']+w_l['LTeamID']\n",
    "        \n",
    "        w_l['win_perc'] = w_l['WTeamID']/w_l['total_games']\n",
    "        \n",
    "        w_l['Season'] = year\n",
    "        year_dict = dict(zip(w_l['index'], w_l['win_perc']))\n",
    "        \n",
    "        t_perc.update({year:year_dict})\n",
    "        \n",
    "        \n",
    "    return t_perc      "
   ]
  },
  {
   "cell_type": "code",
   "execution_count": 355,
   "id": "8cc4b719-2ea4-42eb-b080-dce216fcf7b4",
   "metadata": {},
   "outputs": [],
   "source": [
    "tw = get_historical_tourney_perc(compact)"
   ]
  },
  {
   "cell_type": "code",
   "execution_count": null,
   "id": "f757d75a-411c-46c2-9a0a-6a7edd5a0f8e",
   "metadata": {},
   "outputs": [],
   "source": []
  },
  {
   "cell_type": "code",
   "execution_count": 356,
   "id": "8852794e-3d7d-41bb-a601-d395bc534f46",
   "metadata": {},
   "outputs": [],
   "source": [
    "#create page rank data \n",
    "def make_page_data(df):\n",
    "    \"\"\"\n",
    "    Parameters: takes in regular season compact details, \n",
    "    \n",
    "    we want to calculate page rank: \n",
    "    \n",
    "    Page rank is a google algorithm which is a network theory \n",
    "    result basically giving you the degree centrality for the \n",
    "    different nodes in the network. \n",
    "    \n",
    "    here our nodes are teams, and the edges are if they played. \n",
    "    we want to know which teams beat which teams who beat which \n",
    "    teams, there by we can get some sort of degree centrality for \n",
    "    the team that beat the most powerful teams... \n",
    "    \n",
    "    we need to get the yearly winners and loosers for the page rank\n",
    "    structure we have from a homework assignment i did back in like \n",
    "    2018. So we get the by year regular season data, store that in \n",
    "    individual sheets which will then be fed into our page rank \n",
    "    algorithm to give us a by year by team page rank value\n",
    "    \n",
    "    \"\"\"\n",
    "    \n",
    "    for i in tqdm(range(2003, year_+1)):\n",
    "        season = df[df['Season'] == i]\n",
    "        \n",
    "        data = season[['WTeamID', \"LTeamID\"]]\n",
    "        data = data.rename(columns = {\"WTeamID\":'Winner', 'LTeamID':'Loser'})\n",
    "        data.to_csv('../data/page_rank_data/'+str(i)+\"_page_data.csv\", index = False)"
   ]
  },
  {
   "cell_type": "code",
   "execution_count": 357,
   "id": "4aa0bb29-a4ab-4f5f-86d6-dc17dac9e860",
   "metadata": {},
   "outputs": [
    {
     "name": "stderr",
     "output_type": "stream",
     "text": [
      "100%|███████████████████████████████████████████| 21/21 [00:00<00:00, 57.87it/s]\n"
     ]
    }
   ],
   "source": [
    "make_page_data(reg_deets)"
   ]
  },
  {
   "cell_type": "code",
   "execution_count": 358,
   "id": "20c203dc-8f5b-4592-b8e4-d7c324d7e3ec",
   "metadata": {},
   "outputs": [],
   "source": [
    "# Problems 1-2\n",
    "# Shout out to Dr Evans for making me do this homework lol \n",
    "\n",
    "class DiGraph:\n",
    "    \"\"\"A class for representing directed graphs via their adjacency matrices.\n",
    "\n",
    "    Attributes:\n",
    "        (fill this out after completing DiGraph.__init__().)\n",
    "    \"\"\"\n",
    "    # Problem 1\n",
    "    def __init__(self, A, labels=None):\n",
    "        \"\"\"Modify A so that there are no sinks in the corresponding graph,\n",
    "        then calculate Ahat. Save Ahat and the labels as attributes.\n",
    "\n",
    "        Parameters:\n",
    "            A ((n,n) ndarray): the adjacency matrix of a directed graph.\n",
    "                A[i,j] is the weight of the edge from node j to node i.\n",
    "            labels (list(str)): labels for the n nodes in the graph.\n",
    "                If None, defaults to [0, 1, ..., n-1].\n",
    "        \"\"\"\n",
    "        for i in range(len(A)):\n",
    "            if(np.allclose(A[:,i],np.zeros(len(A[0])))):\n",
    "                #remove sink\n",
    "                A[:,i] = 1\n",
    "        #create ahat\n",
    "        self.Ahat =  A / A.sum(axis=0)\n",
    "        #get length of A\n",
    "        self.n = len(A)\n",
    "        #if no labels\n",
    "        if labels == None:\n",
    "            #Set standard\n",
    "            self.labels = np.arange(0,len(A))\n",
    "        else:\n",
    "            #otherwise use labels\n",
    "            self.labels = labels\n",
    "            #throw an error if it dosn't match\n",
    "        if len(A) != len(self.labels):\n",
    "            raise ValueError(\"Number of labels is not equal to the number of nodes\")\n",
    "\n",
    "\n",
    "    # Problem 2\n",
    "    def linsolve(self, epsilon=0.85):\n",
    "        \"\"\"Compute the PageRank vector using the linear system method.\n",
    "\n",
    "        Parameters:\n",
    "            epsilon (float): the damping factor, between 0 and 1.\n",
    "\n",
    "        Returns:\n",
    "            dict(str -> float): A dictionary mapping labels to PageRank values.\n",
    "        \"\"\"\n",
    "        #find values\n",
    "        p = la.solve(np.identity(self.n)-epsilon*self.Ahat,(1-epsilon)*np.ones(self.n)/self.n)\n",
    "        #make a dictionary\n",
    "        dict = {self.labels[i]:p[i] for i in range(self.n)}\n",
    "        return dict\n",
    "\n",
    "    # Problem 2\n",
    "    def eigensolve(self, epsilon=0.85):\n",
    "        \"\"\"Compute the PageRank vector using the eigenvalue method.\n",
    "        Normalize the resulting eigenvector so its entries sum to 1.\n",
    "\n",
    "        Parameters:\n",
    "            epsilon (float): the damping factor, between 0 and 1.\n",
    "\n",
    "        Return:\n",
    "            dict(str -> float): A dictionary mapping labels to PageRank values.\n",
    "        \"\"\"\n",
    "        #make B\n",
    "        B = epsilon*self.Ahat+(1-epsilon)/self.n*np.ones((self.n,self.n))\n",
    "        #get eig stuff\n",
    "        eigvals, eigvects = la.eig(B)\n",
    "        #get the eig vector for the largest value\n",
    "        p = eigvects[:,0].real\n",
    "        #normalize it\n",
    "        p = p/p.sum()\n",
    "        #make a dictionary\n",
    "        D = {self.labels[i]:p[i] for i in range(self.n)}\n",
    "        #return the dictionary\n",
    "        return D\n",
    "\n",
    "    # Problem 2\n",
    "    def itersolve(self, epsilon=0.85, maxiter=100, tol=1e-12):\n",
    "        \"\"\"Compute the PageRank vector using the iterative method.\n",
    "\n",
    "        Parameters:\n",
    "            epsilon (float): the damping factor, between 0 and 1.\n",
    "            maxiter (int): the maximum number of iterations to compute.\n",
    "            tol (float): the convergence tolerance.\n",
    "\n",
    "        Return:\n",
    "            dict(str -> float): A dictionary mapping labels to PageRank values.\n",
    "        \"\"\"\n",
    "        t = 0\n",
    "        #set p\n",
    "        p = [1/self.n for n in range(self.n)]\n",
    "        #while loop\n",
    "        while t < maxiter:\n",
    "            t += 1\n",
    "            #get the next p\n",
    "            pt = epsilon*self.Ahat@p + (1 - epsilon)*np.ones(self.n)/self.n\n",
    "            #stop if it meets the stopping condition\n",
    "            if(la.norm(pt - p, ord=1) < tol):\n",
    "                break\n",
    "            #otherwise reset\n",
    "            p = pt\n",
    "        #create the dictionary\n",
    "        D = {self.labels[i]:pt[i] for i in range(self.n)}\n",
    "        #return the dicitonary\n",
    "        return D\n",
    "\n",
    "# Problem 3\n",
    "def get_ranks(d):\n",
    "    \"\"\"Construct a sorted list of labels based on the PageRank vector.\n",
    "\n",
    "    Parameters:\n",
    "        d (dict(str -> float)): a dictionary mapping labels to PageRank values.\n",
    "\n",
    "    Returns:\n",
    "        (list) the keys of d, sorted by PageRank value from greatest to least.\n",
    "    \"\"\"\n",
    "    #get the keys\n",
    "    keys = np.array(list(d.keys()))\n",
    "    #get the values\n",
    "    values = list(d.values())\n",
    "    #create a mask\n",
    "    mask = np.array(np.argsort(values)[::-1])\n",
    "    #return the stuff\n",
    "    return list(keys[mask])\n",
    "\n",
    "# Problem 5\n",
    "def rank_ncaa_teams(filename, epsilon=0.85):\n",
    "    \"\"\"Read the specified file and construct a graph where node j points to\n",
    "    node i with weight w if team j was defeated by team i in w games. Use the\n",
    "    DiGraph class and its itersolve() method to compute the PageRank values of\n",
    "    the teams, then rank them with get_ranks().\n",
    "\n",
    "    Each line of the file has the format\n",
    "        A,B\n",
    "    meaning team A defeated team B.\n",
    "\n",
    "    Parameters:\n",
    "        filename (str): the name of the data file to read.\n",
    "        epsilon (float): the damping factor, between 0 and 1.\n",
    "\n",
    "    Returns:\n",
    "        (list(str)): The ranked list of team names.\n",
    "    \"\"\"\n",
    "    labels = []\n",
    "    with open(filename,'r') as infile:\n",
    "        content = infile.read().strip()\n",
    "    #print(content)\n",
    "    labels = sorted(set(content.replace('\\n',',').split(',')))\n",
    "    labels.remove(\"Loser\")\n",
    "    labels.remove(\"Winner\")\n",
    "    #init dictionary\n",
    "    Dict = {team: i for i, team in enumerate(labels)}\n",
    "    #init adjacency matrix\n",
    "    A = np.zeros((len(labels), len(labels)))\n",
    "    #get the information from the lines\n",
    "    for line in content.split('\\n')[1:]:\n",
    "        teams = line.split(',')\n",
    "        row = Dict[teams[0]]\n",
    "        column = Dict[teams[1]]\n",
    "        A[row][column] += 1\n",
    "    D = DiGraph(A, labels=labels)\n",
    "    #get the page rank\n",
    "    PageRank_ = D.itersolve(epsilon = epsilon)\n",
    "    #return the stuff\n",
    "    #print(PageRank_)\n",
    "    return PageRank_, get_ranks(PageRank_)\n",
    "\n",
    "\n"
   ]
  },
  {
   "cell_type": "code",
   "execution_count": 359,
   "id": "dd7c5e90-91f0-4b83-997c-db65977344e9",
   "metadata": {},
   "outputs": [],
   "source": [
    "def get_page_rank():\n",
    "    '''\n",
    "    we take the page rank algorithm from above \n",
    "    which takes in the page rank data that we have saved \n",
    "    previously. \n",
    "    \n",
    "    it will then return a dictionary of seasons \n",
    "    which will have a dicitonary of teams and their \n",
    "    degree centrality (page rank), which we will then \n",
    "    use as a feature for our algorithm later on \n",
    "    \n",
    "    '''\n",
    "    \n",
    "    page_data = {}\n",
    "    teams_rank = {}\n",
    "    path = '../data/page_rank_data/'\n",
    "    for i in range(2003, year_+1):\n",
    "        full_path = path+str(i)+\"_page_data.csv\"\n",
    "        #year_data = pd.read_csv(full_path)\n",
    "        \n",
    "        year_page, ranked = rank_ncaa_teams(full_path)\n",
    "        \n",
    "        page_data.update({i:year_page})\n",
    "        teams_rank.update({i:ranked})\n",
    "        \n",
    "    return page_data, teams_rank\n",
    "            "
   ]
  },
  {
   "cell_type": "code",
   "execution_count": 360,
   "id": "8230dea6-f7f6-491a-b0e6-9299c511b7d5",
   "metadata": {},
   "outputs": [],
   "source": [
    "page_rank, teams_rank = get_page_rank()"
   ]
  },
  {
   "cell_type": "code",
   "execution_count": null,
   "id": "45d5e1ef-e58f-456e-8731-8455d72b3180",
   "metadata": {},
   "outputs": [],
   "source": []
  },
  {
   "cell_type": "code",
   "execution_count": 361,
   "id": "33469758-4085-4899-badc-92665015f6ac",
   "metadata": {},
   "outputs": [],
   "source": [
    "def get_round(df):\n",
    "    '''\n",
    "    takes in tournament data, assigns a categorical \n",
    "    variable based on DayNum for the round \n",
    "    \n",
    "    DayNum=136 or 137 (Thu/Fri) - Round 1, to bring the tournament field from 64 teams to 32 teams\n",
    "    DayNum=138 or 139 (Sat/Sun) - Round 2, to bring the tournament field from 32 teams to 16 teams\n",
    "    DayNum=143 or 144 (Thu/Fri) - Round 3, otherwise known as \"Sweet Sixteen\", to bring the tournament field from 16 teams to 8 teams\n",
    "    DayNum=145 or 146 (Sat/Sun) - Round 4, otherwise known as \"Elite Eight\" or \"regional finals\", to bring the tournament field from 8 teams to 4 teams\n",
    "    DayNum=152 (Sat) - Round 5, otherwise known as \"Final Four\" or \"national semifinals\", to bring the tournament field from 4 teams to 2 teams\n",
    "    DayNum=154 (Mon) - Round 6, otherwise known as \"national final\" or \"national championship\", to bring the tournament field from 2 teams to 1 champion team\n",
    "    '''\n",
    "    \n",
    "    df['first_round'] = df['DayNum'].apply(lambda x: 1 if x in [136, 137] else 0)\n",
    "    df['second_round'] = df['DayNum'].apply(lambda x: 1 if x in [138, 139] else 0)\n",
    "    df['sweet_16'] = df['DayNum'].apply(lambda x: 1 if x in [143, 144] else 0)\n",
    "    df['elite_8'] = df['DayNum'].apply(lambda x: 1 if x in [145, 146] else 0)\n",
    "    df['final_four'] = df['DayNum'].apply(lambda x: 1 if x == 152 else 0)\n",
    "    df['championship'] = df['DayNum'].apply(lambda x: 1 if x == 154 else 0)\n",
    "    \n",
    "    return df "
   ]
  },
  {
   "cell_type": "code",
   "execution_count": 362,
   "id": "49289aca-0c47-4982-a245-985f54ec27b2",
   "metadata": {},
   "outputs": [],
   "source": [
    "tour4 = get_round(tour3)"
   ]
  },
  {
   "cell_type": "code",
   "execution_count": 363,
   "id": "c70ea712-c99c-4f30-9770-4a34602a92c4",
   "metadata": {},
   "outputs": [],
   "source": [
    "def get_reg_avgs2(df):\n",
    "    \"\"\"\n",
    "    Parameters: Tournament details that has gone through the \n",
    "    cleaning and prepping phases highlighted above \n",
    "    \n",
    "    ADDITIONALLY: Although not a direct input, but another parameter is the total_dict \n",
    "    that we have build to have the regular season averages by team\n",
    "    by season, that will be used to fill the different features, \n",
    "    change those from the actual \"in game\" values to regular season \n",
    "    average values, and then we will add some more features here and \n",
    "    a few later on. \n",
    "    \n",
    "    Creating the features that we want for our modeling df --> \n",
    "    ready go! \n",
    "    \n",
    "    \"\"\"  \n",
    "    df['HS_avg_score'] = df.apply(lambda x: total_dict[x['HSTeamID']][x['Season']]['Score'], axis = 1)\n",
    "    df['HS_avg_against'] = df.apply(lambda x: total_dict[x['HSTeamID']][x['Season']]['Op_score'], axis = 1)\n",
    "    \n",
    "    df['LS_avg_score'] = df.apply(lambda x: total_dict[x['LSTeamID']][x['Season']]['Score'], axis = 1)\n",
    "    df['LS_avg_against'] = df.apply(lambda x: total_dict[x['LSTeamID']][x['Season']]['Op_score'], axis = 1)\n",
    "    \n",
    "    \n",
    "    df['HS_wins'] =  df.apply(lambda x: total_dict[x['HSTeamID']][x['Season']]['num_wins'], axis = 1)\n",
    "    df['HS_loss'] =  df.apply(lambda x: total_dict[x['HSTeamID']][x['Season']]['num_loss'], axis = 1)\n",
    "    \n",
    "    df['LS_wins'] = df.apply(lambda x: total_dict[x['LSTeamID']][x['Season']]['num_wins'], axis = 1)\n",
    "    df['LS_loss'] = df.apply(lambda x: total_dict[x['LSTeamID']][x['Season']]['num_loss'], axis = 1)\n",
    "    \n",
    "    df['HS_op_FGM'] = df.apply(lambda x: total_dict[x['HSTeamID']][x['Season']]['Op_FGM'], axis = 1)\n",
    "    df['HS_op_FGA'] =df.apply(lambda x: total_dict[x['HSTeamID']][x['Season']]['Op_FGA'], axis = 1)\n",
    "    df['HS_op_FMG3'] = df.apply(lambda x: total_dict[x['HSTeamID']][x['Season']]['Op_FGM3'], axis = 1)\n",
    "    df['HS_op_FGA3'] = df.apply(lambda x: total_dict[x['HSTeamID']][x['Season']]['Op_FGA3'], axis = 1)\n",
    "    df['HS_op_OR'] = df.apply(lambda x: total_dict[x['HSTeamID']][x['Season']]['Op_OR'], axis = 1)\n",
    "    df['HS_op_DR'] =  df.apply(lambda x: total_dict[x['HSTeamID']][x['Season']]['Op_DR'], axis = 1)\n",
    "    df['HS_op_To'] = df.apply(lambda x: total_dict[x['HSTeamID']][x['Season']]['Op_TO'], axis = 1)\n",
    "    \n",
    "    df['LS_op_FGM'] = df.apply(lambda x: total_dict[x['LSTeamID']][x['Season']]['Op_FGM'], axis = 1)\n",
    "    df['LS_op_FGA'] =df.apply(lambda x: total_dict[x['LSTeamID']][x['Season']]['Op_FGA'], axis = 1)\n",
    "    df['LS_op_FMG3'] = df.apply(lambda x: total_dict[x['LSTeamID']][x['Season']]['Op_FGM3'], axis = 1)\n",
    "    df['LS_op_FGA3'] = df.apply(lambda x: total_dict[x['LSTeamID']][x['Season']]['Op_FGA3'], axis = 1)\n",
    "    df['LS_op_OR'] = df.apply(lambda x: total_dict[x['LSTeamID']][x['Season']]['Op_OR'], axis = 1)\n",
    "    df['LS_op_DR'] =  df.apply(lambda x: total_dict[x['LSTeamID']][x['Season']]['Op_DR'], axis = 1)\n",
    "    df['LS_op_To'] = df.apply(lambda x: total_dict[x['LSTeamID']][x['Season']]['Op_TO'], axis = 1)\n",
    "    \n",
    "    \n",
    "    df['HSFGM'] = df.apply(lambda x: total_dict[x['HSTeamID']][x['Season']]['FGM'], axis = 1)\n",
    "    df['HSFGA'] = df.apply(lambda x: total_dict[x['HSTeamID']][x['Season']]['FGA'], axis = 1)\n",
    "    df['HSFGM3'] = df.apply(lambda x: total_dict[x['HSTeamID']][x['Season']]['FGM3'], axis = 1)\n",
    "    df['HSFGA3'] = df.apply(lambda x: total_dict[x['HSTeamID']][x['Season']]['FGA3'], axis = 1)\n",
    "    df['HSFTM'] = df.apply(lambda x: total_dict[x['HSTeamID']][x['Season']]['FTM'], axis = 1)\n",
    "    df['HSFTA'] = df.apply(lambda x: total_dict[x['HSTeamID']][x['Season']]['FTA'], axis = 1)\n",
    "    df['HSOR'] = df.apply(lambda x: total_dict[x['HSTeamID']][x['Season']]['OR'], axis = 1)\n",
    "    df['HSDR'] = df.apply(lambda x: total_dict[x['HSTeamID']][x['Season']]['DR'], axis = 1)\n",
    "    df['HSAst'] = df.apply(lambda x: total_dict[x['HSTeamID']][x['Season']]['Ast'], axis = 1)\n",
    "    df['HSStl'] = df.apply(lambda x: total_dict[x['HSTeamID']][x['Season']]['Stl'], axis = 1)\n",
    "    df['HSBlk'] = df.apply(lambda x: total_dict[x['HSTeamID']][x['Season']]['Blk'], axis = 1)\n",
    "    df['HSPF'] = df.apply(lambda x: total_dict[x['HSTeamID']][x['Season']]['PF'], axis = 1)\n",
    "    \n",
    "    \n",
    "    df['LSFGM'] = df.apply(lambda x: total_dict[x['LSTeamID']][x['Season']]['FGM'], axis = 1)\n",
    "    df['LSFGA'] = df.apply(lambda x: total_dict[x['LSTeamID']][x['Season']]['FGA'], axis = 1)\n",
    "    df['LSFGM3'] = df.apply(lambda x: total_dict[x['LSTeamID']][x['Season']]['FGM3'], axis = 1)\n",
    "    df['LSFGA3'] = df.apply(lambda x: total_dict[x['LSTeamID']][x['Season']]['FGA3'], axis = 1)\n",
    "    df['LSFTM'] = df.apply(lambda x: total_dict[x['LSTeamID']][x['Season']]['FTM'], axis = 1)\n",
    "    df['LSFTA'] = df.apply(lambda x: total_dict[x['LSTeamID']][x['Season']]['FTA'], axis = 1)\n",
    "    df['LSFTA'] = df.apply(lambda x: total_dict[x['LSTeamID']][x['Season']]['OR'], axis = 1)\n",
    "    df['LSDR'] = df.apply(lambda x: total_dict[x['LSTeamID']][x['Season']]['DR'], axis = 1)\n",
    "    df['LSAst'] = df.apply(lambda x: total_dict[x['LSTeamID']][x['Season']]['Ast'], axis = 1)\n",
    "    df['LSStl'] = df.apply(lambda x: total_dict[x['LSTeamID']][x['Season']]['Stl'], axis = 1)\n",
    "    df['LSBlk'] = df.apply(lambda x: total_dict[x['LSTeamID']][x['Season']]['Blk'], axis = 1)\n",
    "    df['LSPF'] = df.apply(lambda x: total_dict[x['LSTeamID']][x['Season']]['PF'], axis = 1)\n",
    "    \n",
    "\n",
    "    #drop columns we dont need \n",
    "    df = df.drop(columns = ['DayNum', 'WLoc', 'NumOT', 'ls_seed', 'ws_seed'])   \n",
    "    return df      "
   ]
  },
  {
   "cell_type": "code",
   "execution_count": 364,
   "id": "5a4f8f92-f9fc-42a5-8e81-eb409cf73e1a",
   "metadata": {},
   "outputs": [],
   "source": [
    "tour5 = get_reg_avgs2(tour4)"
   ]
  },
  {
   "cell_type": "code",
   "execution_count": 365,
   "id": "f099ce54-4ada-402d-915e-f7a51c23fcdb",
   "metadata": {},
   "outputs": [],
   "source": [
    "tour5.to_csv('testd_for_noah.csv')"
   ]
  },
  {
   "cell_type": "code",
   "execution_count": 366,
   "id": "5cbcab35-9a45-421d-b29e-dd692c677764",
   "metadata": {},
   "outputs": [],
   "source": [
    "def get_conf_data(df):\n",
    "    '''\n",
    "    Parameters: takes in data frame from previous function with features almost \n",
    "    ready for trainign, \n",
    "    \n",
    "    uses conf_champ dictionary and conf_affil dictionaries to get conference afiliation \n",
    "    and if the teams in question were conference champions. \n",
    "    \n",
    "    NOTE: the ivy league only started playing a conference tournament in 2017\n",
    "    so if not found insert ivy lol \n",
    "    '''\n",
    "    #https://torchcollegerecruiting.com/z_a3_high_mid_low_majors/1641907452726x394612841469246460\n",
    "    # high vs medium vs low major conferences \n",
    "\n",
    "    power_conf = [\"acc\", 'sec', \"big_ten\", \n",
    "                  \"big_twelve\", \"pac_ten\", \"pac_twelve\"]\n",
    "\n",
    "    mid_major = ['cusa', 'aac', 'mwc', 'sun_belt', 'ivy', \n",
    "                 'mac', 'big_sky', 'meac' ,'southland', \n",
    "                 'summit', 'wac', 'wcc',]\n",
    "\n",
    "    low_major = ['aec', 'a_ten', 'big_south', 'caa', \n",
    "                 'nec', 'patriot', 'southern', 'swac', \n",
    "                 'mvc', 'a_sun', 'ovc', 'horizon', \n",
    "                 'maac', 'swac']    \n",
    "    \n",
    "    \n",
    "    hs_conf= []\n",
    "    ls_conf = []\n",
    "    \n",
    "    hs_conf_champ = []\n",
    "    ls_conf_champ = []\n",
    "    for i in tqdm(range(len(df))):\n",
    "        try:\n",
    "            hs_conf.append(conf_affil[df['Season'][i]][df['HSTeamID'][i]])\n",
    "\n",
    "        except:\n",
    "            hs_conf.append('ivy')\n",
    "\n",
    "        try:\n",
    "            ls_conf.append(conf_affil[df['Season'][i]][df['LSTeamID'][i]]) \n",
    "        except:\n",
    "            ls_conf.append('ivy')\n",
    "        \n",
    "        \n",
    "        if df['HSTeamID'][i] in list(conf_champs[df['Season'][i]].keys()):\n",
    "            hs_conf_champ.append(1)\n",
    "        else:\n",
    "            hs_conf_champ.append(0)\n",
    "        \n",
    "        if df['LSTeamID'][i] in list(conf_champs[df['Season'][i]].keys()):\n",
    "            ls_conf_champ.append(1)\n",
    "        else:\n",
    "            ls_conf_champ.append(0)\n",
    "        \n",
    "        \n",
    "    \n",
    "    df['HS_Conf'] = hs_conf\n",
    "    df['LS_Conf'] = ls_conf\n",
    "    \n",
    "    df['HS_power_conf']= df['HS_Conf'].apply(lambda x: 1 if x in power_conf else 0)\n",
    "    df['HS_mid_conf']= df['HS_Conf'].apply(lambda x: 1 if x in mid_major else 0)\n",
    "    df['HS_low_conf'] = df['HS_Conf'].apply(lambda x: 1 if x in low_major else 0)\n",
    "    \n",
    "    df['LS_power_conf']= df['LS_Conf'].apply(lambda x: 1 if x in power_conf else 0)\n",
    "    df['LS_mid_conf']= df['LS_Conf'].apply(lambda x: 1 if x in mid_major else 0)\n",
    "    df['LS_low_conf'] = df['LS_Conf'].apply(lambda x: 1 if x in low_major else 0)    \n",
    "\n",
    "    df['HS_conf_champ'] = hs_conf_champ\n",
    "    df['LS_conf_champ'] = ls_conf_champ\n",
    "    \n",
    "    \n",
    "    df = df.drop(columns = ['HS_Conf', 'LS_Conf',])\n",
    "    return df "
   ]
  },
  {
   "cell_type": "code",
   "execution_count": 367,
   "id": "aaf7ee36-d394-4e91-92cd-eab2ff1d81ed",
   "metadata": {},
   "outputs": [
    {
     "name": "stderr",
     "output_type": "stream",
     "text": [
      "100%|██████████████████████████████████████| 908/908 [00:00<00:00, 18636.70it/s]\n"
     ]
    }
   ],
   "source": [
    "tour6 = get_conf_data(tour5)"
   ]
  },
  {
   "cell_type": "code",
   "execution_count": null,
   "id": "52972f54-1b81-441a-82b5-d97d12d935d6",
   "metadata": {},
   "outputs": [],
   "source": []
  },
  {
   "cell_type": "code",
   "execution_count": 368,
   "id": "dad91a45-412c-450e-8e36-bb553bfbae42",
   "metadata": {},
   "outputs": [],
   "source": [
    "def apply_page_rank(df):\n",
    "    '''\n",
    "    Parameters: tournament DF in the preperation phase for modeling, \n",
    "    ADDITIONALLY: page_rank dictionary\n",
    "    \n",
    "    Having completed the page rank steps above, we have a page rank dictionary\n",
    "    \"page_rank\", which has the by season by team values for the different teams, \n",
    "    we will use this to populate page rank for low and high seeds \n",
    "    \n",
    "    '''\n",
    "    #df['HS_page_rank'] = np.zeros(len(df))\n",
    "    #df['LS_page_rank'] = np.zeros(len(df))\n",
    "    \n",
    "        #print(i)\n",
    "    df['HS_page_rank'] = df.apply(lambda x: page_rank[x['Season']][str(x['HSTeamID'])], axis = 1)\n",
    "    df['LS_page_rank'] = df.apply(lambda x: page_rank[x['Season']][str(x['LSTeamID'])], axis = 1)\n",
    "    return df     \n",
    "    "
   ]
  },
  {
   "cell_type": "code",
   "execution_count": 369,
   "id": "c3fb05a5-cc48-42e3-aba4-1ead624ccc4e",
   "metadata": {},
   "outputs": [],
   "source": [
    "tour7 = apply_page_rank(tour6)"
   ]
  },
  {
   "cell_type": "code",
   "execution_count": 370,
   "id": "2990843d-9662-4e9c-8045-4fc979cb224e",
   "metadata": {},
   "outputs": [],
   "source": [
    "def get_hist_wins(df):\n",
    "    '''\n",
    "    Parameters: tournament DF in the preperation phase for modeling, \n",
    "    ADDITIONALLY: tw (tournament wins) dictionary\n",
    "    \n",
    "    having discussed this above, we probably cannot use teamID's as \n",
    "    features simply because those will be constantly changing throughout the rounds \n",
    "    and years of the tournament, makign it difficult to have consistent features if \n",
    "    we trim down / out teams that have been elemenated, but also the dimmensionality \n",
    "    will be enormous and be very sparce, so instead we will use historical tournament \n",
    "    winning percentage to try and capture some of that \"recognize me I've won in the \n",
    "    tournament a lot\" vibe we might be able to get from team_id \n",
    "    \n",
    "    '''\n",
    "    df['HS_historical_tournament_win%'] = np.zeros(len(df))\n",
    "    df['LS_historical_tournament_win%'] = np.zeros(len(df))\n",
    "    \n",
    "    \n",
    "    for i in tqdm(range(len(df))):\n",
    "        try:\n",
    "            df['HS_historical_tournament_win%'][i] = tw[df['Season'][i]][df['HSTeamID'][i]]\n",
    "            df['LS_historical_tournament_win%'][i] = tw[df['Season'][i]][df['LSTeamID'][i]]\n",
    "        except:\n",
    "            df['LS_historical_tournament_win%'][i] = 0\n",
    "        \n",
    "    return df \n",
    "                                                                \n",
    "                                                    \n",
    "                                                                  \n",
    "        "
   ]
  },
  {
   "cell_type": "code",
   "execution_count": 371,
   "id": "8dc5c823-0292-426d-8eaa-0c3a32873749",
   "metadata": {},
   "outputs": [
    {
     "name": "stderr",
     "output_type": "stream",
     "text": [
      "100%|█████████████████████████████████████████| 908/908 [00:51<00:00, 17.49it/s]\n"
     ]
    }
   ],
   "source": [
    "tour8 = get_hist_wins(tour7)"
   ]
  },
  {
   "cell_type": "code",
   "execution_count": 372,
   "id": "a80be039-23b7-4636-8381-450bbc2e3705",
   "metadata": {},
   "outputs": [],
   "source": [
    "def get_target(df):\n",
    "    '''\n",
    "    Parameters: DF in prep stage for modeling\n",
    "    \n",
    "    with the feature building steps finally complete, \n",
    "    our last feature is for us to create our target variabe \n",
    "    did the higher seed win or lose? \n",
    "    \n",
    "    '''\n",
    "    \n",
    "    df['target'] = tour4.apply(lambda x: 1 if x['HS_Score'] > x['LS_Score'] else 0, axis = 1)\n",
    "    \n",
    "    return df \n",
    "    \n",
    "    "
   ]
  },
  {
   "cell_type": "code",
   "execution_count": 373,
   "id": "381cb0c1-bc83-4023-9796-ea93d1226361",
   "metadata": {},
   "outputs": [],
   "source": [
    "tour9 = get_target(tour8)"
   ]
  },
  {
   "cell_type": "code",
   "execution_count": null,
   "id": "911c4c13-4de3-458d-a6c6-fda371c6aa3b",
   "metadata": {},
   "outputs": [],
   "source": []
  },
  {
   "cell_type": "code",
   "execution_count": null,
   "id": "a02808d5-4284-43d4-9105-15143dd7b015",
   "metadata": {},
   "outputs": [],
   "source": []
  },
  {
   "cell_type": "code",
   "execution_count": 374,
   "id": "a0012a4f-3879-4377-978b-ffbedeb3575b",
   "metadata": {},
   "outputs": [
    {
     "data": {
      "text/plain": [
       "1    626\n",
       "0    282\n",
       "Name: target, dtype: int64"
      ]
     },
     "execution_count": 374,
     "metadata": {},
     "output_type": "execute_result"
    }
   ],
   "source": [
    "tour9['target'].value_counts()"
   ]
  },
  {
   "cell_type": "code",
   "execution_count": 375,
   "id": "5cdde3eb-074f-4aa3-9c09-38b05023f618",
   "metadata": {},
   "outputs": [
    {
     "data": {
      "text/plain": [
       "<AxesSubplot:>"
      ]
     },
     "execution_count": 375,
     "metadata": {},
     "output_type": "execute_result"
    },
    {
     "data": {
      "image/png": "[encoded data removed]",
      "text/plain": [
       "<Figure size 720x432 with 2 Axes>"
      ]
     },
     "metadata": {
      "needs_background": "light"
     },
     "output_type": "display_data"
    }
   ],
   "source": [
    "corr_mat = tour9.corr()\n",
    "f, ax = plt.subplots(figsize = (10, 6))\n",
    "sns.heatmap(corr_mat,vmax=.8,square=True)"
   ]
  },
  {
   "cell_type": "markdown",
   "id": "ff610b07-a855-4c5d-a22a-e4a690dc3ed4",
   "metadata": {},
   "source": [
    "# Training and validation phase "
   ]
  },
  {
   "cell_type": "code",
   "execution_count": 376,
   "id": "6b6dd201-96e4-4783-9d70-2bc518d1ae25",
   "metadata": {},
   "outputs": [
    {
     "name": "stdout",
     "output_type": "stream",
     "text": [
      "train seasons: [2013, 2007, 2015, 2004, 2005, 2016, 2011, 2019, 2008, 2012, 2003, 2017, 2006, 2022, 2009]\n",
      "val seasons: [2018, 2020, 2021, 2010, 2014]\n"
     ]
    }
   ],
   "source": [
    "seasons = list(range(2003, year_))\n",
    "\n",
    "random.seed(7)\n",
    "train_seasons = random.sample(seasons, 15)\n",
    "print(\"train seasons:\", train_seasons)\n",
    "val_seasons = list(set(seasons)-set(train_seasons))\n",
    "print(\"val seasons:\", val_seasons)\n",
    "#get rid of 2020 in val season - no tournament that year "
   ]
  },
  {
   "cell_type": "code",
   "execution_count": 377,
   "id": "1ab285cc-9518-4a0e-a98b-232c050570d2",
   "metadata": {},
   "outputs": [],
   "source": [
    "def make_train_val(df):\n",
    "    \n",
    "    df['train'] = df['Season'].apply(lambda x: 1 if x in train_seasons else 0)\n",
    "    df['validate'] = df['Season'].apply(lambda x: 1 if x in val_seasons else 0)\n",
    "    \n",
    "    train = df[df['train'] == 1]\n",
    "    val = df[df['validate']==1]\n",
    "    \n",
    "    val = val.drop(columns = ['validate', 'train', \"Season\", \"HSTeamID\",\"LSTeamID\",'LS_Score', \"HS_Score\", ])\n",
    "    train = train.drop(columns = ['train','validate', \"Season\",\"HSTeamID\",\"LSTeamID\",'LS_Score', \"HS_Score\", ])\n",
    "    \n",
    "    return val, train"
   ]
  },
  {
   "cell_type": "code",
   "execution_count": 378,
   "id": "0347f3a7-b051-4b07-9ba8-4889ea516a91",
   "metadata": {},
   "outputs": [],
   "source": [
    "val, train = make_train_val(tour9)"
   ]
  },
  {
   "cell_type": "code",
   "execution_count": null,
   "id": "82f81062-1273-49c7-acb4-45bb694ed7a4",
   "metadata": {},
   "outputs": [],
   "source": []
  },
  {
   "cell_type": "code",
   "execution_count": 498,
   "id": "864c6e6a-ced9-4dd8-ae6d-34ba4af702d5",
   "metadata": {},
   "outputs": [],
   "source": [
    "def train_predict(t_df, v_df):\n",
    "    t_df = t_df.astype(float)\n",
    "    v_df = v_df.astype(float)\n",
    "    \n",
    "    X_train = t_df.drop(columns = ['target'])\n",
    "    y_train = t_df['target']\n",
    "    X_val = v_df.drop(columns =['target'])\n",
    "    y_val = v_df['target']\n",
    "    \n",
    "#     #splitting into train_test_split\n",
    "\n",
    "    xclass = xgb.XGBClassifier()\n",
    "    \n",
    "    parameters = {\n",
    "        'learning_rate':  np.arange(.01, 1, .01), \n",
    "        'max_depth': np.arange(5, 50, 3), #\n",
    "        'subsample': np.arange(.3, .7, .1),\n",
    "        'colsample_bytree': np.arange(.1, 1, .1),\n",
    "        'n_estimators' :np.arange(50, 1200, 50), \n",
    "        #'objective': ['f1'],  \n",
    "        }\n",
    " \n",
    "    gs = RandomizedSearchCV(xclass, parameters, cv = 5)\n",
    "    #gs = GridSearchCV(xclass, parameters, cv = 5)\n",
    "    gs.fit(X_train, y_train)\n",
    "\n",
    "    #save trained model in pickle file\n",
    "    timestr = time.strftime(\"%Y%m%d-%H%M\")\n",
    "    \n",
    "    with open('../pickled_out/'+timestr+'_xgb_out.pkl', 'wb') as file:\n",
    "        pickle.dump(gs, file)\n",
    "        \n",
    "        \n",
    "        \n",
    "    boost_preds = gs.predict(X_val)\n",
    "    return boost_preds, y_val, gs"
   ]
  },
  {
   "cell_type": "code",
   "execution_count": 499,
   "id": "ab0eee0a-b870-4451-acd7-4f17b31d19f6",
   "metadata": {},
   "outputs": [],
   "source": [
    "bp,y_a, xgc = train_predict(train, val)"
   ]
  },
  {
   "cell_type": "code",
   "execution_count": 500,
   "id": "a37ec6cf-7ec7-4829-abe5-ac2f9660e34b",
   "metadata": {},
   "outputs": [
    {
     "name": "stdout",
     "output_type": "stream",
     "text": [
      "              precision    recall  f1-score   support\n",
      "\n",
      "         0.0       0.62      0.37      0.46        68\n",
      "         1.0       0.74      0.89      0.81       135\n",
      "\n",
      "    accuracy                           0.71       203\n",
      "   macro avg       0.68      0.63      0.63       203\n",
      "weighted avg       0.70      0.71      0.69       203\n",
      "\n"
     ]
    }
   ],
   "source": [
    "print(classification_report(y_a, bp))"
   ]
  },
  {
   "cell_type": "code",
   "execution_count": 501,
   "id": "129d9183-0af1-4deb-b2cb-432fb74b61ab",
   "metadata": {},
   "outputs": [
    {
     "data": {
      "text/plain": [
       "array([1, 1, 1, 1, 0, 1, 1, 0, 1, 1, 1, 1, 1, 1, 1, 1, 1, 1, 0, 1, 1, 1,\n",
       "       1, 1, 1, 1, 0, 1, 1, 1, 1, 0, 1, 1, 1, 1, 1, 1, 1, 1, 1, 1, 1, 0,\n",
       "       1, 1, 1, 1, 1, 1, 1, 1, 1, 0, 1, 0, 1, 1, 0, 1, 1, 1, 1, 0, 1, 1,\n",
       "       1, 1, 1, 1, 1, 1, 1, 0, 1, 1, 1, 1, 1, 1, 0, 1, 1, 0, 1, 1, 0, 1,\n",
       "       1, 0, 1, 1, 1, 1, 1, 1, 1, 1, 0, 0, 1, 1, 1, 1, 1, 1, 1, 1, 1, 1,\n",
       "       1, 0, 1, 1, 0, 1, 1, 1, 1, 1, 1, 1, 1, 1, 1, 1, 1, 0, 1, 1, 1, 1,\n",
       "       1, 1, 1, 1, 0, 1, 1, 0, 1, 1, 1, 0, 1, 1, 1, 1, 0, 1, 0, 0, 0, 0,\n",
       "       1, 1, 0, 1, 1, 1, 1, 0, 1, 1, 1, 1, 1, 1, 1, 1, 1, 1, 1, 1, 1, 0,\n",
       "       1, 0, 0, 1, 1, 1, 0, 1, 1, 0, 1, 1, 1, 1, 1, 1, 1, 1, 0, 0, 0, 1,\n",
       "       1, 0, 1, 1, 0])"
      ]
     },
     "execution_count": 501,
     "metadata": {},
     "output_type": "execute_result"
    }
   ],
   "source": [
    "bp"
   ]
  },
  {
   "cell_type": "code",
   "execution_count": 502,
   "id": "7a4a3b43-d40e-4caf-9a22-7f6baddf0b0f",
   "metadata": {},
   "outputs": [
    {
     "data": {
      "text/plain": [
       "array([ 0.,  1.,  0.,  1., -1.,  0.,  0.,  0.,  0.,  0.,  0.,  0.,  0.,\n",
       "        0.,  0.,  0.,  0.,  0., -1.,  0.,  1.,  1.,  0.,  1.,  1.,  0.,\n",
       "        0.,  0.,  0.,  0.,  0.,  0.,  1.,  0.,  0.,  0.,  0.,  0.,  0.,\n",
       "        1.,  1.,  1.,  0., -1.,  0.,  0.,  0.,  0.,  0.,  0.,  0.,  0.,\n",
       "        0., -1.,  0.,  0.,  0.,  1.,  0.,  1.,  0.,  0.,  0.,  0.,  1.,\n",
       "        0.,  0.,  0.,  0.,  0.,  0.,  0.,  1., -1.,  1.,  1.,  0.,  0.,\n",
       "        0.,  0.,  0.,  0.,  0.,  0.,  1.,  0.,  0.,  0.,  1.,  0.,  1.,\n",
       "        1.,  1.,  0.,  0.,  1.,  0.,  0.,  0.,  0.,  1.,  0.,  0.,  0.,\n",
       "        0.,  1.,  0.,  1.,  0.,  0.,  0., -1.,  0.,  0.,  0.,  0.,  0.,\n",
       "        0.,  1.,  1.,  0.,  1.,  0.,  1.,  1.,  0.,  1.,  0.,  1.,  0.,\n",
       "        0.,  0.,  1.,  0.,  1.,  0., -1.,  0.,  0., -1.,  0.,  0.,  0.,\n",
       "       -1.,  0.,  0.,  0.,  1., -1.,  1.,  0.,  0.,  0., -1.,  0.,  0.,\n",
       "        0.,  1.,  0.,  0.,  0., -1.,  0.,  0.,  0.,  0.,  1.,  0.,  1.,\n",
       "        0.,  1.,  0.,  0.,  0.,  0.,  0.,  1.,  0.,  0.,  0.,  0.,  0.,\n",
       "       -1.,  0.,  0.,  0.,  0.,  1.,  0.,  0.,  0.,  1.,  0.,  0.,  0.,\n",
       "       -1., -1.,  0.,  0.,  0.,  0.,  0.,  0.])"
      ]
     },
     "execution_count": 502,
     "metadata": {},
     "output_type": "execute_result"
    }
   ],
   "source": [
    "bp-np.array(y_a)"
   ]
  },
  {
   "cell_type": "code",
   "execution_count": null,
   "id": "4f257d24-4f40-44ab-a161-a3949180233b",
   "metadata": {},
   "outputs": [],
   "source": []
  },
  {
   "cell_type": "code",
   "execution_count": 503,
   "id": "4a823deb-2219-46bd-bafd-2307a474d6f7",
   "metadata": {},
   "outputs": [
    {
     "name": "stdout",
     "output_type": "stream",
     "text": [
      "this is the percentage of time we are picking the favorite to win: 0.6650246305418719\n"
     ]
    }
   ],
   "source": [
    "print(\"this is the percentage of time we are picking the favorite to win:\", sum(y_a)/len(bp))"
   ]
  },
  {
   "cell_type": "code",
   "execution_count": 869,
   "id": "9d405ce4-a2f9-4096-9e09-b03c8832782e",
   "metadata": {},
   "outputs": [
    {
     "data": {
      "text/plain": [
       "{'subsample': 0.4,\n",
       " 'n_estimators': 850,\n",
       " 'max_depth': 35,\n",
       " 'learning_rate': 0.09,\n",
       " 'colsample_bytree': 0.5}"
      ]
     },
     "execution_count": 869,
     "metadata": {},
     "output_type": "execute_result"
    }
   ],
   "source": [
    "xgc.best_params_"
   ]
  },
  {
   "cell_type": "code",
   "execution_count": 881,
   "id": "da713df0-21ef-4a6f-bfc1-2ed361eeefed",
   "metadata": {},
   "outputs": [
    {
     "data": {
      "application/vnd.plotly.v1+json": {
       "config": {
        "plotlyServerURL": "https://plot.ly"
       },
       "data": [
        {
         "alignmentgroup": "True",
         "hovertemplate": "x=%{x}<br>importance=%{y}<extra></extra>",
         "legendgroup": "",
         "marker": {
          "color": "#636efa",
          "pattern": {
           "shape": ""
          }
         },
         "name": "",
         "offsetgroup": "",
         "orientation": "v",
         "showlegend": false,
         "textposition": "auto",
         "type": "bar",
         "x": [
          "HSFGM",
          "HSFGA",
          "HSFGM3",
          "HSFGA3",
          "HSFTM",
          "HSFTA",
          "HSOR",
          "HSDR",
          "HSAst",
          "HSTO",
          "HSStl",
          "HSBlk",
          "HSPF",
          "LSFGM",
          "LSFGA",
          "LSFGM3",
          "LSFGA3",
          "LSFTM",
          "LSFTA",
          "LSOR",
          "LSDR",
          "LSAst",
          "LSStl",
          "LSBlk",
          "LSPF",
          "LSTO",
          "LS_power_seed",
          "HS_power_seed",
          "first_round",
          "second_round",
          "sweet_16",
          "elite_8",
          "final_four",
          "championship",
          "HS_avg_score",
          "HS_avg_against",
          "LS_avg_score",
          "LS_avg_against",
          "HS_wins",
          "HS_loss",
          "LS_wins",
          "LS_loss",
          "HS_op_FGM",
          "HS_op_FGA",
          "HS_op_FMG3",
          "HS_op_FGA3",
          "HS_op_OR",
          "HS_op_DR",
          "HS_op_To",
          "LS_op_FGM",
          "LS_op_FGA",
          "LS_op_FMG3",
          "LS_op_FGA3",
          "LS_op_OR",
          "LS_op_DR",
          "LS_op_To",
          "HS_power_conf",
          "HS_mid_conf",
          "HS_low_conf",
          "LS_power_conf",
          "LS_mid_conf",
          "LS_low_conf",
          "HS_conf_champ",
          "LS_conf_champ",
          "HS_page_rank",
          "LS_page_rank",
          "HS_historical_tournament_win%",
          "LS_historical_tournament_win%"
         ],
         "xaxis": "x",
         "y": [
          0.017045432701706886,
          0.013565750792622566,
          0.013341976329684258,
          0.015641536563634872,
          0.014363950118422508,
          0.011369358748197556,
          0.011737317778170109,
          0.012019815854728222,
          0.012686511501669884,
          0.02183012291789055,
          0.018085332587361336,
          0.012206845916807652,
          0.015371101908385754,
          0.012995254248380661,
          0.013253197073936462,
          0.012562548741698265,
          0.014240212738513947,
          0.012380512431263924,
          0.014103101566433907,
          0.015820898115634918,
          0.012333814054727554,
          0.014265929348766804,
          0.013245023787021637,
          0.014703569002449512,
          0.014251123182475567,
          0.015833357349038124,
          0.01953721232712269,
          0.021989578381180763,
          0.014436503872275352,
          0.007483535911887884,
          0.01456870511174202,
          0.0507022961974144,
          0,
          0,
          0.014865600503981113,
          0.01026016753166914,
          0.011812743730843067,
          0.013325236737728119,
          0.015217399224638939,
          0.015603113919496536,
          0.010426334105432034,
          0.015259699895977974,
          0.011304628103971481,
          0.013263372704386711,
          0.008856715634465218,
          0.012705625966191292,
          0.011013885959982872,
          0.014553677290678024,
          0.010165960527956486,
          0.01546283345669508,
          0.015471134334802628,
          0.011782863177359104,
          0.010792374610900879,
          0.011801738291978836,
          0.015525230206549168,
          0.013472850434482098,
          0.009510962292551994,
          0.05436653271317482,
          0,
          0.006887116003781557,
          0.03728393465280533,
          0.009582112543284893,
          0.006021610926836729,
          0.027744697406888008,
          0.01310763880610466,
          0.021192139014601707,
          0.01785506121814251,
          0.015533611178398132
         ],
         "yaxis": "y"
        }
       ],
       "layout": {
        "autosize": true,
        "barmode": "relative",
        "legend": {
         "tracegroupgap": 0
        },
        "margin": {
         "t": 60
        },
        "template": {
         "data": {
          "bar": [
           {
            "error_x": {
             "color": "#2a3f5f"
            },
            "error_y": {
             "color": "#2a3f5f"
            },
            "marker": {
             "line": {
              "color": "#E5ECF6",
              "width": 0.5
             },
             "pattern": {
              "fillmode": "overlay",
              "size": 10,
              "solidity": 0.2
             }
            },
            "type": "bar"
           }
          ],
          "barpolar": [
           {
            "marker": {
             "line": {
              "color": "#E5ECF6",
              "width": 0.5
             },
             "pattern": {
              "fillmode": "overlay",
              "size": 10,
              "solidity": 0.2
             }
            },
            "type": "barpolar"
           }
          ],
          "carpet": [
           {
            "aaxis": {
             "endlinecolor": "#2a3f5f",
             "gridcolor": "white",
             "linecolor": "white",
             "minorgridcolor": "white",
             "startlinecolor": "#2a3f5f"
            },
            "baxis": {
             "endlinecolor": "#2a3f5f",
             "gridcolor": "white",
             "linecolor": "white",
             "minorgridcolor": "white",
             "startlinecolor": "#2a3f5f"
            },
            "type": "carpet"
           }
          ],
          "choropleth": [
           {
            "colorbar": {
             "outlinewidth": 0,
             "ticks": ""
            },
            "type": "choropleth"
           }
          ],
          "contour": [
           {
            "colorbar": {
             "outlinewidth": 0,
             "ticks": ""
            },
            "colorscale": [
             [
              0,
              "#0d0887"
             ],
             [
              0.1111111111111111,
              "#46039f"
             ],
             [
              0.2222222222222222,
              "#7201a8"
             ],
             [
              0.3333333333333333,
              "#9c179e"
             ],
             [
              0.4444444444444444,
              "#bd3786"
             ],
             [
              0.5555555555555556,
              "#d8576b"
             ],
             [
              0.6666666666666666,
              "#ed7953"
             ],
             [
              0.7777777777777778,
              "#fb9f3a"
             ],
             [
              0.8888888888888888,
              "#fdca26"
             ],
             [
              1,
              "#f0f921"
             ]
            ],
            "type": "contour"
           }
          ],
          "contourcarpet": [
           {
            "colorbar": {
             "outlinewidth": 0,
             "ticks": ""
            },
            "type": "contourcarpet"
           }
          ],
          "heatmap": [
           {
            "colorbar": {
             "outlinewidth": 0,
             "ticks": ""
            },
            "colorscale": [
             [
              0,
              "#0d0887"
             ],
             [
              0.1111111111111111,
              "#46039f"
             ],
             [
              0.2222222222222222,
              "#7201a8"
             ],
             [
              0.3333333333333333,
              "#9c179e"
             ],
             [
              0.4444444444444444,
              "#bd3786"
             ],
             [
              0.5555555555555556,
              "#d8576b"
             ],
             [
              0.6666666666666666,
              "#ed7953"
             ],
             [
              0.7777777777777778,
              "#fb9f3a"
             ],
             [
              0.8888888888888888,
              "#fdca26"
             ],
             [
              1,
              "#f0f921"
             ]
            ],
            "type": "heatmap"
           }
          ],
          "heatmapgl": [
           {
            "colorbar": {
             "outlinewidth": 0,
             "ticks": ""
            },
            "colorscale": [
             [
              0,
              "#0d0887"
             ],
             [
              0.1111111111111111,
              "#46039f"
             ],
             [
              0.2222222222222222,
              "#7201a8"
             ],
             [
              0.3333333333333333,
              "#9c179e"
             ],
             [
              0.4444444444444444,
              "#bd3786"
             ],
             [
              0.5555555555555556,
              "#d8576b"
             ],
             [
              0.6666666666666666,
              "#ed7953"
             ],
             [
              0.7777777777777778,
              "#fb9f3a"
             ],
             [
              0.8888888888888888,
              "#fdca26"
             ],
             [
              1,
              "#f0f921"
             ]
            ],
            "type": "heatmapgl"
           }
          ],
          "histogram": [
           {
            "marker": {
             "pattern": {
              "fillmode": "overlay",
              "size": 10,
              "solidity": 0.2
             }
            },
            "type": "histogram"
           }
          ],
          "histogram2d": [
           {
            "colorbar": {
             "outlinewidth": 0,
             "ticks": ""
            },
            "colorscale": [
             [
              0,
              "#0d0887"
             ],
             [
              0.1111111111111111,
              "#46039f"
             ],
             [
              0.2222222222222222,
              "#7201a8"
             ],
             [
              0.3333333333333333,
              "#9c179e"
             ],
             [
              0.4444444444444444,
              "#bd3786"
             ],
             [
              0.5555555555555556,
              "#d8576b"
             ],
             [
              0.6666666666666666,
              "#ed7953"
             ],
             [
              0.7777777777777778,
              "#fb9f3a"
             ],
             [
              0.8888888888888888,
              "#fdca26"
             ],
             [
              1,
              "#f0f921"
             ]
            ],
            "type": "histogram2d"
           }
          ],
          "histogram2dcontour": [
           {
            "colorbar": {
             "outlinewidth": 0,
             "ticks": ""
            },
            "colorscale": [
             [
              0,
              "#0d0887"
             ],
             [
              0.1111111111111111,
              "#46039f"
             ],
             [
              0.2222222222222222,
              "#7201a8"
             ],
             [
              0.3333333333333333,
              "#9c179e"
             ],
             [
              0.4444444444444444,
              "#bd3786"
             ],
             [
              0.5555555555555556,
              "#d8576b"
             ],
             [
              0.6666666666666666,
              "#ed7953"
             ],
             [
              0.7777777777777778,
              "#fb9f3a"
             ],
             [
              0.8888888888888888,
              "#fdca26"
             ],
             [
              1,
              "#f0f921"
             ]
            ],
            "type": "histogram2dcontour"
           }
          ],
          "mesh3d": [
           {
            "colorbar": {
             "outlinewidth": 0,
             "ticks": ""
            },
            "type": "mesh3d"
           }
          ],
          "parcoords": [
           {
            "line": {
             "colorbar": {
              "outlinewidth": 0,
              "ticks": ""
             }
            },
            "type": "parcoords"
           }
          ],
          "pie": [
           {
            "automargin": true,
            "type": "pie"
           }
          ],
          "scatter": [
           {
            "marker": {
             "colorbar": {
              "outlinewidth": 0,
              "ticks": ""
             }
            },
            "type": "scatter"
           }
          ],
          "scatter3d": [
           {
            "line": {
             "colorbar": {
              "outlinewidth": 0,
              "ticks": ""
             }
            },
            "marker": {
             "colorbar": {
              "outlinewidth": 0,
              "ticks": ""
             }
            },
            "type": "scatter3d"
           }
          ],
          "scattercarpet": [
           {
            "marker": {
             "colorbar": {
              "outlinewidth": 0,
              "ticks": ""
             }
            },
            "type": "scattercarpet"
           }
          ],
          "scattergeo": [
           {
            "marker": {
             "colorbar": {
              "outlinewidth": 0,
              "ticks": ""
             }
            },
            "type": "scattergeo"
           }
          ],
          "scattergl": [
           {
            "marker": {
             "colorbar": {
              "outlinewidth": 0,
              "ticks": ""
             }
            },
            "type": "scattergl"
           }
          ],
          "scattermapbox": [
           {
            "marker": {
             "colorbar": {
              "outlinewidth": 0,
              "ticks": ""
             }
            },
            "type": "scattermapbox"
           }
          ],
          "scatterpolar": [
           {
            "marker": {
             "colorbar": {
              "outlinewidth": 0,
              "ticks": ""
             }
            },
            "type": "scatterpolar"
           }
          ],
          "scatterpolargl": [
           {
            "marker": {
             "colorbar": {
              "outlinewidth": 0,
              "ticks": ""
             }
            },
            "type": "scatterpolargl"
           }
          ],
          "scatterternary": [
           {
            "marker": {
             "colorbar": {
              "outlinewidth": 0,
              "ticks": ""
             }
            },
            "type": "scatterternary"
           }
          ],
          "surface": [
           {
            "colorbar": {
             "outlinewidth": 0,
             "ticks": ""
            },
            "colorscale": [
             [
              0,
              "#0d0887"
             ],
             [
              0.1111111111111111,
              "#46039f"
             ],
             [
              0.2222222222222222,
              "#7201a8"
             ],
             [
              0.3333333333333333,
              "#9c179e"
             ],
             [
              0.4444444444444444,
              "#bd3786"
             ],
             [
              0.5555555555555556,
              "#d8576b"
             ],
             [
              0.6666666666666666,
              "#ed7953"
             ],
             [
              0.7777777777777778,
              "#fb9f3a"
             ],
             [
              0.8888888888888888,
              "#fdca26"
             ],
             [
              1,
              "#f0f921"
             ]
            ],
            "type": "surface"
           }
          ],
          "table": [
           {
            "cells": {
             "fill": {
              "color": "#EBF0F8"
             },
             "line": {
              "color": "white"
             }
            },
            "header": {
             "fill": {
              "color": "#C8D4E3"
             },
             "line": {
              "color": "white"
             }
            },
            "type": "table"
           }
          ]
         },
         "layout": {
          "annotationdefaults": {
           "arrowcolor": "#2a3f5f",
           "arrowhead": 0,
           "arrowwidth": 1
          },
          "autotypenumbers": "strict",
          "coloraxis": {
           "colorbar": {
            "outlinewidth": 0,
            "ticks": ""
           }
          },
          "colorscale": {
           "diverging": [
            [
             0,
             "#8e0152"
            ],
            [
             0.1,
             "#c51b7d"
            ],
            [
             0.2,
             "#de77ae"
            ],
            [
             0.3,
             "#f1b6da"
            ],
            [
             0.4,
             "#fde0ef"
            ],
            [
             0.5,
             "#f7f7f7"
            ],
            [
             0.6,
             "#e6f5d0"
            ],
            [
             0.7,
             "#b8e186"
            ],
            [
             0.8,
             "#7fbc41"
            ],
            [
             0.9,
             "#4d9221"
            ],
            [
             1,
             "#276419"
            ]
           ],
           "sequential": [
            [
             0,
             "#0d0887"
            ],
            [
             0.1111111111111111,
             "#46039f"
            ],
            [
             0.2222222222222222,
             "#7201a8"
            ],
            [
             0.3333333333333333,
             "#9c179e"
            ],
            [
             0.4444444444444444,
             "#bd3786"
            ],
            [
             0.5555555555555556,
             "#d8576b"
            ],
            [
             0.6666666666666666,
             "#ed7953"
            ],
            [
             0.7777777777777778,
             "#fb9f3a"
            ],
            [
             0.8888888888888888,
             "#fdca26"
            ],
            [
             1,
             "#f0f921"
            ]
           ],
           "sequentialminus": [
            [
             0,
             "#0d0887"
            ],
            [
             0.1111111111111111,
             "#46039f"
            ],
            [
             0.2222222222222222,
             "#7201a8"
            ],
            [
             0.3333333333333333,
             "#9c179e"
            ],
            [
             0.4444444444444444,
             "#bd3786"
            ],
            [
             0.5555555555555556,
             "#d8576b"
            ],
            [
             0.6666666666666666,
             "#ed7953"
            ],
            [
             0.7777777777777778,
             "#fb9f3a"
            ],
            [
             0.8888888888888888,
             "#fdca26"
            ],
            [
             1,
             "#f0f921"
            ]
           ]
          },
          "colorway": [
           "#636efa",
           "#EF553B",
           "#00cc96",
           "#ab63fa",
           "#FFA15A",
           "#19d3f3",
           "#FF6692",
           "#B6E880",
           "#FF97FF",
           "#FECB52"
          ],
          "font": {
           "color": "#2a3f5f"
          },
          "geo": {
           "bgcolor": "white",
           "lakecolor": "white",
           "landcolor": "#E5ECF6",
           "showlakes": true,
           "showland": true,
           "subunitcolor": "white"
          },
          "hoverlabel": {
           "align": "left"
          },
          "hovermode": "closest",
          "mapbox": {
           "style": "light"
          },
          "paper_bgcolor": "white",
          "plot_bgcolor": "#E5ECF6",
          "polar": {
           "angularaxis": {
            "gridcolor": "white",
            "linecolor": "white",
            "ticks": ""
           },
           "bgcolor": "#E5ECF6",
           "radialaxis": {
            "gridcolor": "white",
            "linecolor": "white",
            "ticks": ""
           }
          },
          "scene": {
           "xaxis": {
            "backgroundcolor": "#E5ECF6",
            "gridcolor": "white",
            "gridwidth": 2,
            "linecolor": "white",
            "showbackground": true,
            "ticks": "",
            "zerolinecolor": "white"
           },
           "yaxis": {
            "backgroundcolor": "#E5ECF6",
            "gridcolor": "white",
            "gridwidth": 2,
            "linecolor": "white",
            "showbackground": true,
            "ticks": "",
            "zerolinecolor": "white"
           },
           "zaxis": {
            "backgroundcolor": "#E5ECF6",
            "gridcolor": "white",
            "gridwidth": 2,
            "linecolor": "white",
            "showbackground": true,
            "ticks": "",
            "zerolinecolor": "white"
           }
          },
          "shapedefaults": {
           "line": {
            "color": "#2a3f5f"
           }
          },
          "ternary": {
           "aaxis": {
            "gridcolor": "white",
            "linecolor": "white",
            "ticks": ""
           },
           "baxis": {
            "gridcolor": "white",
            "linecolor": "white",
            "ticks": ""
           },
           "bgcolor": "#E5ECF6",
           "caxis": {
            "gridcolor": "white",
            "linecolor": "white",
            "ticks": ""
           }
          },
          "title": {
           "x": 0.05
          },
          "xaxis": {
           "automargin": true,
           "gridcolor": "white",
           "linecolor": "white",
           "ticks": "",
           "title": {
            "standoff": 15
           },
           "zerolinecolor": "white",
           "zerolinewidth": 2
          },
          "yaxis": {
           "automargin": true,
           "gridcolor": "white",
           "linecolor": "white",
           "ticks": "",
           "title": {
            "standoff": 15
           },
           "zerolinecolor": "white",
           "zerolinewidth": 2
          }
         }
        },
        "xaxis": {
         "anchor": "y",
         "autorange": true,
         "domain": [
          0,
          1
         ],
         "range": [
          -0.5,
          67.5
         ],
         "title": {
          "text": "x"
         },
         "type": "category"
        },
        "yaxis": {
         "anchor": "x",
         "autorange": true,
         "domain": [
          0,
          1
         ],
         "range": [
          0,
          0.05722792917176297
         ],
         "title": {
          "text": "importance"
         },
         "type": "linear"
        }
       }
      },
      "image/png": "[encoded data removed]",
      "text/html": [
       "<div>                            <div id=\"a57afc57-4a1c-4081-8a76-832f170c3e75\" class=\"plotly-graph-div\" style=\"height:500px; width:100%;\"></div>            <script type=\"text/javascript\">                require([\"plotly\"], function(Plotly) {                    window.PLOTLYENV=window.PLOTLYENV || {};                                    if (document.getElementById(\"a57afc57-4a1c-4081-8a76-832f170c3e75\")) {                    Plotly.newPlot(                        \"a57afc57-4a1c-4081-8a76-832f170c3e75\",                        [{\"alignmentgroup\":\"True\",\"hovertemplate\":\"x=%{x}<br>importance=%{y}<extra></extra>\",\"legendgroup\":\"\",\"marker\":{\"color\":\"#636efa\",\"pattern\":{\"shape\":\"\"}},\"name\":\"\",\"offsetgroup\":\"\",\"orientation\":\"v\",\"showlegend\":false,\"textposition\":\"auto\",\"x\":[\"HSFGM\",\"HSFGA\",\"HSFGM3\",\"HSFGA3\",\"HSFTM\",\"HSFTA\",\"HSOR\",\"HSDR\",\"HSAst\",\"HSTO\",\"HSStl\",\"HSBlk\",\"HSPF\",\"LSFGM\",\"LSFGA\",\"LSFGM3\",\"LSFGA3\",\"LSFTM\",\"LSFTA\",\"LSOR\",\"LSDR\",\"LSAst\",\"LSStl\",\"LSBlk\",\"LSPF\",\"LSTO\",\"LS_power_seed\",\"HS_power_seed\",\"first_round\",\"second_round\",\"sweet_16\",\"elite_8\",\"final_four\",\"championship\",\"HS_avg_score\",\"HS_avg_against\",\"LS_avg_score\",\"LS_avg_against\",\"HS_wins\",\"HS_loss\",\"LS_wins\",\"LS_loss\",\"HS_op_FGM\",\"HS_op_FGA\",\"HS_op_FMG3\",\"HS_op_FGA3\",\"HS_op_OR\",\"HS_op_DR\",\"HS_op_To\",\"LS_op_FGM\",\"LS_op_FGA\",\"LS_op_FMG3\",\"LS_op_FGA3\",\"LS_op_OR\",\"LS_op_DR\",\"LS_op_To\",\"HS_power_conf\",\"HS_mid_conf\",\"HS_low_conf\",\"LS_power_conf\",\"LS_mid_conf\",\"LS_low_conf\",\"HS_conf_champ\",\"LS_conf_champ\",\"HS_page_rank\",\"LS_page_rank\",\"HS_historical_tournament_win%\",\"LS_historical_tournament_win%\"],\"xaxis\":\"x\",\"y\":[0.017045432701706886,0.013565750792622566,0.013341976329684258,0.015641536563634872,0.014363950118422508,0.011369358748197556,0.011737317778170109,0.012019815854728222,0.012686511501669884,0.02183012291789055,0.018085332587361336,0.012206845916807652,0.015371101908385754,0.012995254248380661,0.013253197073936462,0.012562548741698265,0.014240212738513947,0.012380512431263924,0.014103101566433907,0.015820898115634918,0.012333814054727554,0.014265929348766804,0.013245023787021637,0.014703569002449512,0.014251123182475567,0.015833357349038124,0.01953721232712269,0.021989578381180763,0.014436503872275352,0.007483535911887884,0.01456870511174202,0.0507022961974144,0.0,0.0,0.014865600503981113,0.01026016753166914,0.011812743730843067,0.013325236737728119,0.015217399224638939,0.015603113919496536,0.010426334105432034,0.015259699895977974,0.011304628103971481,0.013263372704386711,0.008856715634465218,0.012705625966191292,0.011013885959982872,0.014553677290678024,0.010165960527956486,0.01546283345669508,0.015471134334802628,0.011782863177359104,0.010792374610900879,0.011801738291978836,0.015525230206549168,0.013472850434482098,0.009510962292551994,0.05436653271317482,0.0,0.006887116003781557,0.03728393465280533,0.009582112543284893,0.006021610926836729,0.027744697406888008,0.01310763880610466,0.021192139014601707,0.01785506121814251,0.015533611178398132],\"yaxis\":\"y\",\"type\":\"bar\"}],                        {\"template\":{\"data\":{\"bar\":[{\"error_x\":{\"color\":\"#2a3f5f\"},\"error_y\":{\"color\":\"#2a3f5f\"},\"marker\":{\"line\":{\"color\":\"#E5ECF6\",\"width\":0.5},\"pattern\":{\"fillmode\":\"overlay\",\"size\":10,\"solidity\":0.2}},\"type\":\"bar\"}],\"barpolar\":[{\"marker\":{\"line\":{\"color\":\"#E5ECF6\",\"width\":0.5},\"pattern\":{\"fillmode\":\"overlay\",\"size\":10,\"solidity\":0.2}},\"type\":\"barpolar\"}],\"carpet\":[{\"aaxis\":{\"endlinecolor\":\"#2a3f5f\",\"gridcolor\":\"white\",\"linecolor\":\"white\",\"minorgridcolor\":\"white\",\"startlinecolor\":\"#2a3f5f\"},\"baxis\":{\"endlinecolor\":\"#2a3f5f\",\"gridcolor\":\"white\",\"linecolor\":\"white\",\"minorgridcolor\":\"white\",\"startlinecolor\":\"#2a3f5f\"},\"type\":\"carpet\"}],\"choropleth\":[{\"colorbar\":{\"outlinewidth\":0,\"ticks\":\"\"},\"type\":\"choropleth\"}],\"contour\":[{\"colorbar\":{\"outlinewidth\":0,\"ticks\":\"\"},\"colorscale\":[[0.0,\"#0d0887\"],[0.1111111111111111,\"#46039f\"],[0.2222222222222222,\"#7201a8\"],[0.3333333333333333,\"#9c179e\"],[0.4444444444444444,\"#bd3786\"],[0.5555555555555556,\"#d8576b\"],[0.6666666666666666,\"#ed7953\"],[0.7777777777777778,\"#fb9f3a\"],[0.8888888888888888,\"#fdca26\"],[1.0,\"#f0f921\"]],\"type\":\"contour\"}],\"contourcarpet\":[{\"colorbar\":{\"outlinewidth\":0,\"ticks\":\"\"},\"type\":\"contourcarpet\"}],\"heatmap\":[{\"colorbar\":{\"outlinewidth\":0,\"ticks\":\"\"},\"colorscale\":[[0.0,\"#0d0887\"],[0.1111111111111111,\"#46039f\"],[0.2222222222222222,\"#7201a8\"],[0.3333333333333333,\"#9c179e\"],[0.4444444444444444,\"#bd3786\"],[0.5555555555555556,\"#d8576b\"],[0.6666666666666666,\"#ed7953\"],[0.7777777777777778,\"#fb9f3a\"],[0.8888888888888888,\"#fdca26\"],[1.0,\"#f0f921\"]],\"type\":\"heatmap\"}],\"heatmapgl\":[{\"colorbar\":{\"outlinewidth\":0,\"ticks\":\"\"},\"colorscale\":[[0.0,\"#0d0887\"],[0.1111111111111111,\"#46039f\"],[0.2222222222222222,\"#7201a8\"],[0.3333333333333333,\"#9c179e\"],[0.4444444444444444,\"#bd3786\"],[0.5555555555555556,\"#d8576b\"],[0.6666666666666666,\"#ed7953\"],[0.7777777777777778,\"#fb9f3a\"],[0.8888888888888888,\"#fdca26\"],[1.0,\"#f0f921\"]],\"type\":\"heatmapgl\"}],\"histogram\":[{\"marker\":{\"pattern\":{\"fillmode\":\"overlay\",\"size\":10,\"solidity\":0.2}},\"type\":\"histogram\"}],\"histogram2d\":[{\"colorbar\":{\"outlinewidth\":0,\"ticks\":\"\"},\"colorscale\":[[0.0,\"#0d0887\"],[0.1111111111111111,\"#46039f\"],[0.2222222222222222,\"#7201a8\"],[0.3333333333333333,\"#9c179e\"],[0.4444444444444444,\"#bd3786\"],[0.5555555555555556,\"#d8576b\"],[0.6666666666666666,\"#ed7953\"],[0.7777777777777778,\"#fb9f3a\"],[0.8888888888888888,\"#fdca26\"],[1.0,\"#f0f921\"]],\"type\":\"histogram2d\"}],\"histogram2dcontour\":[{\"colorbar\":{\"outlinewidth\":0,\"ticks\":\"\"},\"colorscale\":[[0.0,\"#0d0887\"],[0.1111111111111111,\"#46039f\"],[0.2222222222222222,\"#7201a8\"],[0.3333333333333333,\"#9c179e\"],[0.4444444444444444,\"#bd3786\"],[0.5555555555555556,\"#d8576b\"],[0.6666666666666666,\"#ed7953\"],[0.7777777777777778,\"#fb9f3a\"],[0.8888888888888888,\"#fdca26\"],[1.0,\"#f0f921\"]],\"type\":\"histogram2dcontour\"}],\"mesh3d\":[{\"colorbar\":{\"outlinewidth\":0,\"ticks\":\"\"},\"type\":\"mesh3d\"}],\"parcoords\":[{\"line\":{\"colorbar\":{\"outlinewidth\":0,\"ticks\":\"\"}},\"type\":\"parcoords\"}],\"pie\":[{\"automargin\":true,\"type\":\"pie\"}],\"scatter\":[{\"marker\":{\"colorbar\":{\"outlinewidth\":0,\"ticks\":\"\"}},\"type\":\"scatter\"}],\"scatter3d\":[{\"line\":{\"colorbar\":{\"outlinewidth\":0,\"ticks\":\"\"}},\"marker\":{\"colorbar\":{\"outlinewidth\":0,\"ticks\":\"\"}},\"type\":\"scatter3d\"}],\"scattercarpet\":[{\"marker\":{\"colorbar\":{\"outlinewidth\":0,\"ticks\":\"\"}},\"type\":\"scattercarpet\"}],\"scattergeo\":[{\"marker\":{\"colorbar\":{\"outlinewidth\":0,\"ticks\":\"\"}},\"type\":\"scattergeo\"}],\"scattergl\":[{\"marker\":{\"colorbar\":{\"outlinewidth\":0,\"ticks\":\"\"}},\"type\":\"scattergl\"}],\"scattermapbox\":[{\"marker\":{\"colorbar\":{\"outlinewidth\":0,\"ticks\":\"\"}},\"type\":\"scattermapbox\"}],\"scatterpolar\":[{\"marker\":{\"colorbar\":{\"outlinewidth\":0,\"ticks\":\"\"}},\"type\":\"scatterpolar\"}],\"scatterpolargl\":[{\"marker\":{\"colorbar\":{\"outlinewidth\":0,\"ticks\":\"\"}},\"type\":\"scatterpolargl\"}],\"scatterternary\":[{\"marker\":{\"colorbar\":{\"outlinewidth\":0,\"ticks\":\"\"}},\"type\":\"scatterternary\"}],\"surface\":[{\"colorbar\":{\"outlinewidth\":0,\"ticks\":\"\"},\"colorscale\":[[0.0,\"#0d0887\"],[0.1111111111111111,\"#46039f\"],[0.2222222222222222,\"#7201a8\"],[0.3333333333333333,\"#9c179e\"],[0.4444444444444444,\"#bd3786\"],[0.5555555555555556,\"#d8576b\"],[0.6666666666666666,\"#ed7953\"],[0.7777777777777778,\"#fb9f3a\"],[0.8888888888888888,\"#fdca26\"],[1.0,\"#f0f921\"]],\"type\":\"surface\"}],\"table\":[{\"cells\":{\"fill\":{\"color\":\"#EBF0F8\"},\"line\":{\"color\":\"white\"}},\"header\":{\"fill\":{\"color\":\"#C8D4E3\"},\"line\":{\"color\":\"white\"}},\"type\":\"table\"}]},\"layout\":{\"annotationdefaults\":{\"arrowcolor\":\"#2a3f5f\",\"arrowhead\":0,\"arrowwidth\":1},\"autotypenumbers\":\"strict\",\"coloraxis\":{\"colorbar\":{\"outlinewidth\":0,\"ticks\":\"\"}},\"colorscale\":{\"diverging\":[[0,\"#8e0152\"],[0.1,\"#c51b7d\"],[0.2,\"#de77ae\"],[0.3,\"#f1b6da\"],[0.4,\"#fde0ef\"],[0.5,\"#f7f7f7\"],[0.6,\"#e6f5d0\"],[0.7,\"#b8e186\"],[0.8,\"#7fbc41\"],[0.9,\"#4d9221\"],[1,\"#276419\"]],\"sequential\":[[0.0,\"#0d0887\"],[0.1111111111111111,\"#46039f\"],[0.2222222222222222,\"#7201a8\"],[0.3333333333333333,\"#9c179e\"],[0.4444444444444444,\"#bd3786\"],[0.5555555555555556,\"#d8576b\"],[0.6666666666666666,\"#ed7953\"],[0.7777777777777778,\"#fb9f3a\"],[0.8888888888888888,\"#fdca26\"],[1.0,\"#f0f921\"]],\"sequentialminus\":[[0.0,\"#0d0887\"],[0.1111111111111111,\"#46039f\"],[0.2222222222222222,\"#7201a8\"],[0.3333333333333333,\"#9c179e\"],[0.4444444444444444,\"#bd3786\"],[0.5555555555555556,\"#d8576b\"],[0.6666666666666666,\"#ed7953\"],[0.7777777777777778,\"#fb9f3a\"],[0.8888888888888888,\"#fdca26\"],[1.0,\"#f0f921\"]]},\"colorway\":[\"#636efa\",\"#EF553B\",\"#00cc96\",\"#ab63fa\",\"#FFA15A\",\"#19d3f3\",\"#FF6692\",\"#B6E880\",\"#FF97FF\",\"#FECB52\"],\"font\":{\"color\":\"#2a3f5f\"},\"geo\":{\"bgcolor\":\"white\",\"lakecolor\":\"white\",\"landcolor\":\"#E5ECF6\",\"showlakes\":true,\"showland\":true,\"subunitcolor\":\"white\"},\"hoverlabel\":{\"align\":\"left\"},\"hovermode\":\"closest\",\"mapbox\":{\"style\":\"light\"},\"paper_bgcolor\":\"white\",\"plot_bgcolor\":\"#E5ECF6\",\"polar\":{\"angularaxis\":{\"gridcolor\":\"white\",\"linecolor\":\"white\",\"ticks\":\"\"},\"bgcolor\":\"#E5ECF6\",\"radialaxis\":{\"gridcolor\":\"white\",\"linecolor\":\"white\",\"ticks\":\"\"}},\"scene\":{\"xaxis\":{\"backgroundcolor\":\"#E5ECF6\",\"gridcolor\":\"white\",\"gridwidth\":2,\"linecolor\":\"white\",\"showbackground\":true,\"ticks\":\"\",\"zerolinecolor\":\"white\"},\"yaxis\":{\"backgroundcolor\":\"#E5ECF6\",\"gridcolor\":\"white\",\"gridwidth\":2,\"linecolor\":\"white\",\"showbackground\":true,\"ticks\":\"\",\"zerolinecolor\":\"white\"},\"zaxis\":{\"backgroundcolor\":\"#E5ECF6\",\"gridcolor\":\"white\",\"gridwidth\":2,\"linecolor\":\"white\",\"showbackground\":true,\"ticks\":\"\",\"zerolinecolor\":\"white\"}},\"shapedefaults\":{\"line\":{\"color\":\"#2a3f5f\"}},\"ternary\":{\"aaxis\":{\"gridcolor\":\"white\",\"linecolor\":\"white\",\"ticks\":\"\"},\"baxis\":{\"gridcolor\":\"white\",\"linecolor\":\"white\",\"ticks\":\"\"},\"bgcolor\":\"#E5ECF6\",\"caxis\":{\"gridcolor\":\"white\",\"linecolor\":\"white\",\"ticks\":\"\"}},\"title\":{\"x\":0.05},\"xaxis\":{\"automargin\":true,\"gridcolor\":\"white\",\"linecolor\":\"white\",\"ticks\":\"\",\"title\":{\"standoff\":15},\"zerolinecolor\":\"white\",\"zerolinewidth\":2},\"yaxis\":{\"automargin\":true,\"gridcolor\":\"white\",\"linecolor\":\"white\",\"ticks\":\"\",\"title\":{\"standoff\":15},\"zerolinecolor\":\"white\",\"zerolinewidth\":2}}},\"xaxis\":{\"anchor\":\"y\",\"domain\":[0.0,1.0],\"title\":{\"text\":\"x\"}},\"yaxis\":{\"anchor\":\"x\",\"domain\":[0.0,1.0],\"title\":{\"text\":\"importance\"}},\"legend\":{\"tracegroupgap\":0},\"margin\":{\"t\":60},\"barmode\":\"relative\",\"height\":500},                        {\"responsive\": true}                    ).then(function(){\n",
       "                            \n",
       "var gd = document.getElementById('a57afc57-4a1c-4081-8a76-832f170c3e75');\n",
       "var x = new MutationObserver(function (mutations, observer) {{\n",
       "        var display = window.getComputedStyle(gd).display;\n",
       "        if (!display || display === 'none') {{\n",
       "            console.log([gd, 'removed!']);\n",
       "            Plotly.purge(gd);\n",
       "            observer.disconnect();\n",
       "        }}\n",
       "}});\n",
       "\n",
       "// Listen for the removal of the full notebook cells\n",
       "var notebookContainer = gd.closest('#notebook-container');\n",
       "if (notebookContainer) {{\n",
       "    x.observe(notebookContainer, {childList: true});\n",
       "}}\n",
       "\n",
       "// Listen for the clearing of the current output cell\n",
       "var outputEl = gd.closest('.output');\n",
       "if (outputEl) {{\n",
       "    x.observe(outputEl, {childList: true});\n",
       "}}\n",
       "\n",
       "                        })                };                });            </script>        </div>"
      ]
     },
     "metadata": {},
     "output_type": "display_data"
    }
   ],
   "source": [
    "feat_imp = xgc.best_estimator_.feature_importances_\n",
    "feat_names2 = xgc.feature_names_in_\n",
    "import plotly.express as px\n",
    "\n",
    "\n",
    "fig = px.bar(x=feat_names2, y=feat_imp,\n",
    "             labels={'y':'importance'}, height=500)\n",
    "\n",
    "fig.write_html(\"../viz/feat_imp.html\")           \n",
    "fig.show()"
   ]
  },
  {
   "cell_type": "code",
   "execution_count": 488,
   "id": "f4b6fb05-1c6a-4c67-979c-06a8327bcf89",
   "metadata": {},
   "outputs": [],
   "source": [
    "# from sklearn.metrics import confusion_matrix\n",
    "# def plot_confusion_matrix(y_true, y_pred):\n",
    "#     cm = confusion_matrix(y_true, y_pred)\n",
    "#     f, ax = plt.subplots(figsize=(8, 6))\n",
    "#     sns.heatmap(cm, annot=True)\n",
    "#     plt.title('Confusion Matrix', fontsize=15)\n",
    "#     plt.ylabel('True label', fontsize=12)\n",
    "#     plt.xlabel('Predicted label', fontsize=12)\n",
    "#     plt.xticks([0, 1],\n",
    "#            ['Upset(0)','No Upset (1)'])\n",
    "#     plt.yticks([0, 1],\n",
    "#            ['Upset(0)','No Upset (1)'], rotation = 0)\n",
    "    \n",
    "    \n",
    "# plot_confusion_matrix(y_test, gs.predict(test))\n",
    "# plt.title(\"Random Forest With Seeding\", fontsize = 15)\n",
    "# plt.show()\n",
    "# #THIS IS THE MATRIX OF OUR RANDOM SAMPLE THAT USES SEEDING"
   ]
  },
  {
   "cell_type": "markdown",
   "id": "6ffad319-0e6e-499e-bf4a-8c37de1e459e",
   "metadata": {},
   "source": [
    "# Deep learning model"
   ]
  },
  {
   "cell_type": "code",
   "execution_count": 388,
   "id": "b10baa8d-5fe9-4afa-a55d-17ee942a7550",
   "metadata": {},
   "outputs": [],
   "source": [
    "def binary_encoding(outcome_col):\n",
    "\n",
    "    labels = []\n",
    "    for i in outcome_col:\n",
    "        if i == 1:\n",
    "            labels.append([1,0])\n",
    "        else:\n",
    "            labels.append([0,1])\n",
    "    return np.array(labels)"
   ]
  },
  {
   "cell_type": "code",
   "execution_count": 389,
   "id": "3a7928fe-89a3-4aa6-b6ad-a80cf875fc94",
   "metadata": {},
   "outputs": [
    {
     "name": "stdout",
     "output_type": "stream",
     "text": [
      "The number of hidden nodes is 10.\n"
     ]
    }
   ],
   "source": [
    "def split(df, outcome_col):\n",
    "    # Split dataset in 60% train, 20% test and 20% validation\n",
    "    #train, validate, test = np.split(df.sample(frac=1), [int(.6*len(df)), int(.8*len(df))])\n",
    "\n",
    "    train_x = df.drop(columns = [outcome_col])\n",
    "    train_y = df[outcome_col]\n",
    "    \n",
    "    trainy = binary_encoding(train_y)\n",
    "    \n",
    "    #test\n",
    "    \n",
    "\n",
    "    return train_x, trainy\n",
    "\n",
    "hidden_nodes = int((1/100) * (len(tour9)))+1\n",
    "print(f\"The number of hidden nodes is {hidden_nodes}.\")"
   ]
  },
  {
   "cell_type": "code",
   "execution_count": 390,
   "id": "2e1430af-ec75-4354-9b27-9661cedf75da",
   "metadata": {},
   "outputs": [
    {
     "name": "stdout",
     "output_type": "stream",
     "text": [
      "Prepping deep learning data\n"
     ]
    }
   ],
   "source": [
    "print(\"Prepping deep learning data\")\n",
    "d_data_x, d_data_y  = split(train,'target')"
   ]
  },
  {
   "cell_type": "code",
   "execution_count": null,
   "id": "94cdf1da-916f-47a7-ac57-255f1cde7419",
   "metadata": {},
   "outputs": [],
   "source": []
  },
  {
   "cell_type": "code",
   "execution_count": 391,
   "id": "8a52cce9-a681-4c21-abcf-b28a5fbe2643",
   "metadata": {},
   "outputs": [],
   "source": [
    "output_labels = 2\n",
    "def build(train_x, train_y,):\n",
    "   # Build the model\n",
    "    print('Build model...')\n",
    "    \n",
    "    model = Sequential()\n",
    "    print(np.array(train_x))\n",
    "    #model.add(LSTM(hidden_nodes, return_sequences=False, input_shape=(np.array(train_x), np.array(train_x))))\n",
    "    model.add(Dropout(0.2))\n",
    "    model.add(Dense(units=output_labels))\n",
    "    model.add(Activation('softmax'))\n",
    "    model.compile(loss='categorical_crossentropy', optimizer='adam', metrics=['acc'])\n",
    "    \n",
    "    batch_size=25\n",
    "    \n",
    "    model.fit(train_x.astype(float), train_y, batch_size=batch_size, epochs=2500)\n",
    " \n",
    "    return model "
   ]
  },
  {
   "cell_type": "code",
   "execution_count": 392,
   "id": "78869527-78a2-4dad-8860-4c31b8e71a2b",
   "metadata": {},
   "outputs": [],
   "source": [
    "#model_multi = build(d_data_x, d_data_y,)"
   ]
  },
  {
   "cell_type": "code",
   "execution_count": null,
   "id": "b0335ff5-62fa-4cde-adee-aef190bc63cf",
   "metadata": {},
   "outputs": [],
   "source": []
  },
  {
   "cell_type": "markdown",
   "id": "7a79977e-7c45-4867-9547-c35003e36a72",
   "metadata": {},
   "source": [
    "\n"
   ]
  },
  {
   "cell_type": "markdown",
   "id": "87097bd4-a6fb-4980-8afe-f9fdded5430c",
   "metadata": {},
   "source": [
    "# Build Test Data \n",
    "\n",
    "With training data complete, and with the total_dict dictionary holding the values for testing for 2023, we need to build the 2023 infrastructure to be able to test "
   ]
  },
  {
   "cell_type": "code",
   "execution_count": 699,
   "id": "8baba138-20a5-4bf7-882c-4f8ea8f94adc",
   "metadata": {},
   "outputs": [],
   "source": [
    "### building a list of tuples for the first round match ups \n",
    "first_round = [ (1, 64), \n",
    "                (2, 63), \n",
    "                (3, 62), \n",
    "                (4, 61), \n",
    "                (5, 57), \n",
    "                (6, 58), \n",
    "                (7, 59),\n",
    "                (8, 60), \n",
    "                (9, 53), \n",
    "                (10,54), \n",
    "                (11,55), \n",
    "                (12,56), \n",
    "                (13,49), \n",
    "                (14,50), \n",
    "                (15,51), \n",
    "                (16,52), \n",
    "                (17,45), \n",
    "                (18,46), \n",
    "                (19,47), \n",
    "                (20,48),\n",
    "                (21,41), \n",
    "                (22,42), \n",
    "                (23,43), \n",
    "                (24,44), \n",
    "                (25,37),\n",
    "                (26,38), \n",
    "                (27,39), \n",
    "                (28,40),\n",
    "                (29,33),\n",
    "                (30,34),\n",
    "                (31,35),\n",
    "                (32,36),]"
   ]
  },
  {
   "cell_type": "code",
   "execution_count": null,
   "id": "df9d8575-cda2-48c1-84a1-b67bed349184",
   "metadata": {},
   "outputs": [],
   "source": []
  },
  {
   "cell_type": "code",
   "execution_count": 700,
   "id": "e62bcbe5-b7ed-41e7-be92-5d7fdc0c34f2",
   "metadata": {},
   "outputs": [],
   "source": [
    "def build_rounds(df, match_ups, tourney_round):\n",
    "    '''\n",
    "    Building the test data set from the total_dictionary columns to mirror \n",
    "    our testing / validation data set \n",
    "\n",
    "    '''\n",
    "    zero_data = np.zeros(shape=(len(match_ups),len(list(df.columns))))\n",
    "    testd  = pd.DataFrame(data = zero_data, columns = list(df.columns))\n",
    "    \n",
    "    testd['Season'] = year_\n",
    "    #print(len(testd))\n",
    "    \n",
    "    year = psd[year_]\n",
    "    \n",
    "    seed_team = dict([(value, key) for key, value in psd[year_].items()])\n",
    "    \n",
    "    for i in range(len(testd)):\n",
    "\n",
    "        testd['HS_power_seed'][i] = match_ups[i][0]\n",
    "        testd['LS_power_seed'][i] = match_ups[i][1]\n",
    "        \n",
    "        testd['HSTeamID'][i] = seed_team[testd['HS_power_seed'][i]]\n",
    "        testd['LSTeamID'][i] = seed_team[testd['LS_power_seed'][i]]\n",
    "\n",
    "        \n",
    "        \n",
    "    testd['HSFGM'] = testd.apply(lambda x: total_dict[x['HSTeamID']][year_]['FGM'], axis = 1)\n",
    "    testd['HSFGA'] = testd.apply(lambda x: total_dict[x['HSTeamID']][x['Season']]['FGA'], axis = 1)\n",
    "    testd['HSFGM3'] = testd.apply(lambda x: total_dict[x['HSTeamID']][year_]['FGM3'], axis = 1)\n",
    "    testd['HSFGA3'] = testd.apply(lambda x: total_dict[x['HSTeamID']][x['Season']]['FGA3'], axis = 1)\n",
    "    testd['HSFTM'] = testd.apply(lambda x: total_dict[x['HSTeamID']][year_]['FTM'], axis = 1)\n",
    "    testd['HSFTA'] = testd.apply(lambda x: total_dict[x['HSTeamID']][x['Season']]['FTA'], axis = 1)\n",
    "    testd['HSOR'] = testd.apply(lambda x: total_dict[x['HSTeamID']][x['Season']]['OR'], axis = 1)\n",
    "    testd['HSDR'] = testd.apply(lambda x: total_dict[x['HSTeamID']][x['Season']]['DR'], axis = 1)\n",
    "    testd['HSAst'] = testd.apply(lambda x: total_dict[x['HSTeamID']][x['Season']]['Ast'], axis = 1)\n",
    "    testd['HSTO'] = testd.apply(lambda x: total_dict[x['HSTeamID']][x['Season']]['TO'], axis = 1)\n",
    "    testd['HSStl'] = testd.apply(lambda x: total_dict[x['HSTeamID']][x['Season']]['Stl'], axis = 1)\n",
    "    testd['HSBlk'] = testd.apply(lambda x: total_dict[x['HSTeamID']][x['Season']]['Blk'], axis = 1)   \n",
    "    testd['HSPF'] = testd.apply(lambda x: total_dict[x['HSTeamID']][x['Season']]['PF'], axis = 1)\n",
    "    \n",
    " \n",
    "    \n",
    "    testd['LSFGM'] = testd.apply(lambda x: total_dict[x['LSTeamID']][year_]['FGM'], axis = 1)\n",
    "    testd['LSFGA'] = testd.apply(lambda x: total_dict[x['LSTeamID']][x['Season']]['FGA'], axis = 1)\n",
    "    testd['LSFGM3'] = testd.apply(lambda x: total_dict[x['LSTeamID']][year_]['FGM3'], axis = 1)\n",
    "    testd['LSFGA3'] = testd.apply(lambda x: total_dict[x['LSTeamID']][x['Season']]['FGA3'], axis = 1)\n",
    "    testd['LSFTM'] = testd.apply(lambda x: total_dict[x['LSTeamID']][year_]['FTM'], axis = 1)\n",
    "    testd['LSFTA'] = testd.apply(lambda x: total_dict[x['LSTeamID']][x['Season']]['FTA'], axis = 1)\n",
    "    testd['LSOR'] = testd.apply(lambda x: total_dict[x['LSTeamID']][x['Season']]['OR'], axis = 1)\n",
    "    testd['LSDR'] = testd.apply(lambda x: total_dict[x['LSTeamID']][x['Season']]['DR'], axis = 1)\n",
    "    testd['LSAst'] = testd.apply(lambda x: total_dict[x['LSTeamID']][x['Season']]['Ast'], axis = 1)\n",
    "    testd['LSTO'] = testd.apply(lambda x: total_dict[x['LSTeamID']][x['Season']]['TO'], axis = 1)\n",
    "    testd['LSStl'] = testd.apply(lambda x: total_dict[x['LSTeamID']][x['Season']]['Stl'], axis = 1)\n",
    "    testd['LSBlk'] = testd.apply(lambda x: total_dict[x['LSTeamID']][x['Season']]['Blk'], axis = 1)   \n",
    "    testd['LSPF'] = testd.apply(lambda x: total_dict[x['LSTeamID']][x['Season']]['PF'], axis = 1)\n",
    "\n",
    "    \n",
    "    #psd[df['Season'][i]][df['LSTeamID'][i]]\n",
    "    testd['LS_power_seed'] = testd.apply(lambda x: psd[year_][x['LSTeamID']], axis = 1)\n",
    "    testd['HS_power_seed'] = testd.apply(lambda x: psd[year_][x['HSTeamID']], axis = 1)\n",
    "    \n",
    "    if tourney_round == 'first':\n",
    "        testd['first_round'] = 1\n",
    "        testd['second_round'] = np.zeros(len(testd))\n",
    "        testd['sweet_16'] = np.zeros(len(testd))\n",
    "        testd['elite_8'] = np.zeros(len(testd))\n",
    "        testd['final_four'] = np.zeros(len(testd))\n",
    "        testd['championship'] = np.zeros(len(testd))\n",
    "        \n",
    "    if tourney_round == 'second':\n",
    "        testd['first_round'] = np.zeros(len(testd))\n",
    "        testd['second_round'] = 1\n",
    "        testd['sweet_16'] = np.zeros(len(testd))\n",
    "        testd['elite_8'] = np.zeros(len(testd))\n",
    "        testd['final_four'] = np.zeros(len(testd))\n",
    "        testd['championship'] = np.zeros(len(testd))\n",
    "        \n",
    "    if tourney_round == 'third':\n",
    "        testd['first_round'] = np.zeros(len(testd))\n",
    "        testd['second_round'] = np.zeros(len(testd))\n",
    "        testd['sweet_16'] = 1\n",
    "        testd['elite_8'] = np.zeros(len(testd))\n",
    "        testd['final_four'] = np.zeros(len(testd))\n",
    "        testd['championship'] = np.zeros(len(testd))\n",
    "        \n",
    "    if tourney_round == 'fourth':\n",
    "        testd['first_round'] = np.zeros(len(testd))\n",
    "        testd['second_round'] = np.zeros(len(testd))\n",
    "        testd['sweet_16'] = np.zeros(len(testd))\n",
    "        testd['elite_8'] = 1\n",
    "        testd['final_four'] = np.zeros(len(testd))\n",
    "        testd['championship'] = np.zeros(len(testd)) \n",
    "                                     \n",
    "    if tourney_round == 'fifth':\n",
    "        testd['first_round'] = np.zeros(len(testd))\n",
    "        testd['second_round'] = np.zeros(len(testd))\n",
    "        testd['sweet_16'] = np.zeros(len(testd))\n",
    "        testd['elite_8'] = np.zeros(len(testd))\n",
    "        testd['final_four'] = 1\n",
    "        testd['championship'] = np.zeros(len(testd)) \n",
    "    \n",
    "    if tourney_round == 'sixth':\n",
    "        testd['first_round'] = np.zeros(len(testd))\n",
    "        testd['second_round'] = np.zeros(len(testd))\n",
    "        testd['sweet_16'] = np.zeros(len(testd))\n",
    "        testd['elite_8'] = np.zeros(len(testd))\n",
    "        testd['final_four'] = 1\n",
    "        testd['championship'] = np.zeros(len(testd)) \n",
    "            \n",
    "    \n",
    "    testd['HS_avg_score'] = testd.apply(lambda x: total_dict[x['HSTeamID']][x['Season']]['Score'], axis = 1)\n",
    "    testd['HS_avg_against'] = testd.apply(lambda x: total_dict[x['HSTeamID']][x['Season']]['Op_score'], axis = 1)\n",
    "    testd['LS_avg_score'] = testd.apply(lambda x: total_dict[x['LSTeamID']][x['Season']]['Score'], axis = 1)\n",
    "    testd['LS_avg_against'] = testd.apply(lambda x: total_dict[x['LSTeamID']][x['Season']]['Op_score'], axis = 1)\n",
    "\n",
    "    \n",
    "    testd['HS_wins'] = testd.apply(lambda x: total_dict[x['HSTeamID']][x['Season']]['num_wins'], axis = 1)\n",
    "    testd['HS_loss'] = testd.apply(lambda x: total_dict[x['HSTeamID']][x['Season']]['num_loss'], axis = 1)\n",
    "    testd['LS_wins'] = testd.apply(lambda x: total_dict[x['LSTeamID']][x['Season']]['num_wins'], axis = 1)\n",
    "    testd['LS_loss'] = testd.apply(lambda x: total_dict[x['LSTeamID']][x['Season']]['num_loss'], axis = 1)\n",
    "    \n",
    "    \n",
    "    testd['HS_op_FGM'] = testd.apply(lambda x: total_dict[x['HSTeamID']][x['Season']]['Op_FGM'], axis = 1)\n",
    "    testd['HS_op_FGA'] = testd.apply(lambda x: total_dict[x['HSTeamID']][x['Season']]['Op_FGA'], axis = 1)\n",
    "    testd['HS_op_FMG3'] = testd.apply(lambda x: total_dict[x['HSTeamID']][x['Season']]['Op_FGM3'], axis = 1)\n",
    "    testd['HS_op_FGA3'] = testd.apply(lambda x: total_dict[x['HSTeamID']][x['Season']]['Op_FGA3'], axis = 1)\n",
    "    testd['HS_op_OR'] = testd.apply(lambda x: total_dict[x['HSTeamID']][x['Season']]['Op_OR'], axis = 1)\n",
    "    testd['HS_op_DR'] = testd.apply(lambda x: total_dict[x['HSTeamID']][x['Season']]['Op_DR'], axis = 1)\n",
    "    testd['HS_op_To'] = testd.apply(lambda x: total_dict[x['HSTeamID']][x['Season']]['Op_TO'], axis = 1)\n",
    "\n",
    "    \n",
    "    \n",
    "    testd['LS_op_FGM'] = testd.apply(lambda x: total_dict[x['LSTeamID']][x['Season']]['Op_FGM'], axis = 1)\n",
    "    testd['LS_op_FGA'] = testd.apply(lambda x: total_dict[x['LSTeamID']][x['Season']]['Op_FGA'], axis = 1)\n",
    "    testd['LS_op_FMG3'] = testd.apply(lambda x: total_dict[x['LSTeamID']][x['Season']]['Op_FGM3'], axis = 1)\n",
    "    testd['LS_op_FGA3'] = testd.apply(lambda x: total_dict[x['LSTeamID']][x['Season']]['Op_FGA3'], axis = 1)\n",
    "    testd['LS_op_OR'] = testd.apply(lambda x: total_dict[x['LSTeamID']][x['Season']]['Op_OR'], axis = 1)\n",
    "    testd['LS_op_DR'] = testd.apply(lambda x: total_dict[x['LSTeamID']][x['Season']]['Op_DR'], axis = 1)\n",
    "    testd['LS_op_To'] = testd.apply(lambda x: total_dict[x['LSTeamID']][x['Season']]['Op_TO'], axis = 1)\n",
    "                                                                                        \n",
    "    \n",
    "\n",
    "    \n",
    "    \n",
    "    testd['ls_conf'] = testd['LSTeamID'].apply(lambda x:  conf_affil[2023][x])\n",
    "    testd['hs_conf'] = testd['HSTeamID'].apply(lambda x:  conf_affil[2023][x])\n",
    "    \n",
    "    power_conf = [\"acc\", 'sec', \"big_ten\", \n",
    "                  \"big_twelve\", \"pac_ten\", \"pac_twelve\"]\n",
    "\n",
    "    mid_major = ['cusa', 'aac', 'mwc', 'sun_belt', 'ivy', \n",
    "                 'mac', 'big_sky', 'meac' ,'southland', \n",
    "                 'summit', 'wac', 'wcc',]\n",
    "\n",
    "    low_major = ['aec', 'a_ten', 'big_south', 'caa', \n",
    "                 'nec', 'patriot', 'southern', 'swac', \n",
    "                 'mvc', 'a_sun', 'ovc', 'horizon', \n",
    "                 'maac', 'swac']    \n",
    "    \n",
    "    \n",
    "    testd['HS_power_conf'] = testd['hs_conf'].apply(lambda x: 1 if x in power_conf else 0)\n",
    "    testd['HS_mid_conf'] = testd['hs_conf'].apply(lambda x: 1 if x in mid_major else 0)\n",
    "    testd['HS_low_conf'] = testd['hs_conf'].apply(lambda x: 1 if x in low_major else 0)\n",
    "    \n",
    "    testd['LS_power_conf'] = testd['ls_conf'].apply(lambda x: 1 if x in power_conf else 0)\n",
    "    testd['LS_mid_conf'] = testd['ls_conf'].apply(lambda x: 1 if x in mid_major else 0)\n",
    "    testd['LS_low_conf'] = testd['ls_conf'].apply(lambda x: 1 if x in low_major else 0)\n",
    "    \n",
    "\n",
    "    testd['HS_conf_champ'] = testd['HSTeamID'].apply(lambda x: 1 if x in list(conf_champs[2023].keys()) else 0)\n",
    "    testd['LS_conf_champ'] = testd['LSTeamID'].apply(lambda x: 1 if x in list(conf_champs[2023].keys()) else 0)\n",
    "\n",
    "    \n",
    "    testd = testd.drop(columns = ['ls_conf', 'hs_conf'])\n",
    "    \n",
    "    testd['HS_page_rank'] = testd.apply(lambda x: page_rank[x['Season']][str(int(x['HSTeamID']))], axis = 1)\n",
    "    testd['LS_page_rank'] = testd.apply(lambda x: page_rank[x['Season']][str(int(x['LSTeamID']))], axis = 1)\n",
    "    \n",
    "    testd['HS_historical_tournament_win%'] = testd.apply(lambda x: tw[x['Season']][x['HSTeamID']] if x['HSTeamID'] in tw[x['Season']].keys() else 0 , axis = 1)\n",
    "    testd['LS_historical_tournament_win%'] = testd.apply(lambda x: tw[x['Season']][x['LSTeamID']] if x['LSTeamID'] in tw[x['Season']].keys() else 0, axis = 1)\n",
    "    \n",
    "   \n",
    "    return testd\n",
    "    \n",
    "    \n",
    "    \n",
    "    "
   ]
  },
  {
   "cell_type": "code",
   "execution_count": 829,
   "id": "3e0e9167-cb51-4198-9679-c95c29166828",
   "metadata": {},
   "outputs": [],
   "source": [
    "def build_second_round(result):\n",
    "    '''\n",
    "    building a function that takes in the result of the first round and \n",
    "    delivers a list of tuples containing the power seeds of the following\n",
    "    round, we will then iteritevly build the rounds as the \n",
    "    tournament progresses \n",
    "    \n",
    "    '''\n",
    "\n",
    "    second = []\n",
    "   \n",
    "    if result[0] ==1:\n",
    "        if result[31] == 1:\n",
    "            second.append((first_round[0][0], first_round[31][0]))\n",
    "         \n",
    "        else:\n",
    "            second.append((first_round[0][0], first_round[31][1]))\n",
    "            print(\"inside first couble else \")\n",
    "    else:\n",
    "        if result[31] == 1:\n",
    "            second.append((first_round[0][1], first_round[31][0]))\n",
    "        else:\n",
    "            second.append((first_round[0][1], first_round[31][1]))\n",
    "    \n",
    "    if result[1] ==1:\n",
    "        if result[30] == 1:\n",
    "            second.append((first_round[1][0], first_round[30][0]))\n",
    "        else:\n",
    "            second.append((first_round[1][0], first_round[30][1]))\n",
    "\n",
    "    else:\n",
    "        if result[30] == 1:\n",
    "            second.append((first_round[1][1], first_round[30][0]))\n",
    "        else:\n",
    "            second.append((first_round[1][1], first_round[30][1]))\n",
    "    \n",
    "    if result[2] ==1:\n",
    "        if result[29] == 1:\n",
    "            second.append((first_round[2][0], first_round[29][0]))\n",
    "        else:\n",
    "            second.append((first_round[2][0], first_round[29][1]))\n",
    "\n",
    "    else:\n",
    "        if result[29] == 1:\n",
    "            second.append((first_round[2][1], first_round[29][0]))\n",
    "        else:\n",
    "            second.append((first_round[2][1], first_round[29][1]))\n",
    "    \n",
    "    if result[3] ==1:\n",
    "        if result[28] == 1:\n",
    "            second.append((first_round[3][0], first_round[28][0]))\n",
    "        else:\n",
    "            second.append((first_round[3][0], first_round[28][1]))\n",
    "\n",
    "    else:\n",
    "        if result[28] == 1:\n",
    "            second.append((first_round[3][1], first_round[28][0]))\n",
    "        else:\n",
    "            second.append((first_round[3][1], first_round[28][1]))\n",
    "########## \n",
    "    if result[4] ==1:\n",
    "        if result[24] == 1:\n",
    "            second.append((first_round[4][0], first_round[24][0]))\n",
    "        else:\n",
    "            second.append((first_round[4][0], first_round[24][1]))\n",
    "\n",
    "    else:\n",
    "        if result[24] == 1:\n",
    "            second.append((first_round[4][1], first_round[24][0]))\n",
    "        else:\n",
    "            second.append((first_round[4][1], first_round[24][1]))\n",
    "    \n",
    "    if result[5] ==1:\n",
    "        if result[25] == 1:\n",
    "            second.append((first_round[5][0], first_round[25][0]))\n",
    "        else:\n",
    "            second.append((first_round[5][0], first_round[25][1]))\n",
    "    else:\n",
    "        if result[25] == 1:\n",
    "            second.append((first_round[5][1], first_round[25][0]))\n",
    "        else:\n",
    "            second.append((first_round[5][1], first_round[25][1]))\n",
    "    \n",
    "    if result[6] ==1:\n",
    "        if result[26] == 1:\n",
    "            second.append((first_round[6][0], first_round[26][0]))\n",
    "        else:\n",
    "            second.append((first_round[6][0], first_round[26][1]))\n",
    "\n",
    "    else:\n",
    "        if result[26] == 1:\n",
    "            second.append((first_round[6][1], first_round[26][0]))\n",
    "        else:\n",
    "            second.append((first_round[6][1], first_round[26][1]))\n",
    "    \n",
    "    if result[7] ==1:\n",
    "        if result[27] == 1:\n",
    "            second.append((first_round[7][0], first_round[27][0]))\n",
    "        else:\n",
    "            second.append((first_round[7][0], first_round[27][1]))\n",
    "\n",
    "    else:\n",
    "        if result[27] == 1:\n",
    "            second.append((first_round[7][1], first_round[27][0]))\n",
    "        else:\n",
    "            second.append((first_round[7][1], first_round[27][1]))\n",
    "            \n",
    "    if result[11] ==1:\n",
    "        if result[23] == 1:\n",
    "            second.append((first_round[11][0], first_round[23][0]))\n",
    "        else:\n",
    "            second.append((first_round[11][0], first_round[23][1]))\n",
    "    else:\n",
    "        if result[23] == 1:\n",
    "            second.append((first_round[11][1], first_round[23][0]))\n",
    "        else:\n",
    "            second.append((first_round[11][1], first_round[23][1]))\n",
    "            \n",
    "    if result[10] ==1:\n",
    "        if result[22] == 1:\n",
    "            second.append((first_round[10][0], first_round[22][0]))\n",
    "        else:\n",
    "            second.append((first_round[10][0], first_round[22][1]))\n",
    "    else:\n",
    "        if result[22] == 1:\n",
    "            second.append((first_round[10][1], first_round[22][0]))\n",
    "        else:\n",
    "            second.append((first_round[10][1], first_round[22][1]))\n",
    "\n",
    "            \n",
    "    if result[9] ==1:\n",
    "        if result[21] == 1:\n",
    "            second.append((first_round[9][0], first_round[21][0]))\n",
    "        else:\n",
    "            second.append((first_round[9][0], first_round[21][1]))\n",
    "    else:\n",
    "        if result[21] == 1:\n",
    "            second.append((first_round[9][1], first_round[21][0]))\n",
    "        else:\n",
    "            second.append((first_round[9][1], first_round[21][1]))       \n",
    "            \n",
    "            \n",
    "    if result[8] ==1:\n",
    "        if result[20] == 1:\n",
    "            second.append((first_round[8][0], first_round[20][0]))\n",
    "        else:\n",
    "            second.append((first_round[8][0], first_round[20][1]))\n",
    "    else:\n",
    "        if result[20] == 1:\n",
    "            second.append((first_round[8][1], first_round[20][0]))\n",
    "        else:\n",
    "            second.append((first_round[8][1], first_round[20][1]))\n",
    "        \n",
    "            \n",
    "######\n",
    "\n",
    "    if result[12] ==1:\n",
    "        if result[16] == 1:\n",
    "            second.append((first_round[12][0], first_round[16][0]))\n",
    "        else:\n",
    "            second.append((first_round[12][0], first_round[16][1]))\n",
    "    else:\n",
    "        if result[16] == 1:\n",
    "            second.append((first_round[12][1], first_round[16][0]))\n",
    "        else:\n",
    "            second.append((first_round[12][1], first_round[16][1]))\n",
    "            \n",
    "    \n",
    "            \n",
    "            \n",
    "    if result[13] ==1:\n",
    "        if result[17] == 1:\n",
    "            second.append((first_round[13][0], first_round[17][0]))\n",
    "        else:\n",
    "            second.append((first_round[13][0], first_round[17][1]))\n",
    "    else:\n",
    "        if result[17] == 1:\n",
    "            second.append((first_round[13][1], first_round[17][0]))\n",
    "        else:\n",
    "            second.append((first_round[13][1], first_round[17][1]))\n",
    "            \n",
    "            \n",
    "            \n",
    "            \n",
    "    if result[14] ==1:\n",
    "        if result[18] == 1:\n",
    "            second.append((first_round[14][0], first_round[18][0]))\n",
    "        else:\n",
    "            second.append((first_round[14][0], first_round[18][1]))\n",
    "    else:\n",
    "        if result[18] == 1:\n",
    "            second.append((first_round[14][1], first_round[18][0]))\n",
    "        else:\n",
    "            second.append((first_round[14][1], first_round[18][1]))\n",
    "            \n",
    "            \n",
    "                        \n",
    "            \n",
    "    if result[15] ==1:\n",
    "        if result[19] == 1:\n",
    "            second.append((first_round[15][0], first_round[19][0]))\n",
    "        else:\n",
    "            second.append((first_round[15][0], first_round[19][1]))\n",
    "    else:\n",
    "        if result[19] == 1:\n",
    "            second.append((first_round[15][1], first_round[19][0]))\n",
    "        else:\n",
    "            second.append((first_round[15][1], first_round[19][1]))         \n",
    "            \n",
    "            \n",
    "            \n",
    "    \n",
    "    return second \n",
    "\n",
    "\n",
    "def get_names(matchups):\n",
    "    pyear = power_seeds[power_seeds['Season'] ==year_]\n",
    "    \n",
    "    yd = dict(zip(pyear['PowerSeed '], pyear['TeamName']))\n",
    "    for i in range(len(matchups)):\n",
    "        print(yd[matchups[i][0]]+ \" v \" +yd[matchups[i][1]])\n",
    "        \n",
    "def get_next(n_games, prev_round, result):\n",
    "    current_round = []\n",
    "    for i in range(0,n_games):\n",
    "        if result[i] ==1:\n",
    "            if result[-i-1] == 1:\n",
    "            \n",
    "                current_round.append((prev_round[i][0], prev_round[-i-1][0]))\n",
    "                #print(first_round[-i][0])\n",
    "            else:\n",
    "                current_round.append((prev_round[i][0], prev_round[-i-1][1]))\n",
    "\n",
    "        else:\n",
    "            if result[-i-1] == 1:\n",
    "                current_round.append((prev_round[i][1], prev_round[-i-1][0]))\n",
    "            else:\n",
    "                current_round.append((prev_round[i][1], prev_round[-i-1][1]))\n",
    "                \n",
    "    current_round = list(pd.Series(current_round).apply(lambda x:x if x[0]<x[1] else (x[1], x[0])))\n",
    "    return current_round"
   ]
  },
  {
   "cell_type": "code",
   "execution_count": 862,
   "id": "32efbcfb-3cc0-4a4a-a4b1-284db37430b8",
   "metadata": {},
   "outputs": [
    {
     "data": {
      "text/plain": [
       "{'subsample': 0.5,\n",
       " 'n_estimators': 1050,\n",
       " 'max_depth': 29,\n",
       " 'learning_rate': 0.08,\n",
       " 'colsample_bytree': 0.8}"
      ]
     },
     "execution_count": 862,
     "metadata": {},
     "output_type": "execute_result"
    }
   ],
   "source": [
    "#load in past mod\n",
    "xgb_model_loaded = pickle.load(open('../pickled_out/20230315-1702_xgb_out.pkl', \"rb\"))\n",
    "xgb_model_loaded.best_params_"
   ]
  },
  {
   "cell_type": "code",
   "execution_count": 877,
   "id": "e168c518-978c-4e4a-a85a-a849bdea04fc",
   "metadata": {},
   "outputs": [],
   "source": [
    "def full_bracket(df, xgc, loaded_model = False):\n",
    "    \n",
    "    if loaded_model == False:\n",
    "        xgc = xgc\n",
    "    else:\n",
    "        xgc = xgb_model_loaded\n",
    "    \n",
    "    \n",
    "    r1 =  build_rounds(df, first_round, 'first')\n",
    "    r1 = r1[list(train.columns)]\n",
    "    r1 = r1.drop(columns = 'target')\n",
    "    \n",
    "    \n",
    "    r1_preds = xgc.predict(r1)\n",
    "    \n",
    "    \n",
    "    second_match = build_second_round(r1_preds)\n",
    "    print(\"Second Round Matchups: \")\n",
    "    get_names(second_match)\n",
    "    print(\" \")\n",
    "    \n",
    "    r2 = build_rounds(tour9, second_match, 'second')\n",
    "    r2 = r2[train.columns]\n",
    "    r2 = r2.drop(columns = ['target'])\n",
    "    \n",
    "    r2_preds = xgc.predict(r2)\n",
    "    \n",
    "    \n",
    "    third_match = get_next(8, second_match, r2_preds)\n",
    "    print(\"Sweet 16 Matchups: \")\n",
    "    get_names(third_match)\n",
    "    print(\" \")\n",
    "    \n",
    "    r3 = build_rounds(tour9, third_match, 'third')\n",
    "    r3 = r3[train.columns]\n",
    "    r3 = r3.drop(columns = ['target'])\n",
    "    \n",
    "    r3_preds = xgc.predict(r3)\n",
    "    \n",
    "    \n",
    "    fourth_match = get_next(4, third_match, r3_preds)\n",
    "    print(\"Elite 8 Matchups: \") \n",
    "    get_names(fourth_match)\n",
    "    print(\" \")\n",
    "    \n",
    "    r4 = build_rounds(tour9, fourth_match, 'fourth')\n",
    "    r4 = r4[train.columns]\n",
    "    r4 = r4.drop(columns = ['target'])\n",
    "    \n",
    "    r4_preds = xgc.predict(r4)\n",
    "    \n",
    "    \n",
    "    fifth_match = get_next(2, fourth_match, r4_preds)\n",
    "    print(\"Final Four Matchups: \")\n",
    "    get_names(fifth_match)\n",
    "    print(\" \")\n",
    "    \n",
    "    r5 = build_rounds(tour9, fifth_match, 'fifth')\n",
    "    r5 = r5[train.columns]\n",
    "    r5 = r5.drop(columns = ['target'])\n",
    "    \n",
    "    r5_preds = xgc.predict(r5)\n",
    "    \n",
    "    \n",
    "    sixth_match = get_next(1, fifth_match, r5_preds)\n",
    "    print(\"Championship Matchups: \")\n",
    "    get_names(sixth_match)\n",
    "    print(\" \")\n",
    "    \n",
    "    r6 = build_rounds(tour9, sixth_match, 'sixth')\n",
    "    r6 = r6[train.columns]\n",
    "    r6 = r6.drop(columns = ['target'])\n",
    "\n",
    "    r6_preds = xgc.predict(r6)\n",
    "    \n",
    "    print(r6_preds)\n",
    "    \n"
   ]
  },
  {
   "cell_type": "code",
   "execution_count": 879,
   "id": "20c2ff34-f0a3-4712-91e8-f9676ec99b0e",
   "metadata": {},
   "outputs": [
    {
     "name": "stdout",
     "output_type": "stream",
     "text": [
      "Second Round Matchups: \n",
      "Alabama v Maryland\n",
      "Houston v Iowa\n",
      "Kansas v Illinois\n",
      "Purdue v FL Atlantic\n",
      "Marquette v Michigan St\n",
      "UCLA v Northwestern\n",
      "Texas v Penn St\n",
      "Arizona v Missouri\n",
      "Baylor v Creighton\n",
      "Xavier v Pittsburgh\n",
      "Gonzaga v Arizona St\n",
      "Kansas St v Kentucky\n",
      "Tennessee v Duke\n",
      "Connecticut v St Mary's CA\n",
      "Indiana v Miami FL\n",
      "Virginia v San Diego St\n",
      " \n",
      "Sweet 16 Matchups: \n",
      "Virginia v Maryland\n",
      "Houston v Indiana\n",
      "Kansas v Connecticut\n",
      "Purdue v Duke\n",
      "Marquette v Kentucky\n",
      "UCLA v Gonzaga\n",
      "Texas v Xavier\n",
      "Arizona v Baylor\n",
      " \n",
      "Elite 8 Matchups: \n",
      "Arizona v Virginia\n",
      "Houston v Texas\n",
      "Kansas v UCLA\n",
      "Purdue v Marquette\n",
      " \n",
      "Final Four Matchups: \n",
      "Purdue v Arizona\n",
      "Houston v UCLA\n",
      " \n",
      "Championship Matchups: \n",
      "Houston v Purdue\n",
      " \n",
      "[1]\n"
     ]
    }
   ],
   "source": [
    "full_bracket(tour9, xgc, loaded_model = False)"
   ]
  },
  {
   "cell_type": "code",
   "execution_count": null,
   "id": "a3a7c964-3bcf-4e33-9dfa-dbb8a56b719d",
   "metadata": {},
   "outputs": [],
   "source": []
  },
  {
   "cell_type": "code",
   "execution_count": null,
   "id": "ab3f5407-6e25-464e-bc26-8232e3cf0855",
   "metadata": {},
   "outputs": [],
   "source": []
  },
  {
   "cell_type": "code",
   "execution_count": null,
   "id": "cc9e40ab-7b1a-41f8-9a68-e3ba92b34181",
   "metadata": {},
   "outputs": [],
   "source": []
  },
  {
   "cell_type": "code",
   "execution_count": null,
   "id": "01808486-769e-4280-bc1e-81fb4a34fa4a",
   "metadata": {},
   "outputs": [],
   "source": []
  }
 ],
 "metadata": {
  "kernelspec": {
   "display_name": "Python 3 (ipykernel)",
   "language": "python",
   "name": "python3"
  },
  "language_info": {
   "codemirror_mode": {
    "name": "ipython",
    "version": 3
   },
   "file_extension": ".py",
   "mimetype": "text/x-python",
   "name": "python",
   "nbconvert_exporter": "python",
   "pygments_lexer": "ipython3",
   "version": "3.9.12"
  }
 },
 "nbformat": 4,
 "nbformat_minor": 5
}
