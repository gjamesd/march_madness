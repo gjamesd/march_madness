{
 "cells": [
  {
   "cell_type": "code",
   "execution_count": 1,
   "id": "b9b7b288-4216-4e29-b88c-7e8b327acdef",
   "metadata": {},
   "outputs": [],
   "source": [
    "# Importing LOTS of stuff \n",
    "from sklearn.model_selection import learning_curve\n",
    "from sklearn.metrics import make_scorer\n",
    "from sklearn import linear_model\n",
    "from sklearn.preprocessing import LabelEncoder\n",
    "from sklearn.preprocessing import StandardScaler\n",
    "from sklearn.model_selection import train_test_split, RandomizedSearchCV, GridSearchCV\n",
    "from sklearn.preprocessing import LabelEncoder\n",
    "from sklearn.metrics import f1_score, mean_squared_error, classification_report \n",
    "import random \n",
    "from random import sample\n",
    "\n",
    "# to solve problems that I am encounterinbg\n",
    "import pandas as pd\n",
    "import seaborn as sns\n",
    "import matplotlib.pyplot as plt #plotting for visualization purposes of story telling \n",
    "import numpy as np\n",
    "\n",
    "#from tqdm import tqdm\n",
    "\n",
    "import datetime\n",
    "import gc\n",
    "import seaborn as sns\n",
    "sns.set_palette(sns.color_palette('hls', 7))\n",
    "\n",
    "from statistics import mean\n",
    "from collections import Counter\n",
    "from sklearn.ensemble import GradientBoostingClassifier, RandomForestClassifier\n",
    "from collections import Counter\n",
    "#from imblearn.over_sampling import RandomOverSampler\n",
    "import xgboost as xgb\n",
    "\n",
    "from scipy import linalg as la\n",
    "import networkx as nx\n",
    "from itertools import combinations\n",
    "\n",
    "import warnings\n",
    "warnings.filterwarnings('ignore')\n",
    "from tqdm import tqdm\n",
    "\n",
    "import pickle \n",
    "import time\n",
    "import yaml"
   ]
  },
  {
   "cell_type": "markdown",
   "id": "2ea598c9-d411-4779-bffe-f11e76d4c11b",
   "metadata": {},
   "source": [
    "# Step 0 - read in data and libraries for process \n",
    "\n",
    "for a full data description from kaggle, visit this webstie: https://www.kaggle.com/competitions/mens-march-mania-2022/data\n",
    "\n",
    "The only thing i created by hand is Power the power seeding dictionary. The selection comitte does this, selects teams seeds the tournament. The top overal seed is obviously 1, the second 1 seed, on the opposite side of the bracket is 2, on the same side of the bracket is the third overall and then the fourth overall 1 seed is on the same side as the 1st overall seed. This means that the 5th overall seed is the \"best\" 2 seed and get the \"wrost\" 1 seed. and then the process is cyclic, rotating around the tournament from 1 to 64. This is the variable in question I use to generate the outcome variable: Did the higher seed win? "
   ]
  },
  {
   "cell_type": "code",
   "execution_count": 2,
   "id": "7f0246de-6235-4c6a-8cf4-ab9eae02d6ea",
   "metadata": {},
   "outputs": [],
   "source": [
    "#what year are we running the analysis for? \n",
    "year_ = 2024"
   ]
  },
  {
   "cell_type": "code",
   "execution_count": 3,
   "id": "ca8ab4ce-3ece-466f-98f1-89aaeecdf419",
   "metadata": {},
   "outputs": [],
   "source": [
    "#import lots of data \n",
    "# teams that could make the tournament all D1 teams \n",
    "teams_df = pd.read_csv(\"../data/MTeams.csv\")\n",
    "\n",
    "#detailed game by game of tournament games from 2003 onward \n",
    "tourney_deets = pd.read_csv(\"../data/MNCAATourneyDetailedResults.csv\")\n",
    "\n",
    "#regular season games from 2003 onwards \n",
    "reg_deets = pd.read_csv(\"../data/MRegularSeasonDetailedResults.csv\")\n",
    "\n",
    "#winner and loser of tournament games since 1985 \n",
    "tourney_compact_deets =  pd.read_csv(\"../data/MNCAATourneyCompactResults.csv\")\n",
    "\n",
    "#historical tournament seeds \n",
    "tourney_seeds = pd.read_csv(\"../data/MNCAATourneySeeds.csv\")\n",
    "\n",
    "#conference tournament games detailed results \n",
    "conf_tour = pd.read_csv(\"../data/MConferenceTourneyGames.csv\")\n",
    "\n",
    "#what conferences had who in what year \n",
    "conf = pd.read_csv(\"../data/MTeamConferences.csv\")\n",
    "\n",
    "#hand made varialbe used to create target \n",
    "power_seeds = pd.read_csv(\"../data/PowerSeeds.csv\")\n",
    "\n",
    "compact = pd.read_csv('../data/MNCAATourneyCompactResults.csv')"
   ]
  },
  {
   "cell_type": "markdown",
   "id": "39c78891-11ad-4bec-bb17-d7be46f3c9a7",
   "metadata": {},
   "source": [
    "# Step 1 Data Prep / build dictionaries for features \n",
    "\n",
    "The goal here is to use among other things regular season values for each team for each season as features for the model. We will create a multitude of different dictionaries with seasons and teams as keys and things like average 3's made, average turnovers, number of wins etc as values. This will be the general approach we take to model feature creation "
   ]
  },
  {
   "cell_type": "code",
   "execution_count": 4,
   "id": "3cdf1f14-f453-4706-92c1-06ad8e79f8dd",
   "metadata": {},
   "outputs": [],
   "source": [
    "def get_conf_affiliation():\n",
    "    '''\n",
    "    Parameters: None\n",
    "    output: regular season detailed results with the winning \n",
    "    and losing team conference afiiliation denoted \n",
    "    \n",
    "    prepping a data frame for getting conference affiliation \n",
    "    by season by year here below\n",
    "    \n",
    "    '''\n",
    "    \n",
    "    step1 = pd.merge(left = reg_deets, right = conf_tour, on = ['Season', \"WTeamID\"]) \n",
    "    \n",
    "    step1 = step1.drop(columns = ['DayNum_y', 'LTeamID_y'])\n",
    "    step1 = step1.rename(columns = {'DayNum_x':'DayNum',\n",
    "                                   'ConfAbbrev':\"WTeam_Conf\", \n",
    "                                   \"LTeamID_x\":\"LTeamID\"})\n",
    "    \n",
    "    step2 = pd.merge(left = step1, right = conf_tour, on = ['Season', \"LTeamID\"]) \n",
    "    step2 = step2.drop(columns = ['DayNum_y', 'WTeamID_y'])\n",
    "    step2 = step2.rename(columns = {'DayNum_x':'DayNum','ConfAbbrev':\"LTeam_Conf\",\n",
    "                                   'WTeamID_x':'WTeamID'})\n",
    "    \n",
    "    return step2"
   ]
  },
  {
   "cell_type": "code",
   "execution_count": 5,
   "id": "c98d742f-6b07-4595-b917-782cc4f2ad56",
   "metadata": {},
   "outputs": [],
   "source": [
    "reg_deets2 = get_conf_affiliation()"
   ]
  },
  {
   "cell_type": "code",
   "execution_count": null,
   "id": "4ad18520-c728-41e4-a0bb-c7151d54db86",
   "metadata": {},
   "outputs": [],
   "source": []
  },
  {
   "cell_type": "code",
   "execution_count": 6,
   "id": "c3ccf26b-0a80-4137-b09d-3db02138ee4b",
   "metadata": {},
   "outputs": [],
   "source": [
    "def get_winning_dict(df, column):\n",
    "    '''\n",
    "    building a dictionary for the averages by season by team for when they \n",
    "    were the winning team: \n",
    "    \n",
    "    Note - it is possible for a team to go winless, we will need to \n",
    "    figure out how to deal with that should we have an undefeated regular season--\n",
    "    although these teams will not play in march and it seams very unlikely that \n",
    "    they don't get a single win, it is possible lol \n",
    "    \n",
    "    '''\n",
    "    \n",
    "    features = ['WScore', 'LScore', 'WFGM', 'WFGA', 'WFGM3','WFGA3', 'WFTM', 'WFTA', 'WOR',\n",
    "                'WTO',\n",
    "            'WDR', 'WAst', 'WStl', 'WBlk', 'WPF', 'LFGM', 'LFGA', 'LFGM3', 'LFGA3',\n",
    "       'LFTM', 'LFTA', 'LOR', 'LDR', 'LAst', 'LTO', 'LStl', 'LBlk', 'LPF', ]\n",
    "    \n",
    "\n",
    "    \n",
    "\n",
    "    w = df.groupby(by=[column])\n",
    "    w1 = pd.DataFrame(w)\n",
    "    teams = {}\n",
    "    \n",
    "    for i in tqdm(range(len(w1))):\n",
    "        #print(i)\n",
    "        ws = w1[1][i].groupby(\"Season\")\n",
    "        ws = pd.DataFrame(ws)\n",
    "        #print(ws['Season'])\n",
    "        seasons = {}\n",
    "        for j in range(len(ws)):\n",
    "            season = ws[0][j]\n",
    "            #print(season)\n",
    "            \n",
    "            vals = dict(ws[1][j][features].sum(axis = 0))\n",
    "            vals.update({'season_wins': len(ws[1][j])})\n",
    "            #vals.update({'conf':list(set(ws[1][j]['WTeam_Conf']))[0]})\n",
    "            #print(v_dict)\n",
    "            seasons.update({ws[0][j]:  vals})\n",
    "        \n",
    "        teams.update({w1[0][i]:seasons})\n",
    "    return teams\n",
    "        \n",
    "        \n",
    "        \n"
   ]
  },
  {
   "cell_type": "code",
   "execution_count": 7,
   "id": "3376a586-8451-441f-87a2-d42c7c9532cb",
   "metadata": {},
   "outputs": [
    {
     "name": "stderr",
     "output_type": "stream",
     "text": [
      "100%|█████████████████████████████████████████████████████████████████████████████████████████████████████████████████████████████████████| 369/369 [00:09<00:00, 40.17it/s]\n"
     ]
    }
   ],
   "source": [
    "w_feats = get_winning_dict(reg_deets, \"WTeamID\")"
   ]
  },
  {
   "cell_type": "code",
   "execution_count": null,
   "id": "d94f8e54-b2ba-4eb3-addb-3dc6c47be52b",
   "metadata": {},
   "outputs": [],
   "source": []
  },
  {
   "cell_type": "code",
   "execution_count": 8,
   "id": "1c1de851-66d3-424d-a3df-c39268a51a78",
   "metadata": {},
   "outputs": [],
   "source": [
    "def get_losing_dict(df, column):\n",
    "    \n",
    "    '''\n",
    "    building a dictionary for the averages by season by team for when they \n",
    "    were the losing team: \n",
    "    \n",
    "    Note - it is possible for a team to go undefeated, we will need to \n",
    "    figure out how to deal with that should we have an undefeated regular season\n",
    "    \n",
    "    \n",
    "    '''\n",
    "    \n",
    "    \n",
    "    features =['WScore', 'LScore', 'WFGM', 'WFGA', 'WFGM3','WFGA3', 'WFTM', 'WFTA', 'WOR',\n",
    "                'WTO',\n",
    "            'WDR', 'WAst', 'WStl', 'WBlk', 'WPF', 'LFGM', 'LFGA', 'LFGM3', 'LFGA3',\n",
    "       'LFTM', 'LFTA', 'LOR', 'LDR', 'LAst', 'LTO', 'LStl', 'LBlk', 'LPF', ]\n",
    "    \n",
    "    \n",
    "    rename = ['LScore', 'WScore', 'LFGM', 'LFGA', 'LFGM3','LFGA3', 'LFTM', 'LFTA', 'LOR',\n",
    "                'LTO',\n",
    "            'LDR', 'LAst', 'LStl', 'LBlk', 'LPF', 'WFGM', 'WFGA', 'WFGM3', 'WFGA3',\n",
    "       'WFTM', 'WFTA', 'WOR', 'WDR', 'WAst', 'WTO', 'WStl', 'WBlk', 'WPF', ]\n",
    "    \n",
    "        \n",
    "    w = df.groupby(by=[column])\n",
    "    w1 = pd.DataFrame(w)\n",
    "    teams = {}\n",
    "    \n",
    "    for i in tqdm(range(len(w1))):\n",
    "        #print(i)\n",
    "        ws = w1[1][i].groupby(\"Season\")\n",
    "        ws = pd.DataFrame(ws)\n",
    "        seasons = {}\n",
    "        for j in range(len(ws)):\n",
    "            season = ws[0][j]\n",
    "            data = ws[1][j][features]\n",
    "            data.columns = rename\n",
    "            #vals = dict(data.sum(axis = 0)/len(data))\n",
    "            vals = dict(data.sum(axis = 0))\n",
    "            vals.update({'season_losses': len(ws[1][j])})\n",
    "\n",
    "            seasons.update({ws[0][j]:  vals})\n",
    "        \n",
    "        teams.update({w1[0][i]:seasons})\n",
    "    return teams"
   ]
  },
  {
   "cell_type": "code",
   "execution_count": 9,
   "id": "25e19ca6-7109-4227-ab9c-118cd82cdacd",
   "metadata": {},
   "outputs": [
    {
     "name": "stderr",
     "output_type": "stream",
     "text": [
      "100%|█████████████████████████████████████████████████████████████████████████████████████████████████████████████████████████████████████| 369/369 [00:10<00:00, 35.95it/s]\n"
     ]
    }
   ],
   "source": [
    "l_feats = get_losing_dict(reg_deets, \"LTeamID\")"
   ]
  },
  {
   "cell_type": "code",
   "execution_count": null,
   "id": "a483e706-7cc1-4247-bf25-1f299c260ab5",
   "metadata": {},
   "outputs": [],
   "source": []
  },
  {
   "cell_type": "markdown",
   "id": "37bbe3ac-87b5-4468-875d-ce2520b83675",
   "metadata": {},
   "source": [
    "#### Offensive Efficiency\n",
    "\n",
    "Calculate the number of total number of possessions for your team using the formula: field goals attempted - offensive rebounds + turnovers + (0.4 x free throws attempted) = total number of possessions for the season. This works because a possession can end only in one of three ways: an attempted field goal, a turnover or a free throw, with an offensive rebound negating additional field goal attempts.\n",
    "\n",
    "Divide the team's total points scored for the season by the possessions you calculated in Step 1. For example, 938 total points scored divided by 998 total possessions gives your team 0.94 points scored per possession. Numbers above 1.0 are generally considered good.\n",
    "\n",
    "Convert the offensive PPP number to an efficiency rating by simply multipling by 100. So 0.94 points scored per possession becomes an offensive efficiency rating of 94.\n",
    "\n",
    "#### Defensive Efficiency\n",
    "\n",
    "Use the formula field goals attempted - offensive rebounds + turnovers + (0.4 x free throws attempted) = total number of possessions for the season to calculate total team possessions.\n",
    "\n",
    "Divide the total number of points allowed by your team by the possession total you calculated in Step 1. For example, 1009 total points allowed divided by 998 total possessions gives your team 1.01 points allowed per possession. The opposite is true for defensive PPP: Above 1.0 is bad; below 1.0 is considered good.\n",
    "\n",
    "Convert defensive points per possession to a defensive efficiency rating by multiplying by 100. So 1.01 points allowed per possession becomes a defensive efficiency rating of 101.\n",
    "\n"
   ]
  },
  {
   "cell_type": "code",
   "execution_count": null,
   "id": "1f3b2981-89f4-48e9-8dc4-acae9ddd4259",
   "metadata": {},
   "outputs": [],
   "source": []
  },
  {
   "cell_type": "code",
   "execution_count": null,
   "id": "0aa9bbd8-bccf-49a6-b824-c2038faebeba",
   "metadata": {},
   "outputs": [],
   "source": []
  },
  {
   "cell_type": "code",
   "execution_count": null,
   "id": "38b38aef-64e6-4639-9f28-ab1173ff42e2",
   "metadata": {},
   "outputs": [],
   "source": []
  },
  {
   "cell_type": "code",
   "execution_count": null,
   "id": "29165f6c-d4a1-4b80-81f7-2f2a1497fdbc",
   "metadata": {},
   "outputs": [],
   "source": []
  },
  {
   "cell_type": "code",
   "execution_count": 10,
   "id": "1fd46f41-8033-4444-b346-7c34870ab020",
   "metadata": {},
   "outputs": [],
   "source": [
    "def combine2(w_dict, l_dict):\n",
    "    '''\n",
    "    Parameters: winnign dictioanry, losing dictionary \n",
    "    \n",
    "    combining the dictioanries for games won and games lost \n",
    "    for the regular season for teams. we will then combine them \n",
    "    and get averages for each statistical category and compute \n",
    "    things like offensive and defensive efficiency. \n",
    "    \n",
    "    -- NOTE: if we use one of the efficiency metrics, we will not\n",
    "    be able to use the features that are inputs to that column. \n",
    "    because as given, the efficiency is simply a linear combination\n",
    "    of other features, this will make our matrix non-invertable as our \n",
    "    columns will not be independent, so we will have to choose to either \n",
    "    keep all of the features seperate or combine and drop some \n",
    "    \n",
    "    '''\n",
    "    \n",
    "    \n",
    "    total = {}\n",
    "    first = reg_deets.WTeamID.min()\n",
    "    last = reg_deets.WTeamID.max()+1\n",
    "    \n",
    "    features = ['WScore', 'LScore', 'WFGM', 'WFGA', 'WFGM3','WFGA3', 'WFTM', 'WFTA', 'WOR',\n",
    "                'WTO',\n",
    "            'WDR', 'WAst', 'WStl', 'WBlk', 'WPF', 'LFGM', 'LFGA', 'LFGM3', 'LFGA3',\n",
    "       'LFTM', 'LFTA', 'LOR', 'LDR', 'LAst', 'LTO', 'LStl', 'LBlk', 'LPF',]\n",
    "    \n",
    "    #for each team from the frist teamID to the last one \n",
    "    for i in tqdm(range(first, last+1)):\n",
    "    #for i in range(first, last+1):\n",
    "        #print(i)\n",
    "            \n",
    "        season = {}\n",
    "        f_season = 2003 #pd.DataFrame(w_dict[1102]).T.index.min()\n",
    "        l_season = year_ #pd.DataFrame(w_dict[1102]).T.index.max()+1\n",
    "        w_l = {}\n",
    "        for j in range(f_season, l_season+1):\n",
    "            #print(j)\n",
    "            try:\n",
    "                w_df = pd.DataFrame(w_dict[i]).T\n",
    "                l_df = pd.DataFrame(l_dict[i]).T\n",
    "\n",
    "                w_df_r = w_df.reset_index()\n",
    "                l_df_r = l_df.reset_index()\n",
    "\n",
    "\n",
    "\n",
    "                temp  = pd.concat([w_df_r[w_df_r['index'] == j],l_df_r[l_df_r['index'] == j]])\n",
    "                temp = temp.fillna(0)\n",
    "\n",
    "                games = np.sum(temp['season_losses'])+np.sum(temp['season_wins'])\n",
    "\n",
    "                #temp[features].sum(axis = 0)/games\n",
    "                season_avg = dict(temp[features].sum(axis = 0)/games)\n",
    "\n",
    "                w_l.update({'num_loss': np.sum(temp['season_losses'])})\n",
    "                w_l.update({'num_wins': np.sum(temp['season_wins'])})\n",
    "\n",
    "                season_avg = season_avg|w_l\n",
    "\n",
    "\n",
    "                new_key = ['Score', 'Op_score', 'FGM', 'FGA', 'FGM3', 'FGA3', 'FTM', 'FTA', 'OR', 'TO', \n",
    "               'DR', 'Ast', 'Stl', 'Blk', 'PF', 'Op_FGM', 'Op_FGA', 'Op_FGM3', 'Op_FGA3', \n",
    "               'Op_FTM', 'Op_FTA', 'Op_OR', 'Op_DR', 'Op_Ast', 'Op_TO', 'Op_Stl', \n",
    "               'Op_Blk', 'Op_PF', 'num_loss', 'num_wins', 'conf']\n",
    "\n",
    "                vals = list(season_avg.values())\n",
    "                #print(vals)\n",
    "                new = dict(zip(new_key, vals))\n",
    "                off_eff = (new['FGA'] - new['OR']+new['Op_TO']+(0.47*new['FTA']))/(new['Score'])*100\n",
    "                new.update({'off_eff':off_eff})\n",
    "\n",
    "                def_eff = (new['Op_FGA'] - new['Op_OR']+new['TO']+(0.47*new['Op_FTA']))/(new['Op_score'])*100\n",
    "                new.update({'def_eff':def_eff})\n",
    "\n",
    "                equalizer = (new['FGM3']/new['FGA3'])*100\n",
    "                new.update({'three_perc':equalizer})\n",
    "\n",
    "                d_equal = (new['Op_FGM3']/new['Op_FGA3'])*100\n",
    "                new.update({'d_three_perc':d_equal})\n",
    "\n",
    "                #print(vals)\n",
    "                #season.update({j:  season_avg})\n",
    "                season.update({j:  new})\n",
    "\n",
    "\n",
    "\n",
    "            except:\n",
    "                #print(i)\n",
    "                pass\n",
    "    \n",
    "        total.update({i:season})\n",
    "    return total "
   ]
  },
  {
   "cell_type": "code",
   "execution_count": 11,
   "id": "6b4db5eb-5e2e-453d-86d5-e799035c93f5",
   "metadata": {},
   "outputs": [
    {
     "name": "stderr",
     "output_type": "stream",
     "text": [
      "100%|█████████████████████████████████████████████████████████████████████████████████████████████████████████████████████████████████████| 379/379 [01:28<00:00,  4.30it/s]\n"
     ]
    }
   ],
   "source": [
    "total_dict = combine2(w_feats, l_feats)"
   ]
  },
  {
   "cell_type": "code",
   "execution_count": null,
   "id": "a28d5c8a-1bef-416f-ab46-69a3680c7304",
   "metadata": {
    "tags": []
   },
   "outputs": [],
   "source": []
  },
  {
   "cell_type": "code",
   "execution_count": 12,
   "id": "2c73b799-3bc8-4196-a951-1c3771777a54",
   "metadata": {
    "tags": []
   },
   "outputs": [],
   "source": [
    "pickle.dump(total_dict, open('../dictionaries/total_dict.pickle', 'wb'))\n",
    "# data_loaded = pickle.load(open('../dictionaries/total_dict.pickle', 'rb'))"
   ]
  },
  {
   "cell_type": "code",
   "execution_count": null,
   "id": "660dec45-25df-4c3e-a960-3b7c5478eb4e",
   "metadata": {
    "tags": []
   },
   "outputs": [],
   "source": []
  },
  {
   "cell_type": "code",
   "execution_count": 13,
   "id": "873e1ab4-be31-48e7-8199-afddd4d3fef0",
   "metadata": {},
   "outputs": [],
   "source": [
    "# import json\n",
    "# json_file_path = \"total_dict.jso\n",
    "# # Open the file in write mode and save the dictionary as JSON\n",
    "\n",
    "# # Open the file in write mode and save the dictionary as JSON\n",
    "# with open(json_file_path, 'w') as json_file:\n",
    "#     json.dump(total_dict, json_file)\n",
    "\n",
    "    \n",
    "# with open(json_file_path, 'r') as json_file:\n",
    "#     total_dict = json.load(json_file)"
   ]
  },
  {
   "cell_type": "code",
   "execution_count": null,
   "id": "b29f5d61-84e5-4d12-99bb-2ae7a949da36",
   "metadata": {
    "tags": []
   },
   "outputs": [],
   "source": []
  },
  {
   "cell_type": "code",
   "execution_count": 14,
   "id": "94461a5d-1e15-49fc-b187-d0b18a4f472f",
   "metadata": {},
   "outputs": [],
   "source": [
    "def get_conf_dict(df):\n",
    "    \n",
    "    '''\n",
    "    Many of the tournament titles are played on \"Selection Sunday\"\n",
    "    the day the tournament is seeded.  others are played throughout\n",
    "    \"Championship Week\". We will need to find a way to group by \n",
    "    conference and select the winner on the last day a game was played \n",
    "    for a particular conference \n",
    "\n",
    "    '''\n",
    "    \n",
    "    conf_champ = conf_tour.groupby([\"Season\", \"ConfAbbrev\"])[\"DayNum\"].max() \n",
    "    \n",
    "    cdf = pd.DataFrame(conf_champ).reset_index()\n",
    "    cdf2 = pd.merge(left = cdf, right = conf_tour, on = ['Season', 'ConfAbbrev', 'DayNum'])\n",
    "    cdf2 = cdf2.drop(columns = ['LTeamID'])\n",
    "    \n",
    "    teams = {}\n",
    "    cdf2 = pd.DataFrame(cdf2.groupby('Season'))\n",
    "    for i in tqdm(range(len(cdf2))):\n",
    "        #print(i)\n",
    "        season = cdf2[1][i]\n",
    "        year = cdf2[0][i]\n",
    "        champs = dict(zip(cdf2[1][i]['WTeamID'],cdf2[1][i]['ConfAbbrev']))\n",
    "        teams.update({year: champs})\n",
    "\n",
    "    return teams, cdf2\n",
    "        "
   ]
  },
  {
   "cell_type": "code",
   "execution_count": 15,
   "id": "5192b65e-8f5a-4a97-8e7a-50c09e571031",
   "metadata": {},
   "outputs": [],
   "source": [
    "# conf_champ = conf_tour.groupby([\"Season\", \"ConfAbbrev\"])[\"DayNum\"].max() \n",
    "# cdf = pd.DataFrame(conf_champ).reset_index()\n",
    "# cdf"
   ]
  },
  {
   "cell_type": "code",
   "execution_count": 16,
   "id": "72fa715b-6c24-46bb-9569-6a1abd3f9633",
   "metadata": {},
   "outputs": [
    {
     "name": "stderr",
     "output_type": "stream",
     "text": [
      "100%|█████████████████████████████████████████████████████████████████████████████████████████████████████████████████████████████████████| 24/24 [00:00<00:00, 6594.82it/s]\n"
     ]
    }
   ],
   "source": [
    "conf_champs, cdf2 = get_conf_dict(conf_tour)\n"
   ]
  },
  {
   "cell_type": "code",
   "execution_count": 17,
   "id": "53bc0aa6-7430-4a58-9796-78484d09064d",
   "metadata": {},
   "outputs": [],
   "source": [
    "pickle.dump(conf_champs, open('../dictionaries/conf_champs.pickle', 'wb'))\n"
   ]
  },
  {
   "cell_type": "code",
   "execution_count": 18,
   "id": "9919b114-5d64-4488-ad24-34d8c4022976",
   "metadata": {},
   "outputs": [],
   "source": [
    "def get_conf_affiliation_dict(df):\n",
    "    '''\n",
    "    Parameters: Regular deets 2 which has been merged with the \n",
    "    conference tournament data to get the conference afiiliatoin \n",
    "    by season by team\n",
    "    As teams can  move conferences from year to year, it is unclear \n",
    "    if the marginal change affects teams, but we wanted to gather the \n",
    "    confernece affect and then group them into power, mid major and \n",
    "    low major levels to be done later \n",
    "    \n",
    "    \n",
    "    '''\n",
    "    reg_deets2\n",
    "    t1 = pd.DataFrame(df.groupby(\"Season\"))\n",
    "    cf = {}\n",
    "    for i in range(len(t1)):\n",
    "        \n",
    "        d1 = dict(zip(t1[1][i]['WTeamID'], t1[1][i]['WTeam_Conf']))\n",
    "        d2 = dict(zip(t1[1][i]['LTeamID'], t1[1][i]['LTeam_Conf']))\n",
    "        d3 =d1|d2\n",
    "        cf.update({t1[0][i]:d3})\n",
    "    \n",
    "        \n",
    "    return cf\n",
    "    \n",
    "\n"
   ]
  },
  {
   "cell_type": "code",
   "execution_count": 19,
   "id": "7b3f6055-57b8-44e9-acd8-bc0bef2198d6",
   "metadata": {},
   "outputs": [],
   "source": [
    "conf_affil = get_conf_affiliation_dict(reg_deets2)"
   ]
  },
  {
   "cell_type": "code",
   "execution_count": 20,
   "id": "57686614-b037-49b8-95f0-fa633dc0c1cb",
   "metadata": {
    "tags": []
   },
   "outputs": [],
   "source": [
    "pickle.dump(conf_affil, open('../dictionaries/conf_affil.pickle', 'wb'))\n",
    "# conf_affil = pickle.load(open('../dictionaries/conf_affil.pickle', 'rb'))"
   ]
  },
  {
   "cell_type": "code",
   "execution_count": 21,
   "id": "025e3e91-7cb9-41cd-914e-62d600799225",
   "metadata": {
    "tags": []
   },
   "outputs": [
    {
     "data": {
      "text/plain": [
       "'meac'"
      ]
     },
     "execution_count": 21,
     "metadata": {},
     "output_type": "execute_result"
    }
   ],
   "source": [
    "conf_affil[2023][1224]"
   ]
  },
  {
   "cell_type": "code",
   "execution_count": 22,
   "id": "86ab1b57-f01a-48df-b60e-5fa7e6ca9683",
   "metadata": {},
   "outputs": [],
   "source": [
    "def create_power_seeds_dict(df):\n",
    "    \n",
    "    #first add team id to TeamNamein power seeds \n",
    "    \n",
    "    teams2 = teams_df[['TeamID', 'TeamName']]\n",
    "    \n",
    "    df2 = pd.merge(left = df, right = teams2, on = 'TeamName') \n",
    "    \n",
    "    df2.to_csv('../data/power_test.csv')\n",
    "    ps1 = pd.DataFrame(df2.groupby(by = \"Season\"))\n",
    "    empty = {}\n",
    "    #print(ps1.columns.tolist())\n",
    "    # for i in range(len(ps1)):\n",
    "    #     empty.update({ps1[0][i]: dict(zip(ps1[1][i]['TeamID'], ps1[1][i]['PowerSeed ']))})\n",
    "    result_dict = {}\n",
    "    for season, season_group in df2.groupby('Season'):\n",
    "        season_dict = {}\n",
    "        for index, row in season_group.iterrows():\n",
    "            team_name = row['TeamID']\n",
    "            power_seed = row['PowerSeed ']\n",
    "            season_dict[team_name] = power_seed\n",
    "        result_dict[season] = season_dict\n",
    "\n",
    "\n",
    "    return result_dict"
   ]
  },
  {
   "cell_type": "code",
   "execution_count": 23,
   "id": "7f18c88f-8c7d-4116-9e73-fc8bff2a04ba",
   "metadata": {},
   "outputs": [],
   "source": [
    "psd  = create_power_seeds_dict(power_seeds)"
   ]
  },
  {
   "cell_type": "code",
   "execution_count": 24,
   "id": "70edf967-fad2-463b-a13c-0168bc7f7c40",
   "metadata": {},
   "outputs": [],
   "source": [
    "pickle.dump(psd, open('../dictionaries/psd.pickle', 'wb'))"
   ]
  },
  {
   "cell_type": "code",
   "execution_count": 25,
   "id": "0d37922e-fd32-4ae5-9921-fb64045e75b3",
   "metadata": {},
   "outputs": [],
   "source": [
    "def get_power_seeds_tourney(df):\n",
    "    ''' takes in tourney_deets and gets L team and w team power seeds\n",
    "    \n",
    "    TIP: 134, 135 are play in days \n",
    "    '''\n",
    "    \n",
    "    \n",
    "    df = df[df['DayNum']  >= 137]\n",
    "    df = df.reset_index()\n",
    "    df = df.drop(columns =['index'])\n",
    "    \n",
    "    lteam = []\n",
    "    wteam = []\n",
    "    for i in tqdm(range(len(df))):\n",
    "        #print(i)\n",
    "        try: \n",
    "            lteam.append(psd[df['Season'][i]][df['LTeamID'][i]])\n",
    "            wteam.append(psd[df['Season'][i]][df['WTeamID'][i]])\n",
    "            #pass\n",
    "        except:  \n",
    "            print(df['Season'][i])\n",
    "            print(i)\n",
    "            print(df['LTeamID'][i])\n",
    "            print(\" \")\n",
    "            #wteam.append(\"error\")\n",
    "            #lteam.append('error')\n",
    "            #pass\n",
    "    df['lteam_seed'] = lteam\n",
    "    df['wteam_seed'] = wteam\n",
    "    \n",
    "    df = df.reset_index()\n",
    "    df = df.drop(columns = ['index'])\n",
    "    return df \n",
    "    \n",
    "    "
   ]
  },
  {
   "cell_type": "code",
   "execution_count": 26,
   "id": "a8298eda-0684-4b1c-ad10-e2de677e5e93",
   "metadata": {},
   "outputs": [
    {
     "name": "stderr",
     "output_type": "stream",
     "text": [
      "100%|██████████████████████████████████████████████████████████████████████████████████████████████████████████████████████████████████| 955/955 [00:00<00:00, 46485.47it/s]\n"
     ]
    }
   ],
   "source": [
    "tour2 = get_power_seeds_tourney(tourney_deets)"
   ]
  },
  {
   "cell_type": "code",
   "execution_count": null,
   "id": "969a8f98-8209-467d-bb5f-45c5b61c05e5",
   "metadata": {},
   "outputs": [],
   "source": []
  },
  {
   "cell_type": "code",
   "execution_count": 27,
   "id": "2fa20aba-d973-4136-86d1-ed6bb1bfbf3b",
   "metadata": {},
   "outputs": [],
   "source": [
    "def prep_data(df):\n",
    "    df = df.reset_index()\n",
    "    ''' \n",
    "    takes in tourney_deets df and \n",
    "    renames columns based on seeding of low and high seeds\n",
    "    instead of winning and losing teams, this way our \n",
    "    model will not just memorize the order of columns and that \n",
    "    will tell the computer who won. And the games we have haven't \n",
    "    happened yet so like it doesnt even make sense to run that way lol \n",
    "    \n",
    "    \n",
    "    ''' \n",
    "    \n",
    "    fav = {'Season':'Season', 'DayNum':'DayNum',\n",
    "           \n",
    "           'WTeamID':'HSTeamID', \n",
    "           'LTeamID':'LSTeamID', 'WLoc':'WLoc', 'NumOT':'NumOT', \n",
    "       \n",
    "       'WFGM':'HSFGM', 'WFGA':'HSFGA', 'WFGM3':'HSFGM3', \n",
    "       'WFGA3':'HSFGA3', 'WFTM':'HSFTM', 'WFTA':'HSFTA', \n",
    "       'WOR':'HSOR', 'WDR':'HSDR', 'WAst':'HSAst', \n",
    "       'WTO':'HSTO', 'WStl':'HSStl', 'WBlk':'HSBlk', \n",
    "       'WPF':'HSPF', \"WScore\":\"HS_Score\", \n",
    "       \n",
    "       'LFGM':'LSFGM', 'LFGA':'LSFGA', 'LFGM3':'LSFGM3', \n",
    "       'LFGA3':'LSFGA3', 'LFTM':'LSFTM', 'LFTA':'LSFTA', \n",
    "       'LOR':'LSOR', 'LDR':'LSDR', 'LAst':'LSAst', \n",
    "       'LStl':'LSStl', 'LBlk':'LSBlk', 'LPF':'LSPF', \n",
    "        'LTO':'LSTO', \"LScore\":\"LS_Score\", \n",
    "       \n",
    "       \n",
    "       \n",
    "       'lteam_seed':'ls_seed', 'wteam_seed':'ws_seed'}\n",
    "    \n",
    "    up = {'Season':'Season', 'DayNum':'DayNum', 'WTeamID':'LSTeamID', \n",
    "       'LTeamID':'HSTeamID', 'WLoc':'WLoc', 'NumOT':'NumOT', \n",
    "      \n",
    "       'WFGM':'LSFGM', 'WFGA':'LSFGA', 'WFGM3':'LSFGM3', \n",
    "       'WFGA3':'LSFGA3', 'WFTM':'LSFTM', 'WFTA':'LSFTA', \n",
    "       'WOR':'LSOR', 'WDR':'LSDR', 'WAst':'LSAst', \n",
    "       'WTO':'LSTO', 'WStl':'LSStl', 'WBlk':'LSBlk', \n",
    "       'WPF':'LSPF', \"WScore\":\"LS_Score\", \n",
    "       \n",
    "       'LFGM':'HSFGM', 'LFGA':'HSFGA', 'LFGM3':'HSFGM3', \n",
    "       'LFGA3':'HSFGA3', 'LFTM':'HSFTM', 'LFTA':'HSFTA', \n",
    "       'LOR':'HSOR', 'LDR':'HSDR', 'LAst':'HSAst', \n",
    "       'LStl':'HSStl', 'LBlk':'HSBlk', 'LPF':'HSPF',\n",
    "       'LTO':'HSTO', \"LScore\":\"HS_Score\", \n",
    "       \n",
    "       'lteam_seed':'ls_seed', 'wteam_seed':'ws_seed'}\n",
    "    \n",
    "    cols = list(fav.values())\n",
    "    empty = pd.DataFrame(columns = cols)\n",
    "    \n",
    "    for i in range(len(df)):\n",
    "  \n",
    "        if df['wteam_seed'][i] < df['lteam_seed'][i]:\n",
    "            #then the favorite won, apply favorite dictionary \n",
    "            \n",
    "            row = df.iloc[[i]]\n",
    "            row = row.rename(columns = fav)\n",
    "            empty = pd.concat([empty, row])\n",
    "        else:\n",
    "            #apply upset_dictioanry \n",
    "            row = df.iloc[[i]]\n",
    "            row = row.rename(columns = up)\n",
    "            empty = pd.concat([empty, row])\n",
    "            \n",
    "    \n",
    "    empty = empty.drop(columns = ['index'])\n",
    "    return empty \n",
    "            "
   ]
  },
  {
   "cell_type": "code",
   "execution_count": 28,
   "id": "ca501fe2-186d-4f19-ae0c-78af823d2366",
   "metadata": {},
   "outputs": [],
   "source": [
    "tour3 = prep_data(tour2)"
   ]
  },
  {
   "cell_type": "code",
   "execution_count": 29,
   "id": "c3877087-c26e-4623-94ff-d402cef1978a",
   "metadata": {},
   "outputs": [],
   "source": [
    "#\n",
    "def power_seed_2(df):\n",
    "    '''\n",
    "    up until this point we have been using winning vs losing team id's \n",
    "    we now are transitioning into lower vs higher seed id. \n",
    "    '''\n",
    "    \n",
    "    high = []\n",
    "    low = []\n",
    "    for i in tqdm(range(len(df))):\n",
    "        low.append(psd[df['Season'][i]][df['LSTeamID'][i]])\n",
    "        high.append(psd[df['Season'][i]][df['HSTeamID'][i]])\n",
    "            #pass\n",
    "    df['LS_power_seed'] = low\n",
    "    df['HS_power_seed'] = high\n",
    "    \n",
    "    return df \n",
    "    "
   ]
  },
  {
   "cell_type": "code",
   "execution_count": 30,
   "id": "d43778c4-3fe3-4f6b-afb6-f7364bb62454",
   "metadata": {},
   "outputs": [
    {
     "name": "stderr",
     "output_type": "stream",
     "text": [
      "100%|██████████████████████████████████████████████████████████████████████████████████████████████████████████████████████████████████| 955/955 [00:00<00:00, 46361.19it/s]\n"
     ]
    }
   ],
   "source": [
    "tour3 = power_seed_2(tour3)"
   ]
  },
  {
   "cell_type": "code",
   "execution_count": 31,
   "id": "bb2b2116-7255-48a6-9a44-b7ed3f6c6551",
   "metadata": {},
   "outputs": [],
   "source": [
    "def get_historical_tourney_perc(df):\n",
    "    ''' so im at this problem where I cant really use team ID as a dummy column \n",
    "    if I want to do a supervized learning technique, the problem being that \n",
    "    I would have a massive amount of columns, which would then make inverting \n",
    "    it very difficult, I would get a massive number of empty columns, so my data\n",
    "    would get very sparce very quickly. \n",
    "    \n",
    "    the reason I wanted to use team id would be for the program to have some sort of \n",
    "    way to recognize teams that do well across the tournament, Duke, Kentucky, and \n",
    "    teams of that nature come to mind. \n",
    "    \n",
    "    Going to build a dictionary with historical win percentages in the tournament. \n",
    "    \n",
    "    we will start from 1985, and go until 2003, and that will be the win percentage for \n",
    "    teams going into the 2003 tournament. Then we will have each year from 2003 onwards \n",
    "    will be its own year, and will be updated according to the wins and losses of the previous \n",
    "    tournament.\n",
    "    \n",
    "    this way we do not bias the results by including games that have already happened \n",
    "    for historical tournaments. \n",
    "    ''' \n",
    "    \n",
    "    # first read in the compact results for the NCAA tournament going back to 1985 \n",
    "    \n",
    "    keys = list(range(2003, year_+1))\n",
    "    #print(keys)\n",
    "    t_perc = {}\n",
    "    for i in range(len(keys)):\n",
    "        #initialize dict \n",
    "        season = {}\n",
    "        #find historical seasons \n",
    "        c_tour = df[df['Season'] < keys[i]]\n",
    "        \n",
    "        year = keys[i]\n",
    "        \n",
    "        wins = c_tour['WTeamID'].value_counts().reset_index()\n",
    "        losses = c_tour['LTeamID'].value_counts().reset_index()\n",
    "        \n",
    "        w_l = pd.merge(left = wins, right = losses, on = 'index')\n",
    "        w_l['total_games'] = w_l['WTeamID']+w_l['LTeamID']\n",
    "        \n",
    "        w_l['win_perc'] = w_l['WTeamID']/w_l['total_games']\n",
    "        \n",
    "        w_l['Season'] = year\n",
    "        year_dict = dict(zip(w_l['index'], w_l['win_perc']))\n",
    "        \n",
    "        t_perc.update({year:year_dict})\n",
    "        \n",
    "        \n",
    "    return t_perc      "
   ]
  },
  {
   "cell_type": "code",
   "execution_count": 32,
   "id": "8cc4b719-2ea4-42eb-b080-dce216fcf7b4",
   "metadata": {},
   "outputs": [],
   "source": [
    "tw = get_historical_tourney_perc(compact)"
   ]
  },
  {
   "cell_type": "code",
   "execution_count": 33,
   "id": "f757d75a-411c-46c2-9a0a-6a7edd5a0f8e",
   "metadata": {},
   "outputs": [],
   "source": [
    "pickle.dump(tw, open('../dictionaries/tw.pickle', 'wb'))"
   ]
  },
  {
   "cell_type": "code",
   "execution_count": 34,
   "id": "e1bce42b-a96e-4776-bf43-93a554cc9bd7",
   "metadata": {
    "tags": []
   },
   "outputs": [],
   "source": [
    "\n",
    "# with open(\"../data/tourney_wins.json\", 'w') as json_file:\n",
    "#     json.dump(page_rank, json_file)\n"
   ]
  },
  {
   "cell_type": "code",
   "execution_count": 35,
   "id": "8852794e-3d7d-41bb-a601-d395bc534f46",
   "metadata": {},
   "outputs": [],
   "source": [
    "#create page rank data \n",
    "def make_page_data(df):\n",
    "    \"\"\"\n",
    "    Parameters: takes in regular season compact details, \n",
    "    \n",
    "    we want to calculate page rank: \n",
    "    \n",
    "    Page rank is a google algorithm which is a network theory \n",
    "    result basically giving you the degree centrality for the \n",
    "    different nodes in the network. \n",
    "    \n",
    "    here our nodes are teams, and the edges are if they played. \n",
    "    we want to know which teams beat which teams who beat which \n",
    "    teams, there by we can get some sort of degree centrality for \n",
    "    the team that beat the most powerful teams... \n",
    "    \n",
    "    we need to get the yearly winners and loosers for the page rank\n",
    "    structure we have from a homework assignment i did back in like \n",
    "    2018. So we get the by year regular season data, store that in \n",
    "    individual sheets which will then be fed into our page rank \n",
    "    algorithm to give us a by year by team page rank value\n",
    "    \n",
    "    \"\"\"\n",
    "    \n",
    "    for i in tqdm(range(2003, year_+1)):\n",
    "        season = df[df['Season'] == i]\n",
    "        \n",
    "        data = season[['WTeamID', \"LTeamID\"]]\n",
    "        data = data.rename(columns = {\"WTeamID\":'Winner', 'LTeamID':'Loser'})\n",
    "        data.to_csv('../data/page_rank_data/'+str(i)+\"_page_data.csv\", index = False)"
   ]
  },
  {
   "cell_type": "code",
   "execution_count": 36,
   "id": "4aa0bb29-a4ab-4f5f-86d6-dc17dac9e860",
   "metadata": {},
   "outputs": [
    {
     "name": "stderr",
     "output_type": "stream",
     "text": [
      "100%|███████████████████████████████████████████████████████████████████████████████████████████████████████████████████████████████████████| 21/21 [00:00<00:00, 83.74it/s]\n"
     ]
    }
   ],
   "source": [
    "make_page_data(reg_deets)"
   ]
  },
  {
   "cell_type": "code",
   "execution_count": 37,
   "id": "20c203dc-8f5b-4592-b8e4-d7c324d7e3ec",
   "metadata": {},
   "outputs": [],
   "source": [
    "# Problems 1-2\n",
    "# Shout out to Dr Evans for making me do this homework lol \n",
    "\n",
    "class DiGraph:\n",
    "    \"\"\"A class for representing directed graphs via their adjacency matrices.\n",
    "\n",
    "    Attributes:\n",
    "        (fill this out after completing DiGraph.__init__().)\n",
    "    \"\"\"\n",
    "    # Problem 1\n",
    "    def __init__(self, A, labels=None):\n",
    "        \"\"\"Modify A so that there are no sinks in the corresponding graph,\n",
    "        then calculate Ahat. Save Ahat and the labels as attributes.\n",
    "\n",
    "        Parameters:\n",
    "            A ((n,n) ndarray): the adjacency matrix of a directed graph.\n",
    "                A[i,j] is the weight of the edge from node j to node i.\n",
    "            labels (list(str)): labels for the n nodes in the graph.\n",
    "                If None, defaults to [0, 1, ..., n-1].\n",
    "        \"\"\"\n",
    "        for i in range(len(A)):\n",
    "            if(np.allclose(A[:,i],np.zeros(len(A[0])))):\n",
    "                #remove sink\n",
    "                A[:,i] = 1\n",
    "        #create ahat\n",
    "        self.Ahat =  A / A.sum(axis=0)\n",
    "        #get length of A\n",
    "        self.n = len(A)\n",
    "        #if no labels\n",
    "        if labels == None:\n",
    "            #Set standard\n",
    "            self.labels = np.arange(0,len(A))\n",
    "        else:\n",
    "            #otherwise use labels\n",
    "            self.labels = labels\n",
    "            #throw an error if it dosn't match\n",
    "        if len(A) != len(self.labels):\n",
    "            raise ValueError(\"Number of labels is not equal to the number of nodes\")\n",
    "\n",
    "\n",
    "    # Problem 2\n",
    "    def linsolve(self, epsilon=0.85):\n",
    "        \"\"\"Compute the PageRank vector using the linear system method.\n",
    "\n",
    "        Parameters:\n",
    "            epsilon (float): the damping factor, between 0 and 1.\n",
    "\n",
    "        Returns:\n",
    "            dict(str -> float): A dictionary mapping labels to PageRank values.\n",
    "        \"\"\"\n",
    "        #find values\n",
    "        p = la.solve(np.identity(self.n)-epsilon*self.Ahat,(1-epsilon)*np.ones(self.n)/self.n)\n",
    "        #make a dictionary\n",
    "        dict = {self.labels[i]:p[i] for i in range(self.n)}\n",
    "        return dict\n",
    "\n",
    "    # Problem 2\n",
    "    def eigensolve(self, epsilon=0.85):\n",
    "        \"\"\"Compute the PageRank vector using the eigenvalue method.\n",
    "        Normalize the resulting eigenvector so its entries sum to 1.\n",
    "\n",
    "        Parameters:\n",
    "            epsilon (float): the damping factor, between 0 and 1.\n",
    "\n",
    "        Return:\n",
    "            dict(str -> float): A dictionary mapping labels to PageRank values.\n",
    "        \"\"\"\n",
    "        #make B\n",
    "        B = epsilon*self.Ahat+(1-epsilon)/self.n*np.ones((self.n,self.n))\n",
    "        #get eig stuff\n",
    "        eigvals, eigvects = la.eig(B)\n",
    "        #get the eig vector for the largest value\n",
    "        p = eigvects[:,0].real\n",
    "        #normalize it\n",
    "        p = p/p.sum()\n",
    "        #make a dictionary\n",
    "        D = {self.labels[i]:p[i] for i in range(self.n)}\n",
    "        #return the dictionary\n",
    "        return D\n",
    "\n",
    "    # Problem 2\n",
    "    def itersolve(self, epsilon=0.85, maxiter=100, tol=1e-12):\n",
    "        \"\"\"Compute the PageRank vector using the iterative method.\n",
    "\n",
    "        Parameters:\n",
    "            epsilon (float): the damping factor, between 0 and 1.\n",
    "            maxiter (int): the maximum number of iterations to compute.\n",
    "            tol (float): the convergence tolerance.\n",
    "\n",
    "        Return:\n",
    "            dict(str -> float): A dictionary mapping labels to PageRank values.\n",
    "        \"\"\"\n",
    "        t = 0\n",
    "        #set p\n",
    "        p = [1/self.n for n in range(self.n)]\n",
    "        #while loop\n",
    "        while t < maxiter:\n",
    "            t += 1\n",
    "            #get the next p\n",
    "            pt = epsilon*self.Ahat@p + (1 - epsilon)*np.ones(self.n)/self.n\n",
    "            #stop if it meets the stopping condition\n",
    "            if(la.norm(pt - p, ord=1) < tol):\n",
    "                break\n",
    "            #otherwise reset\n",
    "            p = pt\n",
    "        #create the dictionary\n",
    "        D = {self.labels[i]:pt[i] for i in range(self.n)}\n",
    "        #return the dicitonary\n",
    "        return D\n",
    "\n",
    "# Problem 3\n",
    "def get_ranks(d):\n",
    "    \"\"\"Construct a sorted list of labels based on the PageRank vector.\n",
    "\n",
    "    Parameters:\n",
    "        d (dict(str -> float)): a dictionary mapping labels to PageRank values.\n",
    "\n",
    "    Returns:\n",
    "        (list) the keys of d, sorted by PageRank value from greatest to least.\n",
    "    \"\"\"\n",
    "    #get the keys\n",
    "    keys = np.array(list(d.keys()))\n",
    "    #get the values\n",
    "    values = list(d.values())\n",
    "    #create a mask\n",
    "    mask = np.array(np.argsort(values)[::-1])\n",
    "    #return the stuff\n",
    "    return list(keys[mask])\n",
    "\n",
    "# Problem 5\n",
    "def rank_ncaa_teams(filename, epsilon=0.85):\n",
    "    \"\"\"Read the specified file and construct a graph where node j points to\n",
    "    node i with weight w if team j was defeated by team i in w games. Use the\n",
    "    DiGraph class and its itersolve() method to compute the PageRank values of\n",
    "    the teams, then rank them with get_ranks().\n",
    "\n",
    "    Each line of the file has the format\n",
    "        A,B\n",
    "    meaning team A defeated team B.\n",
    "\n",
    "    Parameters:\n",
    "        filename (str): the name of the data file to read.\n",
    "        epsilon (float): the damping factor, between 0 and 1.\n",
    "\n",
    "    Returns:\n",
    "        (list(str)): The ranked list of team names.\n",
    "    \"\"\"\n",
    "    labels = []\n",
    "    with open(filename,'r') as infile:\n",
    "        content = infile.read().strip()\n",
    "    #print(content)\n",
    "    labels = sorted(set(content.replace('\\n',',').split(',')))\n",
    "    labels.remove(\"Loser\")\n",
    "    labels.remove(\"Winner\")\n",
    "    #init dictionary\n",
    "    Dict = {team: i for i, team in enumerate(labels)}\n",
    "    #init adjacency matrix\n",
    "    A = np.zeros((len(labels), len(labels)))\n",
    "    #get the information from the lines\n",
    "    for line in content.split('\\n')[1:]:\n",
    "        teams = line.split(',')\n",
    "        row = Dict[teams[0]]\n",
    "        column = Dict[teams[1]]\n",
    "        A[row][column] += 1\n",
    "    D = DiGraph(A, labels=labels)\n",
    "    #get the page rank\n",
    "    PageRank_ = D.itersolve(epsilon = epsilon)\n",
    "    #return the stuff\n",
    "    #print(PageRank_)\n",
    "    return PageRank_, get_ranks(PageRank_)\n",
    "\n",
    "\n"
   ]
  },
  {
   "cell_type": "code",
   "execution_count": 38,
   "id": "dd7c5e90-91f0-4b83-997c-db65977344e9",
   "metadata": {},
   "outputs": [],
   "source": [
    "def get_page_rank():\n",
    "    '''\n",
    "    we take the page rank algorithm from above \n",
    "    which takes in the page rank data that we have saved \n",
    "    previously. \n",
    "    \n",
    "    it will then return a dictionary of seasons \n",
    "    which will have a dicitonary of teams and their \n",
    "    degree centrality (page rank), which we will then \n",
    "    use as a feature for our algorithm later on \n",
    "    \n",
    "    '''\n",
    "    \n",
    "    page_data = {}\n",
    "    teams_rank = {}\n",
    "    path = '../data/page_rank_data/'\n",
    "    for i in range(2003, year_+1):\n",
    "        full_path = path+str(i)+\"_page_data.csv\"\n",
    "        #year_data = pd.read_csv(full_path)\n",
    "        \n",
    "        year_page, ranked = rank_ncaa_teams(full_path)\n",
    "        \n",
    "        page_data.update({i:year_page})\n",
    "        teams_rank.update({i:ranked})\n",
    "        \n",
    "    return page_data, teams_rank\n",
    "            "
   ]
  },
  {
   "cell_type": "code",
   "execution_count": null,
   "id": "e6e3fd74-0f69-4d85-98e6-5fed604644a7",
   "metadata": {
    "tags": []
   },
   "outputs": [],
   "source": []
  },
  {
   "cell_type": "code",
   "execution_count": 39,
   "id": "8230dea6-f7f6-491a-b0e6-9299c511b7d5",
   "metadata": {},
   "outputs": [],
   "source": [
    "page_rank, teams_rank = get_page_rank()"
   ]
  },
  {
   "cell_type": "code",
   "execution_count": 40,
   "id": "8aa4e5f8-a338-425a-abbb-0dc012357775",
   "metadata": {
    "tags": []
   },
   "outputs": [],
   "source": [
    "#page_rank\n",
    "pickle.dump(page_rank, open('../dictionaries/page_rank.pickle', 'wb'))"
   ]
  },
  {
   "cell_type": "code",
   "execution_count": null,
   "id": "45d5e1ef-e58f-456e-8731-8455d72b3180",
   "metadata": {},
   "outputs": [],
   "source": []
  },
  {
   "cell_type": "code",
   "execution_count": 41,
   "id": "4c4ba29d-de72-427a-8f3e-f33d2226ce59",
   "metadata": {
    "tags": []
   },
   "outputs": [],
   "source": [
    "# with open(\"../data/page_rank.json\", 'r') as json_file:\n",
    "#     pr = json.load(json_file, parse_int=int)\n",
    "# # Convert keys to integers\n",
    "# pr = {int(key): value for key, value in pr.items()}"
   ]
  },
  {
   "cell_type": "code",
   "execution_count": null,
   "id": "db1dd35f-704e-4f70-bfbd-8b6be625cb9d",
   "metadata": {
    "tags": []
   },
   "outputs": [],
   "source": []
  },
  {
   "cell_type": "code",
   "execution_count": 42,
   "id": "33469758-4085-4899-badc-92665015f6ac",
   "metadata": {},
   "outputs": [],
   "source": [
    "def get_round(df):\n",
    "    '''\n",
    "    takes in tournament data, assigns a categorical \n",
    "    variable based on DayNum for the round \n",
    "    \n",
    "    DayNum=136 or 137 (Thu/Fri) - Round 1, to bring the tournament field from 64 teams to 32 teams\n",
    "    DayNum=138 or 139 (Sat/Sun) - Round 2, to bring the tournament field from 32 teams to 16 teams\n",
    "    DayNum=143 or 144 (Thu/Fri) - Round 3, otherwise known as \"Sweet Sixteen\", to bring the tournament field from 16 teams to 8 teams\n",
    "    DayNum=145 or 146 (Sat/Sun) - Round 4, otherwise known as \"Elite Eight\" or \"regional finals\", to bring the tournament field from 8 teams to 4 teams\n",
    "    DayNum=152 (Sat) - Round 5, otherwise known as \"Final Four\" or \"national semifinals\", to bring the tournament field from 4 teams to 2 teams\n",
    "    DayNum=154 (Mon) - Round 6, otherwise known as \"national final\" or \"national championship\", to bring the tournament field from 2 teams to 1 champion team\n",
    "    '''\n",
    "    \n",
    "    df['first_round'] = df['DayNum'].apply(lambda x: 1 if x in [136, 137] else 0)\n",
    "    df['second_round'] = df['DayNum'].apply(lambda x: 1 if x in [138, 139] else 0)\n",
    "    df['sweet_16'] = df['DayNum'].apply(lambda x: 1 if x in [143, 144] else 0)\n",
    "    df['elite_8'] = df['DayNum'].apply(lambda x: 1 if x in [145, 146] else 0)\n",
    "    df['final_four'] = df['DayNum'].apply(lambda x: 1 if x == 152 else 0)\n",
    "    df['championship'] = df['DayNum'].apply(lambda x: 1 if x == 154 else 0)\n",
    "    \n",
    "    return df "
   ]
  },
  {
   "cell_type": "code",
   "execution_count": 43,
   "id": "49289aca-0c47-4982-a245-985f54ec27b2",
   "metadata": {},
   "outputs": [],
   "source": [
    "tour4 = get_round(tour3)"
   ]
  },
  {
   "cell_type": "code",
   "execution_count": 44,
   "id": "c70ea712-c99c-4f30-9770-4a34602a92c4",
   "metadata": {},
   "outputs": [],
   "source": [
    "def get_reg_avgs2(df):\n",
    "    \"\"\"\n",
    "    Parameters: Tournament details that has gone through the \n",
    "    cleaning and prepping phases highlighted above \n",
    "    \n",
    "    ADDITIONALLY: Although not a direct input, but another parameter is the total_dict \n",
    "    that we have build to have the regular season averages by team\n",
    "    by season, that will be used to fill the different features, \n",
    "    change those from the actual \"in game\" values to regular season \n",
    "    average values, and then we will add some more features here and \n",
    "    a few later on. \n",
    "    \n",
    "    Creating the features that we want for our modeling df --> \n",
    "    ready go! \n",
    "    \n",
    "    \"\"\"  \n",
    "    df['HS_avg_score'] = df.apply(lambda x: total_dict[x['HSTeamID']][x['Season']]['Score'], axis = 1)\n",
    "    df['HS_avg_against'] = df.apply(lambda x: total_dict[x['HSTeamID']][x['Season']]['Op_score'], axis = 1)\n",
    "    \n",
    "    df['LS_avg_score'] = df.apply(lambda x: total_dict[x['LSTeamID']][x['Season']]['Score'], axis = 1)\n",
    "    df['LS_avg_against'] = df.apply(lambda x: total_dict[x['LSTeamID']][x['Season']]['Op_score'], axis = 1)\n",
    "    \n",
    "    \n",
    "    df['HS_wins'] =  df.apply(lambda x: total_dict[x['HSTeamID']][x['Season']]['num_wins'], axis = 1)\n",
    "    df['HS_loss'] =  df.apply(lambda x: total_dict[x['HSTeamID']][x['Season']]['num_loss'], axis = 1)\n",
    "    \n",
    "    df['LS_wins'] = df.apply(lambda x: total_dict[x['LSTeamID']][x['Season']]['num_wins'], axis = 1)\n",
    "    df['LS_loss'] = df.apply(lambda x: total_dict[x['LSTeamID']][x['Season']]['num_loss'], axis = 1)\n",
    "    \n",
    "    df['HS_op_FGM'] = df.apply(lambda x: total_dict[x['HSTeamID']][x['Season']]['Op_FGM'], axis = 1)\n",
    "    df['HS_op_FGA'] =df.apply(lambda x: total_dict[x['HSTeamID']][x['Season']]['Op_FGA'], axis = 1)\n",
    "    df['HS_op_FMG3'] = df.apply(lambda x: total_dict[x['HSTeamID']][x['Season']]['Op_FGM3'], axis = 1)\n",
    "    df['HS_op_FGA3'] = df.apply(lambda x: total_dict[x['HSTeamID']][x['Season']]['Op_FGA3'], axis = 1)\n",
    "    df['HS_op_OR'] = df.apply(lambda x: total_dict[x['HSTeamID']][x['Season']]['Op_OR'], axis = 1)\n",
    "    df['HS_op_DR'] =  df.apply(lambda x: total_dict[x['HSTeamID']][x['Season']]['Op_DR'], axis = 1)\n",
    "    df['HS_op_To'] = df.apply(lambda x: total_dict[x['HSTeamID']][x['Season']]['Op_TO'], axis = 1)\n",
    "    \n",
    "    df['LS_op_FGM'] = df.apply(lambda x: total_dict[x['LSTeamID']][x['Season']]['Op_FGM'], axis = 1)\n",
    "    df['LS_op_FGA'] =df.apply(lambda x: total_dict[x['LSTeamID']][x['Season']]['Op_FGA'], axis = 1)\n",
    "    df['LS_op_FMG3'] = df.apply(lambda x: total_dict[x['LSTeamID']][x['Season']]['Op_FGM3'], axis = 1)\n",
    "    df['LS_op_FGA3'] = df.apply(lambda x: total_dict[x['LSTeamID']][x['Season']]['Op_FGA3'], axis = 1)\n",
    "    df['LS_op_OR'] = df.apply(lambda x: total_dict[x['LSTeamID']][x['Season']]['Op_OR'], axis = 1)\n",
    "    df['LS_op_DR'] =  df.apply(lambda x: total_dict[x['LSTeamID']][x['Season']]['Op_DR'], axis = 1)\n",
    "    df['LS_op_To'] = df.apply(lambda x: total_dict[x['LSTeamID']][x['Season']]['Op_TO'], axis = 1)\n",
    "    \n",
    "    \n",
    "    df['HSFGM'] = df.apply(lambda x: total_dict[x['HSTeamID']][x['Season']]['FGM'], axis = 1)\n",
    "    df['HSFGA'] = df.apply(lambda x: total_dict[x['HSTeamID']][x['Season']]['FGA'], axis = 1)\n",
    "    df['HSFGM3'] = df.apply(lambda x: total_dict[x['HSTeamID']][x['Season']]['FGM3'], axis = 1)\n",
    "    df['HSFGA3'] = df.apply(lambda x: total_dict[x['HSTeamID']][x['Season']]['FGA3'], axis = 1)\n",
    "    df['HSFTM'] = df.apply(lambda x: total_dict[x['HSTeamID']][x['Season']]['FTM'], axis = 1)\n",
    "    df['HSFTA'] = df.apply(lambda x: total_dict[x['HSTeamID']][x['Season']]['FTA'], axis = 1)\n",
    "    df['HSOR'] = df.apply(lambda x: total_dict[x['HSTeamID']][x['Season']]['OR'], axis = 1)\n",
    "    df['HSDR'] = df.apply(lambda x: total_dict[x['HSTeamID']][x['Season']]['DR'], axis = 1)\n",
    "    df['HSAst'] = df.apply(lambda x: total_dict[x['HSTeamID']][x['Season']]['Ast'], axis = 1)\n",
    "    df['HSStl'] = df.apply(lambda x: total_dict[x['HSTeamID']][x['Season']]['Stl'], axis = 1)\n",
    "    df['HSBlk'] = df.apply(lambda x: total_dict[x['HSTeamID']][x['Season']]['Blk'], axis = 1)\n",
    "    df['HSPF'] = df.apply(lambda x: total_dict[x['HSTeamID']][x['Season']]['PF'], axis = 1)\n",
    "    \n",
    "    \n",
    "    df['LSFGM'] = df.apply(lambda x: total_dict[x['LSTeamID']][x['Season']]['FGM'], axis = 1)\n",
    "    df['LSFGA'] = df.apply(lambda x: total_dict[x['LSTeamID']][x['Season']]['FGA'], axis = 1)\n",
    "    df['LSFGM3'] = df.apply(lambda x: total_dict[x['LSTeamID']][x['Season']]['FGM3'], axis = 1)\n",
    "    df['LSFGA3'] = df.apply(lambda x: total_dict[x['LSTeamID']][x['Season']]['FGA3'], axis = 1)\n",
    "    df['LSFTM'] = df.apply(lambda x: total_dict[x['LSTeamID']][x['Season']]['FTM'], axis = 1)\n",
    "    df['LSFTA'] = df.apply(lambda x: total_dict[x['LSTeamID']][x['Season']]['FTA'], axis = 1)\n",
    "    df['LSFTA'] = df.apply(lambda x: total_dict[x['LSTeamID']][x['Season']]['OR'], axis = 1)\n",
    "    df['LSDR'] = df.apply(lambda x: total_dict[x['LSTeamID']][x['Season']]['DR'], axis = 1)\n",
    "    df['LSAst'] = df.apply(lambda x: total_dict[x['LSTeamID']][x['Season']]['Ast'], axis = 1)\n",
    "    df['LSStl'] = df.apply(lambda x: total_dict[x['LSTeamID']][x['Season']]['Stl'], axis = 1)\n",
    "    df['LSBlk'] = df.apply(lambda x: total_dict[x['LSTeamID']][x['Season']]['Blk'], axis = 1)\n",
    "    df['LSPF'] = df.apply(lambda x: total_dict[x['LSTeamID']][x['Season']]['PF'], axis = 1)\n",
    "    \n",
    "\n",
    "    #drop columns we dont need \n",
    "    df = df.drop(columns = ['DayNum', 'WLoc', 'NumOT', 'ls_seed', 'ws_seed'])   \n",
    "    return df      "
   ]
  },
  {
   "cell_type": "code",
   "execution_count": 45,
   "id": "5a4f8f92-f9fc-42a5-8e81-eb409cf73e1a",
   "metadata": {},
   "outputs": [],
   "source": [
    "tour5 = get_reg_avgs2(tour4)"
   ]
  },
  {
   "cell_type": "code",
   "execution_count": null,
   "id": "e5d8084a-a58e-44ba-b33c-e4011fe22951",
   "metadata": {
    "tags": []
   },
   "outputs": [],
   "source": []
  },
  {
   "cell_type": "code",
   "execution_count": 46,
   "id": "f099ce54-4ada-402d-915e-f7a51c23fcdb",
   "metadata": {},
   "outputs": [],
   "source": [
    "tour5.to_csv('testd_for_noah.csv')"
   ]
  },
  {
   "cell_type": "code",
   "execution_count": 47,
   "id": "5cbcab35-9a45-421d-b29e-dd692c677764",
   "metadata": {},
   "outputs": [],
   "source": [
    "def get_conf_data(df):\n",
    "    '''\n",
    "    Parameters: takes in data frame from previous function with features almost \n",
    "    ready for trainign, \n",
    "    \n",
    "    uses conf_champ dictionary and conf_affil dictionaries to get conference afiliation \n",
    "    and if the teams in question were conference champions. \n",
    "    \n",
    "    NOTE: the ivy league only started playing a conference tournament in 2017\n",
    "    so if not found insert ivy lol \n",
    "    '''\n",
    "    #https://torchcollegerecruiting.com/z_a3_high_mid_low_majors/1641907452726x394612841469246460\n",
    "    # high vs medium vs low major conferences \n",
    "\n",
    "    power_conf = [\"acc\", 'sec', \"big_ten\", \n",
    "                  \"big_twelve\", \"pac_ten\", \"pac_twelve\"]\n",
    "\n",
    "    mid_major = ['cusa', 'aac', 'mwc', 'sun_belt', 'ivy', \n",
    "                 'mac', 'big_sky', 'meac' ,'southland', \n",
    "                 'summit', 'wac', 'wcc',]\n",
    "\n",
    "    low_major = ['aec', 'a_ten', 'big_south', 'caa', \n",
    "                 'nec', 'patriot', 'southern', 'swac', \n",
    "                 'mvc', 'a_sun', 'ovc', 'horizon', \n",
    "                 'maac', 'swac']    \n",
    "    \n",
    "    \n",
    "    hs_conf= []\n",
    "    ls_conf = []\n",
    "    \n",
    "    hs_conf_champ = []\n",
    "    ls_conf_champ = []\n",
    "    for i in tqdm(range(len(df))):\n",
    "        try:\n",
    "            hs_conf.append(conf_affil[df['Season'][i]][df['HSTeamID'][i]])\n",
    "\n",
    "        except:\n",
    "            hs_conf.append('ivy')\n",
    "\n",
    "        try:\n",
    "            ls_conf.append(conf_affil[df['Season'][i]][df['LSTeamID'][i]]) \n",
    "        except:\n",
    "            ls_conf.append('ivy')\n",
    "        \n",
    "        \n",
    "        if df['HSTeamID'][i] in list(conf_champs[df['Season'][i]].keys()):\n",
    "            hs_conf_champ.append(1)\n",
    "        else:\n",
    "            hs_conf_champ.append(0)\n",
    "        \n",
    "        if df['LSTeamID'][i] in list(conf_champs[df['Season'][i]].keys()):\n",
    "            ls_conf_champ.append(1)\n",
    "        else:\n",
    "            ls_conf_champ.append(0)\n",
    "        \n",
    "        \n",
    "    \n",
    "    df['HS_Conf'] = hs_conf\n",
    "    df['LS_Conf'] = ls_conf\n",
    "    \n",
    "    df['HS_power_conf']= df['HS_Conf'].apply(lambda x: 1 if x in power_conf else 0)\n",
    "    df['HS_mid_conf']= df['HS_Conf'].apply(lambda x: 1 if x in mid_major else 0)\n",
    "    df['HS_low_conf'] = df['HS_Conf'].apply(lambda x: 1 if x in low_major else 0)\n",
    "    \n",
    "    df['LS_power_conf']= df['LS_Conf'].apply(lambda x: 1 if x in power_conf else 0)\n",
    "    df['LS_mid_conf']= df['LS_Conf'].apply(lambda x: 1 if x in mid_major else 0)\n",
    "    df['LS_low_conf'] = df['LS_Conf'].apply(lambda x: 1 if x in low_major else 0)    \n",
    "\n",
    "    df['HS_conf_champ'] = hs_conf_champ\n",
    "    df['LS_conf_champ'] = ls_conf_champ\n",
    "    \n",
    "    \n",
    "    df = df.drop(columns = ['HS_Conf', 'LS_Conf',])\n",
    "    return df "
   ]
  },
  {
   "cell_type": "code",
   "execution_count": 48,
   "id": "aaf7ee36-d394-4e91-92cd-eab2ff1d81ed",
   "metadata": {},
   "outputs": [
    {
     "name": "stderr",
     "output_type": "stream",
     "text": [
      "100%|██████████████████████████████████████████████████████████████████████████████████████████████████████████████████████████████████| 955/955 [00:00<00:00, 15454.56it/s]\n"
     ]
    }
   ],
   "source": [
    "tour6 = get_conf_data(tour5)"
   ]
  },
  {
   "cell_type": "code",
   "execution_count": null,
   "id": "52972f54-1b81-441a-82b5-d97d12d935d6",
   "metadata": {},
   "outputs": [],
   "source": []
  },
  {
   "cell_type": "code",
   "execution_count": 49,
   "id": "dad91a45-412c-450e-8e36-bb553bfbae42",
   "metadata": {},
   "outputs": [],
   "source": [
    "def apply_page_rank(df):\n",
    "    '''\n",
    "    Parameters: tournament DF in the preperation phase for modeling, \n",
    "    ADDITIONALLY: page_rank dictionary\n",
    "    \n",
    "    Having completed the page rank steps above, we have a page rank dictionary\n",
    "    \"page_rank\", which has the by season by team values for the different teams, \n",
    "    we will use this to populate page rank for low and high seeds \n",
    "    \n",
    "    '''\n",
    "    #df['HS_page_rank'] = np.zeros(len(df))\n",
    "    #df['LS_page_rank'] = np.zeros(len(df))\n",
    "    \n",
    "        #print(i)\n",
    "    df['HS_page_rank'] = df.apply(lambda x: page_rank[x['Season']][str(x['HSTeamID'])], axis = 1)\n",
    "    df['LS_page_rank'] = df.apply(lambda x: page_rank[x['Season']][str(x['LSTeamID'])], axis = 1)\n",
    "    return df     \n",
    "    "
   ]
  },
  {
   "cell_type": "code",
   "execution_count": 50,
   "id": "c3fb05a5-cc48-42e3-aba4-1ead624ccc4e",
   "metadata": {},
   "outputs": [],
   "source": [
    "tour7 = apply_page_rank(tour6)"
   ]
  },
  {
   "cell_type": "code",
   "execution_count": 51,
   "id": "2990843d-9662-4e9c-8045-4fc979cb224e",
   "metadata": {},
   "outputs": [],
   "source": [
    "def get_hist_wins(df):\n",
    "    '''\n",
    "    Parameters: tournament DF in the preperation phase for modeling, \n",
    "    ADDITIONALLY: tw (tournament wins) dictionary\n",
    "    \n",
    "    having discussed this above, we probably cannot use teamID's as \n",
    "    features simply because those will be constantly changing throughout the rounds \n",
    "    and years of the tournament, makign it difficult to have consistent features if \n",
    "    we trim down / out teams that have been elemenated, but also the dimmensionality \n",
    "    will be enormous and be very sparce, so instead we will use historical tournament \n",
    "    winning percentage to try and capture some of that \"recognize me I've won in the \n",
    "    tournament a lot\" vibe we might be able to get from team_id \n",
    "    \n",
    "    '''\n",
    "    df['HS_historical_tournament_win%'] = np.zeros(len(df))\n",
    "    df['LS_historical_tournament_win%'] = np.zeros(len(df))\n",
    "    \n",
    "    \n",
    "    for i in tqdm(range(len(df))):\n",
    "        try:\n",
    "            df['HS_historical_tournament_win%'][i] = tw[df['Season'][i]][df['HSTeamID'][i]]\n",
    "            df['LS_historical_tournament_win%'][i] = tw[df['Season'][i]][df['LSTeamID'][i]]\n",
    "        except:\n",
    "            df['LS_historical_tournament_win%'][i] = 0\n",
    "        \n",
    "    return df \n",
    "                                                                \n",
    "                                                    \n",
    "                                                                  \n",
    "        "
   ]
  },
  {
   "cell_type": "code",
   "execution_count": 52,
   "id": "8dc5c823-0292-426d-8eaa-0c3a32873749",
   "metadata": {},
   "outputs": [
    {
     "name": "stderr",
     "output_type": "stream",
     "text": [
      "100%|███████████████████████████████████████████████████████████████████████████████████████████████████████████████████████████████████| 955/955 [00:00<00:00, 1493.23it/s]\n"
     ]
    }
   ],
   "source": [
    "tour8 = get_hist_wins(tour7)"
   ]
  },
  {
   "cell_type": "code",
   "execution_count": 53,
   "id": "a80be039-23b7-4636-8381-450bbc2e3705",
   "metadata": {},
   "outputs": [],
   "source": [
    "def get_target(df):\n",
    "    '''\n",
    "    Parameters: DF in prep stage for modeling\n",
    "    \n",
    "    with the feature building steps finally complete, \n",
    "    our last feature is for us to create our target variabe \n",
    "    did the higher seed win or lose? \n",
    "    \n",
    "    '''\n",
    "    \n",
    "    df['target'] = tour4.apply(lambda x: 1 if x['HS_Score'] > x['LS_Score'] else 0, axis = 1)\n",
    "    \n",
    "    return df \n",
    "    \n",
    "    "
   ]
  },
  {
   "cell_type": "code",
   "execution_count": 54,
   "id": "381cb0c1-bc83-4023-9796-ea93d1226361",
   "metadata": {},
   "outputs": [],
   "source": [
    "tour9 = get_target(tour8)"
   ]
  },
  {
   "cell_type": "code",
   "execution_count": null,
   "id": "911c4c13-4de3-458d-a6c6-fda371c6aa3b",
   "metadata": {},
   "outputs": [],
   "source": []
  },
  {
   "cell_type": "code",
   "execution_count": null,
   "id": "4b716e6e-1b8e-4930-99ed-4850937e2ca1",
   "metadata": {
    "tags": []
   },
   "outputs": [],
   "source": []
  },
  {
   "cell_type": "code",
   "execution_count": null,
   "id": "fb6280df-1cc6-4932-bafc-ca8729021434",
   "metadata": {},
   "outputs": [],
   "source": []
  },
  {
   "cell_type": "code",
   "execution_count": null,
   "id": "9f561cf1-0804-404f-955d-2421404dcf8a",
   "metadata": {},
   "outputs": [],
   "source": []
  },
  {
   "cell_type": "code",
   "execution_count": null,
   "id": "161c8928-0f1a-437b-8fdc-21a91f4abca4",
   "metadata": {},
   "outputs": [],
   "source": []
  },
  {
   "cell_type": "code",
   "execution_count": null,
   "id": "a02808d5-4284-43d4-9105-15143dd7b015",
   "metadata": {},
   "outputs": [],
   "source": []
  },
  {
   "cell_type": "code",
   "execution_count": 57,
   "id": "a0012a4f-3879-4377-978b-ffbedeb3575b",
   "metadata": {},
   "outputs": [
    {
     "data": {
      "text/plain": [
       "1    658\n",
       "0    297\n",
       "Name: target, dtype: int64"
      ]
     },
     "execution_count": 57,
     "metadata": {},
     "output_type": "execute_result"
    }
   ],
   "source": [
    "tour9['target'].value_counts()"
   ]
  },
  {
   "cell_type": "code",
   "execution_count": 58,
   "id": "5cdde3eb-074f-4aa3-9c09-38b05023f618",
   "metadata": {},
   "outputs": [
    {
     "data": {
      "text/plain": [
       "<Axes: >"
      ]
     },
     "execution_count": 58,
     "metadata": {},
     "output_type": "execute_result"
    },
    {
     "data": {
      "image/png": "[encoded data removed]",
      "text/plain": [
       "<Figure size 1000x600 with 2 Axes>"
      ]
     },
     "metadata": {},
     "output_type": "display_data"
    }
   ],
   "source": [
    "corr_mat = tour9.corr()\n",
    "f, ax = plt.subplots(figsize = (10, 6))\n",
    "sns.heatmap(corr_mat,vmax=.8,square=True)"
   ]
  },
  {
   "cell_type": "markdown",
   "id": "ff610b07-a855-4c5d-a22a-e4a690dc3ed4",
   "metadata": {},
   "source": [
    "# Training and validation phase "
   ]
  },
  {
   "cell_type": "code",
   "execution_count": 59,
   "id": "6b6dd201-96e4-4783-9d70-2bc518d1ae25",
   "metadata": {},
   "outputs": [
    {
     "name": "stdout",
     "output_type": "stream",
     "text": [
      "train seasons: [2013, 2007, 2015, 2004, 2005, 2016, 2011, 2019, 2008, 2012, 2003, 2017, 2006, 2022, 2009]\n",
      "val seasons: [2018, 2020, 2021, 2010, 2014]\n"
     ]
    }
   ],
   "source": [
    "seasons = list(range(2003, year_))\n",
    "\n",
    "random.seed(7)\n",
    "train_seasons = random.sample(seasons, 15)\n",
    "print(\"train seasons:\", train_seasons)\n",
    "val_seasons = list(set(seasons)-set(train_seasons))\n",
    "print(\"val seasons:\", val_seasons)\n",
    "#get rid of 2020 in val season - no tournament that year "
   ]
  },
  {
   "cell_type": "code",
   "execution_count": 60,
   "id": "1ab285cc-9518-4a0e-a98b-232c050570d2",
   "metadata": {},
   "outputs": [],
   "source": [
    "def make_train_val(df):\n",
    "    \n",
    "    df['train'] = df['Season'].apply(lambda x: 1 if x in train_seasons else 0)\n",
    "    df['validate'] = df['Season'].apply(lambda x: 1 if x in val_seasons else 0)\n",
    "    \n",
    "    train = df[df['train'] == 1]\n",
    "    val = df[df['validate']==1]\n",
    "    \n",
    "    val = val.drop(columns = ['validate', 'train', \"Season\", \"HSTeamID\",\"LSTeamID\",'LS_Score', \"HS_Score\", ])\n",
    "    train = train.drop(columns = ['train','validate', \"Season\",\"HSTeamID\",\"LSTeamID\",'LS_Score', \"HS_Score\", ])\n",
    "    \n",
    "    return val, train"
   ]
  },
  {
   "cell_type": "code",
   "execution_count": 61,
   "id": "0347f3a7-b051-4b07-9ba8-4889ea516a91",
   "metadata": {},
   "outputs": [],
   "source": [
    "val, train = make_train_val(tour9)"
   ]
  },
  {
   "cell_type": "code",
   "execution_count": 66,
   "id": "82f81062-1273-49c7-acb4-45bb694ed7a4",
   "metadata": {},
   "outputs": [],
   "source": [
    "y_train = train['target']\n",
    "x_train = train.drop(columns = ['target']) \n",
    "\n",
    "y_val = val['target']\n",
    "x_val = val.drop(columns = ['target'])"
   ]
  },
  {
   "cell_type": "code",
   "execution_count": 69,
   "id": "45e63524-c060-41bb-a84b-6cd47722c656",
   "metadata": {
    "tags": []
   },
   "outputs": [],
   "source": [
    "# Note, use CV for cross-validation as requested in the question\n",
    "from sklearn.linear_model import LogisticRegressionCV\n",
    "elastic_net_classifier = LogisticRegressionCV(cv=3, penalty='elasticnet', l1_ratios=[0.1, 0.5, 0.9], solver='saga')\n"
   ]
  },
  {
   "cell_type": "code",
   "execution_count": 70,
   "id": "0749656e-70c7-49cf-ad13-0631ab922f23",
   "metadata": {
    "tags": []
   },
   "outputs": [
    {
     "data": {
      "text/html": [
       "<style>#sk-container-id-2 {color: black;}#sk-container-id-2 pre{padding: 0;}#sk-container-id-2 div.sk-toggleable {background-color: white;}#sk-container-id-2 label.sk-toggleable__label {cursor: pointer;display: block;width: 100%;margin-bottom: 0;padding: 0.3em;box-sizing: border-box;text-align: center;}#sk-container-id-2 label.sk-toggleable__label-arrow:before {content: \"▸\";float: left;margin-right: 0.25em;color: #696969;}#sk-container-id-2 label.sk-toggleable__label-arrow:hover:before {color: black;}#sk-container-id-2 div.sk-estimator:hover label.sk-toggleable__label-arrow:before {color: black;}#sk-container-id-2 div.sk-toggleable__content {max-height: 0;max-width: 0;overflow: hidden;text-align: left;background-color: #f0f8ff;}#sk-container-id-2 div.sk-toggleable__content pre {margin: 0.2em;color: black;border-radius: 0.25em;background-color: #f0f8ff;}#sk-container-id-2 input.sk-toggleable__control:checked~div.sk-toggleable__content {max-height: 200px;max-width: 100%;overflow: auto;}#sk-container-id-2 input.sk-toggleable__control:checked~label.sk-toggleable__label-arrow:before {content: \"▾\";}#sk-container-id-2 div.sk-estimator input.sk-toggleable__control:checked~label.sk-toggleable__label {background-color: #d4ebff;}#sk-container-id-2 div.sk-label input.sk-toggleable__control:checked~label.sk-toggleable__label {background-color: #d4ebff;}#sk-container-id-2 input.sk-hidden--visually {border: 0;clip: rect(1px 1px 1px 1px);clip: rect(1px, 1px, 1px, 1px);height: 1px;margin: -1px;overflow: hidden;padding: 0;position: absolute;width: 1px;}#sk-container-id-2 div.sk-estimator {font-family: monospace;background-color: #f0f8ff;border: 1px dotted black;border-radius: 0.25em;box-sizing: border-box;margin-bottom: 0.5em;}#sk-container-id-2 div.sk-estimator:hover {background-color: #d4ebff;}#sk-container-id-2 div.sk-parallel-item::after {content: \"\";width: 100%;border-bottom: 1px solid gray;flex-grow: 1;}#sk-container-id-2 div.sk-label:hover label.sk-toggleable__label {background-color: #d4ebff;}#sk-container-id-2 div.sk-serial::before {content: \"\";position: absolute;border-left: 1px solid gray;box-sizing: border-box;top: 0;bottom: 0;left: 50%;z-index: 0;}#sk-container-id-2 div.sk-serial {display: flex;flex-direction: column;align-items: center;background-color: white;padding-right: 0.2em;padding-left: 0.2em;position: relative;}#sk-container-id-2 div.sk-item {position: relative;z-index: 1;}#sk-container-id-2 div.sk-parallel {display: flex;align-items: stretch;justify-content: center;background-color: white;position: relative;}#sk-container-id-2 div.sk-item::before, #sk-container-id-2 div.sk-parallel-item::before {content: \"\";position: absolute;border-left: 1px solid gray;box-sizing: border-box;top: 0;bottom: 0;left: 50%;z-index: -1;}#sk-container-id-2 div.sk-parallel-item {display: flex;flex-direction: column;z-index: 1;position: relative;background-color: white;}#sk-container-id-2 div.sk-parallel-item:first-child::after {align-self: flex-end;width: 50%;}#sk-container-id-2 div.sk-parallel-item:last-child::after {align-self: flex-start;width: 50%;}#sk-container-id-2 div.sk-parallel-item:only-child::after {width: 0;}#sk-container-id-2 div.sk-dashed-wrapped {border: 1px dashed gray;margin: 0 0.4em 0.5em 0.4em;box-sizing: border-box;padding-bottom: 0.4em;background-color: white;}#sk-container-id-2 div.sk-label label {font-family: monospace;font-weight: bold;display: inline-block;line-height: 1.2em;}#sk-container-id-2 div.sk-label-container {text-align: center;}#sk-container-id-2 div.sk-container {/* jupyter's `normalize.less` sets `[hidden] { display: none; }` but bootstrap.min.css set `[hidden] { display: none !important; }` so we also need the `!important` here to be able to override the default hidden behavior on the sphinx rendered scikit-learn.org. See: https://github.com/scikit-learn/scikit-learn/issues/21755 */display: inline-block !important;position: relative;}#sk-container-id-2 div.sk-text-repr-fallback {display: none;}</style><div id=\"sk-container-id-2\" class=\"sk-top-container\"><div class=\"sk-text-repr-fallback\"><pre>LogisticRegressionCV(cv=3, l1_ratios=[0.1, 0.5, 0.9], penalty=&#x27;elasticnet&#x27;,\n",
       "                     solver=&#x27;saga&#x27;)</pre><b>In a Jupyter environment, please rerun this cell to show the HTML representation or trust the notebook. <br />On GitHub, the HTML representation is unable to render, please try loading this page with nbviewer.org.</b></div><div class=\"sk-container\" hidden><div class=\"sk-item\"><div class=\"sk-estimator sk-toggleable\"><input class=\"sk-toggleable__control sk-hidden--visually\" id=\"sk-estimator-id-2\" type=\"checkbox\" checked><label for=\"sk-estimator-id-2\" class=\"sk-toggleable__label sk-toggleable__label-arrow\">LogisticRegressionCV</label><div class=\"sk-toggleable__content\"><pre>LogisticRegressionCV(cv=3, l1_ratios=[0.1, 0.5, 0.9], penalty=&#x27;elasticnet&#x27;,\n",
       "                     solver=&#x27;saga&#x27;)</pre></div></div></div></div></div>"
      ],
      "text/plain": [
       "LogisticRegressionCV(cv=3, l1_ratios=[0.1, 0.5, 0.9], penalty='elasticnet',\n",
       "                     solver='saga')"
      ]
     },
     "execution_count": 70,
     "metadata": {},
     "output_type": "execute_result"
    }
   ],
   "source": [
    "elastic_net_classifier.fit(x_train, y_train)\n",
    "\n"
   ]
  },
  {
   "cell_type": "code",
   "execution_count": 73,
   "id": "7a45627e-9d44-4854-b443-69974796cabd",
   "metadata": {
    "tags": []
   },
   "outputs": [
    {
     "name": "stdout",
     "output_type": "stream",
     "text": [
      "Elastic Net\n",
      "              precision    recall  f1-score   support\n",
      "\n",
      "           0       0.52      0.19      0.28        68\n",
      "           1       0.69      0.91      0.79       135\n",
      "\n",
      "    accuracy                           0.67       203\n",
      "   macro avg       0.61      0.55      0.53       203\n",
      "weighted avg       0.63      0.67      0.62       203\n",
      "\n"
     ]
    }
   ],
   "source": [
    "print(\"Elastic Net\")\n",
    "print(classification_report(y_val, elastic_net_classifier.predict(x_val)))"
   ]
  },
  {
   "cell_type": "code",
   "execution_count": 74,
   "id": "22698ef5-ae17-475c-9465-036e53f603f4",
   "metadata": {
    "tags": []
   },
   "outputs": [],
   "source": [
    "coefficients = elastic_net_classifier.coef_"
   ]
  },
  {
   "cell_type": "code",
   "execution_count": 82,
   "id": "7463aac4-339a-479f-95be-28a2c92cbb6b",
   "metadata": {
    "tags": []
   },
   "outputs": [],
   "source": [
    "coef_dict = dict(zip(tour9.columns, coefficients[0]))"
   ]
  },
  {
   "cell_type": "code",
   "execution_count": 83,
   "id": "da4f6345-586d-4be8-ad08-4e2d7e75f754",
   "metadata": {
    "tags": []
   },
   "outputs": [
    {
     "data": {
      "text/plain": [
       "{'Season': 0.064954882627581,\n",
       " 'HSTeamID': -0.01273767658325539,\n",
       " 'LSTeamID': 0.03073501742838312,\n",
       " 'HSFGM': -0.00639805174542656,\n",
       " 'HSFGA': -0.016745821790867005,\n",
       " 'HSFGM3': -0.055959206231753315,\n",
       " 'HSFGA3': 0.030681299819546586,\n",
       " 'HSFTM': -0.01686103386263631,\n",
       " 'HSFTA': -0.13752091112387488,\n",
       " 'HSOR': -0.1355252801253007,\n",
       " 'HSDR': -0.03300458802892514,\n",
       " 'HSAst': 0.051436267372205864,\n",
       " 'HSTO': -0.05724159370526846,\n",
       " 'HSStl': -0.049909620745240406,\n",
       " 'HSBlk': -0.0564112056820236,\n",
       " 'HSPF': 0.006739154413268906,\n",
       " 'HS_Score': -0.003470483917578429,\n",
       " 'LSFGM': 0.06921446578189884,\n",
       " 'LSFGA': 0.011417310832558755,\n",
       " 'LSFGM3': 0.08328296082290508,\n",
       " 'LSFGA3': -0.04532659524832598,\n",
       " 'LSFTM': -0.010991157563758477,\n",
       " 'LSFTA': -0.10957617327724074,\n",
       " 'LSOR': -0.08426208535978727,\n",
       " 'LSDR': 0.018098194045092966,\n",
       " 'LSAst': 0.03858658118762178,\n",
       " 'LSStl': 0.04101100397052452,\n",
       " 'LSBlk': -0.037195946560593336,\n",
       " 'LSPF': -0.04372004257339317,\n",
       " 'LSTO': 0.06273618843080986,\n",
       " 'LS_Score': 0.07324218676691704,\n",
       " 'LS_power_seed': -0.11854733322902122,\n",
       " 'HS_power_seed': 0.01715321089323107,\n",
       " 'first_round': 0.007309570602048343,\n",
       " 'second_round': 0.18787565651620006,\n",
       " 'sweet_16': -0.0994574207695767,\n",
       " 'elite_8': -0.032317429532643493,\n",
       " 'final_four': 0.02598750211435064,\n",
       " 'championship': 0.10491284815485206,\n",
       " 'HS_avg_score': 0.16873109405146283,\n",
       " 'HS_avg_against': -0.06989379829812847,\n",
       " 'LS_avg_score': -0.12930061396139717,\n",
       " 'LS_avg_against': -0.027248168432068752,\n",
       " 'HS_wins': -0.06983744738509355,\n",
       " 'HS_loss': 0.009844660724237154,\n",
       " 'LS_wins': 0.060767532163897256,\n",
       " 'LS_loss': -0.003445432215667632,\n",
       " 'HS_op_FGM': -0.009835229030935786,\n",
       " 'HS_op_FGA': -0.08066135992867708,\n",
       " 'HS_op_FMG3': 0.07080429957556578,\n",
       " 'HS_op_FGA3': 0.03577776711587266,\n",
       " 'HS_op_OR': 0.032767742980403636,\n",
       " 'HS_op_DR': -0.07684082294940586,\n",
       " 'HS_op_To': 0.1032907764698698,\n",
       " 'LS_op_FGM': 0.07274149051125825,\n",
       " 'LS_op_FGA': 0.03711802536501171,\n",
       " 'LS_op_FMG3': 0.03968175663397734,\n",
       " 'LS_op_FGA3': -0.02238682752757597,\n",
       " 'LS_op_OR': -0.0004008014270062548,\n",
       " 'LS_op_DR': -0.02955200871924277,\n",
       " 'LS_op_To': 0.1275040338768299,\n",
       " 'HS_power_conf': -0.04446247687769259,\n",
       " 'HS_mid_conf': -0.06000598682044558,\n",
       " 'HS_low_conf': 0.046132864380643485,\n",
       " 'LS_power_conf': -5.630466920964801e-05,\n",
       " 'LS_mid_conf': -0.0001143228367564493,\n",
       " 'LS_low_conf': 0.0432790631012866,\n",
       " 'HS_conf_champ': 0.004603859611159775}"
      ]
     },
     "execution_count": 83,
     "metadata": {},
     "output_type": "execute_result"
    }
   ],
   "source": [
    "coef_dict"
   ]
  },
  {
   "cell_type": "code",
   "execution_count": 110,
   "id": "72c7e567-5050-49c8-bfcc-045dd9ffd9f1",
   "metadata": {
    "tags": []
   },
   "outputs": [],
   "source": [
    "cdf = pd.DataFrame.from_dict(coef_dict, orient='index', columns=['Coefficient'])\n",
    "\n",
    "cdf['Coefficient'] = cdf['Coefficient'].apply(lambda x: abs(x))\n",
    "cdf_sorted = cdf.sort_values(by='Coefficient', ascending=False)\n",
    "\n"
   ]
  },
  {
   "cell_type": "code",
   "execution_count": 113,
   "id": "29986db8-4ec1-4052-9ab7-22117f97bb9e",
   "metadata": {
    "tags": []
   },
   "outputs": [],
   "source": [
    "cdf_sorted.head(30)\n",
    "cdf2 = cdf_sorted.reset_index()"
   ]
  },
  {
   "cell_type": "code",
   "execution_count": 123,
   "id": "b6ba09ba-d989-480a-a2c6-32c47e09c1a8",
   "metadata": {
    "tags": []
   },
   "outputs": [],
   "source": [
    "cols = list(set(cdf2['index'].to_list()) - set(['LS_Score', 'Season', 'LSTeamID', 'HSTeamID', 'HS_Score']))"
   ]
  },
  {
   "cell_type": "code",
   "execution_count": 125,
   "id": "efc95a5e-430f-49fc-8716-49a56d0540c5",
   "metadata": {
    "tags": []
   },
   "outputs": [],
   "source": [
    "x_train2 = train[cols]\n",
    "x_val = val[cols]"
   ]
  },
  {
   "cell_type": "code",
   "execution_count": 154,
   "id": "4d4b474e-fbb2-4254-aea0-2fbfe4f8efda",
   "metadata": {
    "tags": []
   },
   "outputs": [
    {
     "data": {
      "text/plain": [
       "['LS_power_conf',\n",
       " 'HSDR',\n",
       " 'sweet_16',\n",
       " 'first_round',\n",
       " 'HSTO',\n",
       " 'HS_power_seed',\n",
       " 'LSFTA',\n",
       " 'HS_op_To',\n",
       " 'LS_avg_score',\n",
       " 'LS_op_FMG3',\n",
       " 'HSOR',\n",
       " 'LS_loss',\n",
       " 'LS_op_FGM',\n",
       " 'HS_wins',\n",
       " 'LSPF',\n",
       " 'HS_low_conf',\n",
       " 'elite_8',\n",
       " 'LSDR',\n",
       " 'HS_op_FGM',\n",
       " 'LSFGM',\n",
       " 'HS_mid_conf',\n",
       " 'LS_op_OR',\n",
       " 'LSTO',\n",
       " 'HS_op_FGA',\n",
       " 'HSBlk',\n",
       " 'HS_op_FGA3',\n",
       " 'LS_low_conf',\n",
       " 'LS_op_DR',\n",
       " 'LS_op_To',\n",
       " 'HSFGM3',\n",
       " 'HSFGM',\n",
       " 'HS_avg_against',\n",
       " 'HS_op_FMG3',\n",
       " 'HSStl',\n",
       " 'HSAst',\n",
       " 'LSAst',\n",
       " 'HSPF',\n",
       " 'HS_op_OR',\n",
       " 'HSFGA3',\n",
       " 'HSFTM',\n",
       " 'LS_wins',\n",
       " 'LSFGA3',\n",
       " 'LS_mid_conf',\n",
       " 'HS_avg_score',\n",
       " 'LSStl',\n",
       " 'HS_loss',\n",
       " 'LS_op_FGA3',\n",
       " 'LSFTM',\n",
       " 'LSFGA',\n",
       " 'HSFGA',\n",
       " 'LS_avg_against',\n",
       " 'HS_conf_champ',\n",
       " 'final_four',\n",
       " 'championship',\n",
       " 'LSOR',\n",
       " 'HSFTA',\n",
       " 'HS_power_conf',\n",
       " 'LSFGM3',\n",
       " 'second_round',\n",
       " 'LS_power_seed',\n",
       " 'LSBlk',\n",
       " 'LS_op_FGA',\n",
       " 'HS_op_DR']"
      ]
     },
     "execution_count": 154,
     "metadata": {},
     "output_type": "execute_result"
    }
   ],
   "source": [
    "cols \n"
   ]
  },
  {
   "cell_type": "code",
   "execution_count": null,
   "id": "29f189d9-8a9e-46b7-be3f-01ec84104417",
   "metadata": {},
   "outputs": [],
   "source": []
  },
  {
   "cell_type": "code",
   "execution_count": null,
   "id": "e18817e3-2fb9-4976-9b89-ab0c7e5b3f64",
   "metadata": {},
   "outputs": [],
   "source": []
  },
  {
   "cell_type": "code",
   "execution_count": 127,
   "id": "864c6e6a-ced9-4dd8-ae6d-34ba4af702d5",
   "metadata": {},
   "outputs": [],
   "source": [
    "def train_predict(t_df, v_df):\n",
    "    \n",
    "    y_train = t_df['target']\n",
    "    y_val = v_df['target']\n",
    "    \n",
    "    \n",
    "    \n",
    "    t_df = t_df.astype(float)\n",
    "    v_df = v_df.astype(float)\n",
    "    \n",
    "    # X_train = t_df.drop(columns = ['target'])\n",
    "    # y_train = t_df['target']\n",
    "    # X_val = v_df.drop(columns =['target'])\n",
    "    # y_val = v_df['target']\n",
    "    \n",
    "    X_train = t_df[cols]\n",
    "    X_val = v_df[cols]\n",
    "    \n",
    "    X_train = X_train.astype(float)\n",
    "    X_val = X_val.astype(float)\n",
    "    \n",
    "    \n",
    "#     #splitting into train_test_split\n",
    "\n",
    "\n",
    "    \n",
    "\n",
    "    xclass = xgb.XGBClassifier()\n",
    "    \n",
    "    parameters = {\n",
    "        'learning_rate':  np.arange(.01, 1, .01), \n",
    "        'max_depth': np.arange(5, 50, 3), #\n",
    "        'subsample': np.arange(.3, .7, .1),\n",
    "        'colsample_bytree': np.arange(.1, 1, .1),\n",
    "        'n_estimators' :np.arange(25, 1000, 25), \n",
    "        #'objective': ['f1'],  \n",
    "        }\n",
    " \n",
    "    gs = RandomizedSearchCV(xclass, parameters, cv = 5)\n",
    "    #gs = GridSearchCV(xclass, parameters, cv = 5)\n",
    "    gs.fit(X_train, y_train)\n",
    "\n",
    "    #save trained model in pickle file\n",
    "    timestr = time.strftime(\"%Y%m%d-%H%M\")\n",
    "    \n",
    "    with open('../pickled_out/'+timestr+'_xgb_out.pkl', 'wb') as file:\n",
    "        pickle.dump(gs, file)\n",
    "        \n",
    "        \n",
    "        \n",
    "    boost_preds = gs.predict(X_val)\n",
    "    return boost_preds, y_val, gs"
   ]
  },
  {
   "cell_type": "code",
   "execution_count": 128,
   "id": "ab0eee0a-b870-4451-acd7-4f17b31d19f6",
   "metadata": {},
   "outputs": [],
   "source": [
    "bp,y_a, xgc = train_predict(train, val)"
   ]
  },
  {
   "cell_type": "code",
   "execution_count": 129,
   "id": "a37ec6cf-7ec7-4829-abe5-ac2f9660e34b",
   "metadata": {},
   "outputs": [
    {
     "name": "stdout",
     "output_type": "stream",
     "text": [
      "              precision    recall  f1-score   support\n",
      "\n",
      "           0       0.44      0.18      0.25        68\n",
      "           1       0.68      0.89      0.77       135\n",
      "\n",
      "    accuracy                           0.65       203\n",
      "   macro avg       0.56      0.53      0.51       203\n",
      "weighted avg       0.60      0.65      0.60       203\n",
      "\n"
     ]
    }
   ],
   "source": [
    "print(classification_report(y_a, bp))"
   ]
  },
  {
   "cell_type": "code",
   "execution_count": 130,
   "id": "129d9183-0af1-4deb-b2cb-432fb74b61ab",
   "metadata": {},
   "outputs": [
    {
     "data": {
      "text/plain": [
       "array([1, 1, 1, 0, 0, 1, 1, 1, 1, 1, 1, 1, 1, 1, 1, 1, 1, 1, 0, 1, 1, 1,\n",
       "       1, 1, 1, 1, 0, 1, 1, 1, 1, 1, 1, 1, 1, 1, 1, 1, 1, 1, 0, 0, 1, 0,\n",
       "       1, 0, 1, 1, 1, 1, 1, 1, 0, 1, 1, 1, 1, 1, 1, 0, 1, 1, 1, 1, 1, 1,\n",
       "       1, 1, 1, 1, 1, 1, 1, 0, 1, 1, 1, 1, 1, 1, 1, 1, 1, 1, 1, 1, 1, 1,\n",
       "       1, 1, 1, 1, 1, 1, 1, 1, 1, 1, 1, 1, 1, 1, 1, 1, 1, 1, 0, 1, 1, 1,\n",
       "       1, 0, 1, 1, 1, 1, 1, 1, 0, 1, 1, 1, 1, 1, 1, 1, 1, 0, 1, 1, 1, 1,\n",
       "       1, 1, 1, 1, 0, 1, 1, 1, 1, 1, 1, 0, 1, 1, 1, 1, 0, 1, 0, 1, 1, 1,\n",
       "       1, 1, 0, 1, 1, 1, 1, 0, 1, 1, 1, 0, 1, 1, 1, 1, 1, 1, 1, 1, 1, 1,\n",
       "       1, 0, 0, 1, 1, 1, 1, 1, 1, 1, 1, 1, 1, 1, 1, 1, 1, 1, 1, 0, 0, 1,\n",
       "       1, 1, 1, 1, 0])"
      ]
     },
     "execution_count": 130,
     "metadata": {},
     "output_type": "execute_result"
    }
   ],
   "source": [
    "bp"
   ]
  },
  {
   "cell_type": "code",
   "execution_count": null,
   "id": "7a4a3b43-d40e-4caf-9a22-7f6baddf0b0f",
   "metadata": {},
   "outputs": [],
   "source": []
  },
  {
   "cell_type": "code",
   "execution_count": 131,
   "id": "4f257d24-4f40-44ab-a161-a3949180233b",
   "metadata": {},
   "outputs": [
    {
     "data": {
      "text/plain": [
       "41"
      ]
     },
     "execution_count": 131,
     "metadata": {},
     "output_type": "execute_result"
    }
   ],
   "source": [
    "np.sum(bp-np.array(y_a))"
   ]
  },
  {
   "cell_type": "code",
   "execution_count": 132,
   "id": "4a823deb-2219-46bd-bafd-2307a474d6f7",
   "metadata": {},
   "outputs": [
    {
     "name": "stdout",
     "output_type": "stream",
     "text": [
      "this is the percentage of time we are picking the favorite to win: 0.6650246305418719\n"
     ]
    }
   ],
   "source": [
    "print(\"this is the percentage of time we are picking the favorite to win:\", sum(y_a)/len(bp))"
   ]
  },
  {
   "cell_type": "code",
   "execution_count": 133,
   "id": "9d405ce4-a2f9-4096-9e09-b03c8832782e",
   "metadata": {},
   "outputs": [
    {
     "data": {
      "text/plain": [
       "{'subsample': 0.6000000000000001,\n",
       " 'n_estimators': 325,\n",
       " 'max_depth': 11,\n",
       " 'learning_rate': 0.14,\n",
       " 'colsample_bytree': 0.2}"
      ]
     },
     "execution_count": 133,
     "metadata": {},
     "output_type": "execute_result"
    }
   ],
   "source": [
    "xgc.best_params_"
   ]
  },
  {
   "cell_type": "code",
   "execution_count": 134,
   "id": "da713df0-21ef-4a6f-bfc1-2ed361eeefed",
   "metadata": {},
   "outputs": [
    {
     "data": {
      "application/vnd.plotly.v1+json": {
       "config": {
        "plotlyServerURL": "https://plot.ly"
       },
       "data": [
        {
         "alignmentgroup": "True",
         "hovertemplate": "x=%{x}<br>importance=%{y}<extra></extra>",
         "legendgroup": "",
         "marker": {
          "color": "#636efa",
          "pattern": {
           "shape": ""
          }
         },
         "name": "",
         "offsetgroup": "",
         "orientation": "v",
         "showlegend": false,
         "textposition": "auto",
         "type": "bar",
         "x": [
          "LS_power_conf",
          "HSDR",
          "sweet_16",
          "first_round",
          "HSTO",
          "HS_power_seed",
          "LSFTA",
          "HS_op_To",
          "LS_avg_score",
          "LS_op_FMG3",
          "HSOR",
          "LS_loss",
          "LS_op_FGM",
          "HS_wins",
          "LSPF",
          "HS_low_conf",
          "elite_8",
          "LSDR",
          "HS_op_FGM",
          "LSFGM",
          "HS_mid_conf",
          "LS_op_OR",
          "LSTO",
          "HS_op_FGA",
          "HSBlk",
          "HS_op_FGA3",
          "LS_low_conf",
          "LS_op_DR",
          "LS_op_To",
          "HSFGM3",
          "HSFGM",
          "HS_avg_against",
          "HS_op_FMG3",
          "HSStl",
          "HSAst",
          "LSAst",
          "HSPF",
          "HS_op_OR",
          "HSFGA3",
          "HSFTM",
          "LS_wins",
          "LSFGA3",
          "LS_mid_conf",
          "HS_avg_score",
          "LSStl",
          "HS_loss",
          "LS_op_FGA3",
          "LSFTM",
          "LSFGA",
          "HSFGA",
          "LS_avg_against",
          "HS_conf_champ",
          "final_four",
          "championship",
          "LSOR",
          "HSFTA",
          "HS_power_conf",
          "LSFGM3",
          "second_round",
          "LS_power_seed",
          "LSBlk",
          "LS_op_FGA",
          "HS_op_DR"
         ],
         "xaxis": "x",
         "y": [
          0.00986927468329668,
          0.019621703773736954,
          0.025449631735682487,
          0.029838385060429573,
          0.02295718528330326,
          0.02502143569290638,
          0.020388782024383545,
          0.011444161646068096,
          0.01771281473338604,
          0.011755949817597866,
          0.014447963796555996,
          0.009589224122464657,
          0.013339211232960224,
          0.020175576210021973,
          0.018304981291294098,
          0.0215605441480875,
          0.05021364241838455,
          0.017711514607071877,
          0.0217717457562685,
          0.015204058028757572,
          0,
          0.014283650554716587,
          0.011884099803864956,
          0.017022710293531418,
          0.010628212243318558,
          0.011124320328235626,
          0.012454348616302013,
          0.013959884643554688,
          0.012472238391637802,
          0.01307592075318098,
          0.01420070230960846,
          0.01828206144273281,
          0.009394099935889244,
          0.01688895933330059,
          0.013961270451545715,
          0.0185491144657135,
          0.016537263989448547,
          0.015426441095769405,
          0.007987357676029205,
          0.01354960910975933,
          0.016185691580176353,
          0.008928458206355572,
          0.042006850242614746,
          0.01456795446574688,
          0.011927036568522453,
          0.029459435492753983,
          0.010124186053872108,
          0.01091386191546917,
          0.012135032564401627,
          0.014572806656360626,
          0.014043924398720264,
          0.006678958889096975,
          0.014024895615875721,
          0,
          0.02010473981499672,
          0.012207909487187862,
          0.014970101416110992,
          0.016456644982099533,
          0.012211172841489315,
          0.01552726048976183,
          0.014300975017249584,
          0.016649752855300903,
          0.01394233200699091
         ],
         "yaxis": "y"
        }
       ],
       "layout": {
        "autosize": true,
        "barmode": "relative",
        "legend": {
         "tracegroupgap": 0
        },
        "margin": {
         "t": 60
        },
        "template": {
         "data": {
          "bar": [
           {
            "error_x": {
             "color": "#2a3f5f"
            },
            "error_y": {
             "color": "#2a3f5f"
            },
            "marker": {
             "line": {
              "color": "#E5ECF6",
              "width": 0.5
             },
             "pattern": {
              "fillmode": "overlay",
              "size": 10,
              "solidity": 0.2
             }
            },
            "type": "bar"
           }
          ],
          "barpolar": [
           {
            "marker": {
             "line": {
              "color": "#E5ECF6",
              "width": 0.5
             },
             "pattern": {
              "fillmode": "overlay",
              "size": 10,
              "solidity": 0.2
             }
            },
            "type": "barpolar"
           }
          ],
          "carpet": [
           {
            "aaxis": {
             "endlinecolor": "#2a3f5f",
             "gridcolor": "white",
             "linecolor": "white",
             "minorgridcolor": "white",
             "startlinecolor": "#2a3f5f"
            },
            "baxis": {
             "endlinecolor": "#2a3f5f",
             "gridcolor": "white",
             "linecolor": "white",
             "minorgridcolor": "white",
             "startlinecolor": "#2a3f5f"
            },
            "type": "carpet"
           }
          ],
          "choropleth": [
           {
            "colorbar": {
             "outlinewidth": 0,
             "ticks": ""
            },
            "type": "choropleth"
           }
          ],
          "contour": [
           {
            "colorbar": {
             "outlinewidth": 0,
             "ticks": ""
            },
            "colorscale": [
             [
              0,
              "#0d0887"
             ],
             [
              0.1111111111111111,
              "#46039f"
             ],
             [
              0.2222222222222222,
              "#7201a8"
             ],
             [
              0.3333333333333333,
              "#9c179e"
             ],
             [
              0.4444444444444444,
              "#bd3786"
             ],
             [
              0.5555555555555556,
              "#d8576b"
             ],
             [
              0.6666666666666666,
              "#ed7953"
             ],
             [
              0.7777777777777778,
              "#fb9f3a"
             ],
             [
              0.8888888888888888,
              "#fdca26"
             ],
             [
              1,
              "#f0f921"
             ]
            ],
            "type": "contour"
           }
          ],
          "contourcarpet": [
           {
            "colorbar": {
             "outlinewidth": 0,
             "ticks": ""
            },
            "type": "contourcarpet"
           }
          ],
          "heatmap": [
           {
            "colorbar": {
             "outlinewidth": 0,
             "ticks": ""
            },
            "colorscale": [
             [
              0,
              "#0d0887"
             ],
             [
              0.1111111111111111,
              "#46039f"
             ],
             [
              0.2222222222222222,
              "#7201a8"
             ],
             [
              0.3333333333333333,
              "#9c179e"
             ],
             [
              0.4444444444444444,
              "#bd3786"
             ],
             [
              0.5555555555555556,
              "#d8576b"
             ],
             [
              0.6666666666666666,
              "#ed7953"
             ],
             [
              0.7777777777777778,
              "#fb9f3a"
             ],
             [
              0.8888888888888888,
              "#fdca26"
             ],
             [
              1,
              "#f0f921"
             ]
            ],
            "type": "heatmap"
           }
          ],
          "heatmapgl": [
           {
            "colorbar": {
             "outlinewidth": 0,
             "ticks": ""
            },
            "colorscale": [
             [
              0,
              "#0d0887"
             ],
             [
              0.1111111111111111,
              "#46039f"
             ],
             [
              0.2222222222222222,
              "#7201a8"
             ],
             [
              0.3333333333333333,
              "#9c179e"
             ],
             [
              0.4444444444444444,
              "#bd3786"
             ],
             [
              0.5555555555555556,
              "#d8576b"
             ],
             [
              0.6666666666666666,
              "#ed7953"
             ],
             [
              0.7777777777777778,
              "#fb9f3a"
             ],
             [
              0.8888888888888888,
              "#fdca26"
             ],
             [
              1,
              "#f0f921"
             ]
            ],
            "type": "heatmapgl"
           }
          ],
          "histogram": [
           {
            "marker": {
             "pattern": {
              "fillmode": "overlay",
              "size": 10,
              "solidity": 0.2
             }
            },
            "type": "histogram"
           }
          ],
          "histogram2d": [
           {
            "colorbar": {
             "outlinewidth": 0,
             "ticks": ""
            },
            "colorscale": [
             [
              0,
              "#0d0887"
             ],
             [
              0.1111111111111111,
              "#46039f"
             ],
             [
              0.2222222222222222,
              "#7201a8"
             ],
             [
              0.3333333333333333,
              "#9c179e"
             ],
             [
              0.4444444444444444,
              "#bd3786"
             ],
             [
              0.5555555555555556,
              "#d8576b"
             ],
             [
              0.6666666666666666,
              "#ed7953"
             ],
             [
              0.7777777777777778,
              "#fb9f3a"
             ],
             [
              0.8888888888888888,
              "#fdca26"
             ],
             [
              1,
              "#f0f921"
             ]
            ],
            "type": "histogram2d"
           }
          ],
          "histogram2dcontour": [
           {
            "colorbar": {
             "outlinewidth": 0,
             "ticks": ""
            },
            "colorscale": [
             [
              0,
              "#0d0887"
             ],
             [
              0.1111111111111111,
              "#46039f"
             ],
             [
              0.2222222222222222,
              "#7201a8"
             ],
             [
              0.3333333333333333,
              "#9c179e"
             ],
             [
              0.4444444444444444,
              "#bd3786"
             ],
             [
              0.5555555555555556,
              "#d8576b"
             ],
             [
              0.6666666666666666,
              "#ed7953"
             ],
             [
              0.7777777777777778,
              "#fb9f3a"
             ],
             [
              0.8888888888888888,
              "#fdca26"
             ],
             [
              1,
              "#f0f921"
             ]
            ],
            "type": "histogram2dcontour"
           }
          ],
          "mesh3d": [
           {
            "colorbar": {
             "outlinewidth": 0,
             "ticks": ""
            },
            "type": "mesh3d"
           }
          ],
          "parcoords": [
           {
            "line": {
             "colorbar": {
              "outlinewidth": 0,
              "ticks": ""
             }
            },
            "type": "parcoords"
           }
          ],
          "pie": [
           {
            "automargin": true,
            "type": "pie"
           }
          ],
          "scatter": [
           {
            "fillpattern": {
             "fillmode": "overlay",
             "size": 10,
             "solidity": 0.2
            },
            "type": "scatter"
           }
          ],
          "scatter3d": [
           {
            "line": {
             "colorbar": {
              "outlinewidth": 0,
              "ticks": ""
             }
            },
            "marker": {
             "colorbar": {
              "outlinewidth": 0,
              "ticks": ""
             }
            },
            "type": "scatter3d"
           }
          ],
          "scattercarpet": [
           {
            "marker": {
             "colorbar": {
              "outlinewidth": 0,
              "ticks": ""
             }
            },
            "type": "scattercarpet"
           }
          ],
          "scattergeo": [
           {
            "marker": {
             "colorbar": {
              "outlinewidth": 0,
              "ticks": ""
             }
            },
            "type": "scattergeo"
           }
          ],
          "scattergl": [
           {
            "marker": {
             "colorbar": {
              "outlinewidth": 0,
              "ticks": ""
             }
            },
            "type": "scattergl"
           }
          ],
          "scattermapbox": [
           {
            "marker": {
             "colorbar": {
              "outlinewidth": 0,
              "ticks": ""
             }
            },
            "type": "scattermapbox"
           }
          ],
          "scatterpolar": [
           {
            "marker": {
             "colorbar": {
              "outlinewidth": 0,
              "ticks": ""
             }
            },
            "type": "scatterpolar"
           }
          ],
          "scatterpolargl": [
           {
            "marker": {
             "colorbar": {
              "outlinewidth": 0,
              "ticks": ""
             }
            },
            "type": "scatterpolargl"
           }
          ],
          "scatterternary": [
           {
            "marker": {
             "colorbar": {
              "outlinewidth": 0,
              "ticks": ""
             }
            },
            "type": "scatterternary"
           }
          ],
          "surface": [
           {
            "colorbar": {
             "outlinewidth": 0,
             "ticks": ""
            },
            "colorscale": [
             [
              0,
              "#0d0887"
             ],
             [
              0.1111111111111111,
              "#46039f"
             ],
             [
              0.2222222222222222,
              "#7201a8"
             ],
             [
              0.3333333333333333,
              "#9c179e"
             ],
             [
              0.4444444444444444,
              "#bd3786"
             ],
             [
              0.5555555555555556,
              "#d8576b"
             ],
             [
              0.6666666666666666,
              "#ed7953"
             ],
             [
              0.7777777777777778,
              "#fb9f3a"
             ],
             [
              0.8888888888888888,
              "#fdca26"
             ],
             [
              1,
              "#f0f921"
             ]
            ],
            "type": "surface"
           }
          ],
          "table": [
           {
            "cells": {
             "fill": {
              "color": "#EBF0F8"
             },
             "line": {
              "color": "white"
             }
            },
            "header": {
             "fill": {
              "color": "#C8D4E3"
             },
             "line": {
              "color": "white"
             }
            },
            "type": "table"
           }
          ]
         },
         "layout": {
          "annotationdefaults": {
           "arrowcolor": "#2a3f5f",
           "arrowhead": 0,
           "arrowwidth": 1
          },
          "autotypenumbers": "strict",
          "coloraxis": {
           "colorbar": {
            "outlinewidth": 0,
            "ticks": ""
           }
          },
          "colorscale": {
           "diverging": [
            [
             0,
             "#8e0152"
            ],
            [
             0.1,
             "#c51b7d"
            ],
            [
             0.2,
             "#de77ae"
            ],
            [
             0.3,
             "#f1b6da"
            ],
            [
             0.4,
             "#fde0ef"
            ],
            [
             0.5,
             "#f7f7f7"
            ],
            [
             0.6,
             "#e6f5d0"
            ],
            [
             0.7,
             "#b8e186"
            ],
            [
             0.8,
             "#7fbc41"
            ],
            [
             0.9,
             "#4d9221"
            ],
            [
             1,
             "#276419"
            ]
           ],
           "sequential": [
            [
             0,
             "#0d0887"
            ],
            [
             0.1111111111111111,
             "#46039f"
            ],
            [
             0.2222222222222222,
             "#7201a8"
            ],
            [
             0.3333333333333333,
             "#9c179e"
            ],
            [
             0.4444444444444444,
             "#bd3786"
            ],
            [
             0.5555555555555556,
             "#d8576b"
            ],
            [
             0.6666666666666666,
             "#ed7953"
            ],
            [
             0.7777777777777778,
             "#fb9f3a"
            ],
            [
             0.8888888888888888,
             "#fdca26"
            ],
            [
             1,
             "#f0f921"
            ]
           ],
           "sequentialminus": [
            [
             0,
             "#0d0887"
            ],
            [
             0.1111111111111111,
             "#46039f"
            ],
            [
             0.2222222222222222,
             "#7201a8"
            ],
            [
             0.3333333333333333,
             "#9c179e"
            ],
            [
             0.4444444444444444,
             "#bd3786"
            ],
            [
             0.5555555555555556,
             "#d8576b"
            ],
            [
             0.6666666666666666,
             "#ed7953"
            ],
            [
             0.7777777777777778,
             "#fb9f3a"
            ],
            [
             0.8888888888888888,
             "#fdca26"
            ],
            [
             1,
             "#f0f921"
            ]
           ]
          },
          "colorway": [
           "#636efa",
           "#EF553B",
           "#00cc96",
           "#ab63fa",
           "#FFA15A",
           "#19d3f3",
           "#FF6692",
           "#B6E880",
           "#FF97FF",
           "#FECB52"
          ],
          "font": {
           "color": "#2a3f5f"
          },
          "geo": {
           "bgcolor": "white",
           "lakecolor": "white",
           "landcolor": "#E5ECF6",
           "showlakes": true,
           "showland": true,
           "subunitcolor": "white"
          },
          "hoverlabel": {
           "align": "left"
          },
          "hovermode": "closest",
          "mapbox": {
           "style": "light"
          },
          "paper_bgcolor": "white",
          "plot_bgcolor": "#E5ECF6",
          "polar": {
           "angularaxis": {
            "gridcolor": "white",
            "linecolor": "white",
            "ticks": ""
           },
           "bgcolor": "#E5ECF6",
           "radialaxis": {
            "gridcolor": "white",
            "linecolor": "white",
            "ticks": ""
           }
          },
          "scene": {
           "xaxis": {
            "backgroundcolor": "#E5ECF6",
            "gridcolor": "white",
            "gridwidth": 2,
            "linecolor": "white",
            "showbackground": true,
            "ticks": "",
            "zerolinecolor": "white"
           },
           "yaxis": {
            "backgroundcolor": "#E5ECF6",
            "gridcolor": "white",
            "gridwidth": 2,
            "linecolor": "white",
            "showbackground": true,
            "ticks": "",
            "zerolinecolor": "white"
           },
           "zaxis": {
            "backgroundcolor": "#E5ECF6",
            "gridcolor": "white",
            "gridwidth": 2,
            "linecolor": "white",
            "showbackground": true,
            "ticks": "",
            "zerolinecolor": "white"
           }
          },
          "shapedefaults": {
           "line": {
            "color": "#2a3f5f"
           }
          },
          "ternary": {
           "aaxis": {
            "gridcolor": "white",
            "linecolor": "white",
            "ticks": ""
           },
           "baxis": {
            "gridcolor": "white",
            "linecolor": "white",
            "ticks": ""
           },
           "bgcolor": "#E5ECF6",
           "caxis": {
            "gridcolor": "white",
            "linecolor": "white",
            "ticks": ""
           }
          },
          "title": {
           "x": 0.05
          },
          "xaxis": {
           "automargin": true,
           "gridcolor": "white",
           "linecolor": "white",
           "ticks": "",
           "title": {
            "standoff": 15
           },
           "zerolinecolor": "white",
           "zerolinewidth": 2
          },
          "yaxis": {
           "automargin": true,
           "gridcolor": "white",
           "linecolor": "white",
           "ticks": "",
           "title": {
            "standoff": 15
           },
           "zerolinecolor": "white",
           "zerolinewidth": 2
          }
         }
        },
        "xaxis": {
         "anchor": "y",
         "autorange": true,
         "domain": [
          0,
          1
         ],
         "range": [
          -0.5,
          62.5
         ],
         "title": {
          "text": "x"
         },
         "type": "category"
        },
        "yaxis": {
         "anchor": "x",
         "autorange": true,
         "domain": [
          0,
          1
         ],
         "range": [
          0,
          0.052856465703562686
         ],
         "title": {
          "text": "importance"
         },
         "type": "linear"
        }
       }
      },
      "image/png": "[encoded data removed]",
      "text/html": [
       "<div>                            <div id=\"c8c6218c-67ec-42ea-825f-5d87981cc8c3\" class=\"plotly-graph-div\" style=\"height:500px; width:100%;\"></div>            <script type=\"text/javascript\">                require([\"plotly\"], function(Plotly) {                    window.PLOTLYENV=window.PLOTLYENV || {};                                    if (document.getElementById(\"c8c6218c-67ec-42ea-825f-5d87981cc8c3\")) {                    Plotly.newPlot(                        \"c8c6218c-67ec-42ea-825f-5d87981cc8c3\",                        [{\"alignmentgroup\":\"True\",\"hovertemplate\":\"x=%{x}<br>importance=%{y}<extra></extra>\",\"legendgroup\":\"\",\"marker\":{\"color\":\"#636efa\",\"pattern\":{\"shape\":\"\"}},\"name\":\"\",\"offsetgroup\":\"\",\"orientation\":\"v\",\"showlegend\":false,\"textposition\":\"auto\",\"x\":[\"LS_power_conf\",\"HSDR\",\"sweet_16\",\"first_round\",\"HSTO\",\"HS_power_seed\",\"LSFTA\",\"HS_op_To\",\"LS_avg_score\",\"LS_op_FMG3\",\"HSOR\",\"LS_loss\",\"LS_op_FGM\",\"HS_wins\",\"LSPF\",\"HS_low_conf\",\"elite_8\",\"LSDR\",\"HS_op_FGM\",\"LSFGM\",\"HS_mid_conf\",\"LS_op_OR\",\"LSTO\",\"HS_op_FGA\",\"HSBlk\",\"HS_op_FGA3\",\"LS_low_conf\",\"LS_op_DR\",\"LS_op_To\",\"HSFGM3\",\"HSFGM\",\"HS_avg_against\",\"HS_op_FMG3\",\"HSStl\",\"HSAst\",\"LSAst\",\"HSPF\",\"HS_op_OR\",\"HSFGA3\",\"HSFTM\",\"LS_wins\",\"LSFGA3\",\"LS_mid_conf\",\"HS_avg_score\",\"LSStl\",\"HS_loss\",\"LS_op_FGA3\",\"LSFTM\",\"LSFGA\",\"HSFGA\",\"LS_avg_against\",\"HS_conf_champ\",\"final_four\",\"championship\",\"LSOR\",\"HSFTA\",\"HS_power_conf\",\"LSFGM3\",\"second_round\",\"LS_power_seed\",\"LSBlk\",\"LS_op_FGA\",\"HS_op_DR\"],\"xaxis\":\"x\",\"y\":[0.00986927468329668,0.019621703773736954,0.025449631735682487,0.029838385060429573,0.02295718528330326,0.02502143569290638,0.020388782024383545,0.011444161646068096,0.01771281473338604,0.011755949817597866,0.014447963796555996,0.009589224122464657,0.013339211232960224,0.020175576210021973,0.018304981291294098,0.0215605441480875,0.05021364241838455,0.017711514607071877,0.0217717457562685,0.015204058028757572,0.0,0.014283650554716587,0.011884099803864956,0.017022710293531418,0.010628212243318558,0.011124320328235626,0.012454348616302013,0.013959884643554688,0.012472238391637802,0.01307592075318098,0.01420070230960846,0.01828206144273281,0.009394099935889244,0.01688895933330059,0.013961270451545715,0.0185491144657135,0.016537263989448547,0.015426441095769405,0.007987357676029205,0.01354960910975933,0.016185691580176353,0.008928458206355572,0.042006850242614746,0.01456795446574688,0.011927036568522453,0.029459435492753983,0.010124186053872108,0.01091386191546917,0.012135032564401627,0.014572806656360626,0.014043924398720264,0.006678958889096975,0.014024895615875721,0.0,0.02010473981499672,0.012207909487187862,0.014970101416110992,0.016456644982099533,0.012211172841489315,0.01552726048976183,0.014300975017249584,0.016649752855300903,0.01394233200699091],\"yaxis\":\"y\",\"type\":\"bar\"}],                        {\"template\":{\"data\":{\"histogram2dcontour\":[{\"type\":\"histogram2dcontour\",\"colorbar\":{\"outlinewidth\":0,\"ticks\":\"\"},\"colorscale\":[[0.0,\"#0d0887\"],[0.1111111111111111,\"#46039f\"],[0.2222222222222222,\"#7201a8\"],[0.3333333333333333,\"#9c179e\"],[0.4444444444444444,\"#bd3786\"],[0.5555555555555556,\"#d8576b\"],[0.6666666666666666,\"#ed7953\"],[0.7777777777777778,\"#fb9f3a\"],[0.8888888888888888,\"#fdca26\"],[1.0,\"#f0f921\"]]}],\"choropleth\":[{\"type\":\"choropleth\",\"colorbar\":{\"outlinewidth\":0,\"ticks\":\"\"}}],\"histogram2d\":[{\"type\":\"histogram2d\",\"colorbar\":{\"outlinewidth\":0,\"ticks\":\"\"},\"colorscale\":[[0.0,\"#0d0887\"],[0.1111111111111111,\"#46039f\"],[0.2222222222222222,\"#7201a8\"],[0.3333333333333333,\"#9c179e\"],[0.4444444444444444,\"#bd3786\"],[0.5555555555555556,\"#d8576b\"],[0.6666666666666666,\"#ed7953\"],[0.7777777777777778,\"#fb9f3a\"],[0.8888888888888888,\"#fdca26\"],[1.0,\"#f0f921\"]]}],\"heatmap\":[{\"type\":\"heatmap\",\"colorbar\":{\"outlinewidth\":0,\"ticks\":\"\"},\"colorscale\":[[0.0,\"#0d0887\"],[0.1111111111111111,\"#46039f\"],[0.2222222222222222,\"#7201a8\"],[0.3333333333333333,\"#9c179e\"],[0.4444444444444444,\"#bd3786\"],[0.5555555555555556,\"#d8576b\"],[0.6666666666666666,\"#ed7953\"],[0.7777777777777778,\"#fb9f3a\"],[0.8888888888888888,\"#fdca26\"],[1.0,\"#f0f921\"]]}],\"heatmapgl\":[{\"type\":\"heatmapgl\",\"colorbar\":{\"outlinewidth\":0,\"ticks\":\"\"},\"colorscale\":[[0.0,\"#0d0887\"],[0.1111111111111111,\"#46039f\"],[0.2222222222222222,\"#7201a8\"],[0.3333333333333333,\"#9c179e\"],[0.4444444444444444,\"#bd3786\"],[0.5555555555555556,\"#d8576b\"],[0.6666666666666666,\"#ed7953\"],[0.7777777777777778,\"#fb9f3a\"],[0.8888888888888888,\"#fdca26\"],[1.0,\"#f0f921\"]]}],\"contourcarpet\":[{\"type\":\"contourcarpet\",\"colorbar\":{\"outlinewidth\":0,\"ticks\":\"\"}}],\"contour\":[{\"type\":\"contour\",\"colorbar\":{\"outlinewidth\":0,\"ticks\":\"\"},\"colorscale\":[[0.0,\"#0d0887\"],[0.1111111111111111,\"#46039f\"],[0.2222222222222222,\"#7201a8\"],[0.3333333333333333,\"#9c179e\"],[0.4444444444444444,\"#bd3786\"],[0.5555555555555556,\"#d8576b\"],[0.6666666666666666,\"#ed7953\"],[0.7777777777777778,\"#fb9f3a\"],[0.8888888888888888,\"#fdca26\"],[1.0,\"#f0f921\"]]}],\"surface\":[{\"type\":\"surface\",\"colorbar\":{\"outlinewidth\":0,\"ticks\":\"\"},\"colorscale\":[[0.0,\"#0d0887\"],[0.1111111111111111,\"#46039f\"],[0.2222222222222222,\"#7201a8\"],[0.3333333333333333,\"#9c179e\"],[0.4444444444444444,\"#bd3786\"],[0.5555555555555556,\"#d8576b\"],[0.6666666666666666,\"#ed7953\"],[0.7777777777777778,\"#fb9f3a\"],[0.8888888888888888,\"#fdca26\"],[1.0,\"#f0f921\"]]}],\"mesh3d\":[{\"type\":\"mesh3d\",\"colorbar\":{\"outlinewidth\":0,\"ticks\":\"\"}}],\"scatter\":[{\"fillpattern\":{\"fillmode\":\"overlay\",\"size\":10,\"solidity\":0.2},\"type\":\"scatter\"}],\"parcoords\":[{\"type\":\"parcoords\",\"line\":{\"colorbar\":{\"outlinewidth\":0,\"ticks\":\"\"}}}],\"scatterpolargl\":[{\"type\":\"scatterpolargl\",\"marker\":{\"colorbar\":{\"outlinewidth\":0,\"ticks\":\"\"}}}],\"bar\":[{\"error_x\":{\"color\":\"#2a3f5f\"},\"error_y\":{\"color\":\"#2a3f5f\"},\"marker\":{\"line\":{\"color\":\"#E5ECF6\",\"width\":0.5},\"pattern\":{\"fillmode\":\"overlay\",\"size\":10,\"solidity\":0.2}},\"type\":\"bar\"}],\"scattergeo\":[{\"type\":\"scattergeo\",\"marker\":{\"colorbar\":{\"outlinewidth\":0,\"ticks\":\"\"}}}],\"scatterpolar\":[{\"type\":\"scatterpolar\",\"marker\":{\"colorbar\":{\"outlinewidth\":0,\"ticks\":\"\"}}}],\"histogram\":[{\"marker\":{\"pattern\":{\"fillmode\":\"overlay\",\"size\":10,\"solidity\":0.2}},\"type\":\"histogram\"}],\"scattergl\":[{\"type\":\"scattergl\",\"marker\":{\"colorbar\":{\"outlinewidth\":0,\"ticks\":\"\"}}}],\"scatter3d\":[{\"type\":\"scatter3d\",\"line\":{\"colorbar\":{\"outlinewidth\":0,\"ticks\":\"\"}},\"marker\":{\"colorbar\":{\"outlinewidth\":0,\"ticks\":\"\"}}}],\"scattermapbox\":[{\"type\":\"scattermapbox\",\"marker\":{\"colorbar\":{\"outlinewidth\":0,\"ticks\":\"\"}}}],\"scatterternary\":[{\"type\":\"scatterternary\",\"marker\":{\"colorbar\":{\"outlinewidth\":0,\"ticks\":\"\"}}}],\"scattercarpet\":[{\"type\":\"scattercarpet\",\"marker\":{\"colorbar\":{\"outlinewidth\":0,\"ticks\":\"\"}}}],\"carpet\":[{\"aaxis\":{\"endlinecolor\":\"#2a3f5f\",\"gridcolor\":\"white\",\"linecolor\":\"white\",\"minorgridcolor\":\"white\",\"startlinecolor\":\"#2a3f5f\"},\"baxis\":{\"endlinecolor\":\"#2a3f5f\",\"gridcolor\":\"white\",\"linecolor\":\"white\",\"minorgridcolor\":\"white\",\"startlinecolor\":\"#2a3f5f\"},\"type\":\"carpet\"}],\"table\":[{\"cells\":{\"fill\":{\"color\":\"#EBF0F8\"},\"line\":{\"color\":\"white\"}},\"header\":{\"fill\":{\"color\":\"#C8D4E3\"},\"line\":{\"color\":\"white\"}},\"type\":\"table\"}],\"barpolar\":[{\"marker\":{\"line\":{\"color\":\"#E5ECF6\",\"width\":0.5},\"pattern\":{\"fillmode\":\"overlay\",\"size\":10,\"solidity\":0.2}},\"type\":\"barpolar\"}],\"pie\":[{\"automargin\":true,\"type\":\"pie\"}]},\"layout\":{\"autotypenumbers\":\"strict\",\"colorway\":[\"#636efa\",\"#EF553B\",\"#00cc96\",\"#ab63fa\",\"#FFA15A\",\"#19d3f3\",\"#FF6692\",\"#B6E880\",\"#FF97FF\",\"#FECB52\"],\"font\":{\"color\":\"#2a3f5f\"},\"hovermode\":\"closest\",\"hoverlabel\":{\"align\":\"left\"},\"paper_bgcolor\":\"white\",\"plot_bgcolor\":\"#E5ECF6\",\"polar\":{\"bgcolor\":\"#E5ECF6\",\"angularaxis\":{\"gridcolor\":\"white\",\"linecolor\":\"white\",\"ticks\":\"\"},\"radialaxis\":{\"gridcolor\":\"white\",\"linecolor\":\"white\",\"ticks\":\"\"}},\"ternary\":{\"bgcolor\":\"#E5ECF6\",\"aaxis\":{\"gridcolor\":\"white\",\"linecolor\":\"white\",\"ticks\":\"\"},\"baxis\":{\"gridcolor\":\"white\",\"linecolor\":\"white\",\"ticks\":\"\"},\"caxis\":{\"gridcolor\":\"white\",\"linecolor\":\"white\",\"ticks\":\"\"}},\"coloraxis\":{\"colorbar\":{\"outlinewidth\":0,\"ticks\":\"\"}},\"colorscale\":{\"sequential\":[[0.0,\"#0d0887\"],[0.1111111111111111,\"#46039f\"],[0.2222222222222222,\"#7201a8\"],[0.3333333333333333,\"#9c179e\"],[0.4444444444444444,\"#bd3786\"],[0.5555555555555556,\"#d8576b\"],[0.6666666666666666,\"#ed7953\"],[0.7777777777777778,\"#fb9f3a\"],[0.8888888888888888,\"#fdca26\"],[1.0,\"#f0f921\"]],\"sequentialminus\":[[0.0,\"#0d0887\"],[0.1111111111111111,\"#46039f\"],[0.2222222222222222,\"#7201a8\"],[0.3333333333333333,\"#9c179e\"],[0.4444444444444444,\"#bd3786\"],[0.5555555555555556,\"#d8576b\"],[0.6666666666666666,\"#ed7953\"],[0.7777777777777778,\"#fb9f3a\"],[0.8888888888888888,\"#fdca26\"],[1.0,\"#f0f921\"]],\"diverging\":[[0,\"#8e0152\"],[0.1,\"#c51b7d\"],[0.2,\"#de77ae\"],[0.3,\"#f1b6da\"],[0.4,\"#fde0ef\"],[0.5,\"#f7f7f7\"],[0.6,\"#e6f5d0\"],[0.7,\"#b8e186\"],[0.8,\"#7fbc41\"],[0.9,\"#4d9221\"],[1,\"#276419\"]]},\"xaxis\":{\"gridcolor\":\"white\",\"linecolor\":\"white\",\"ticks\":\"\",\"title\":{\"standoff\":15},\"zerolinecolor\":\"white\",\"automargin\":true,\"zerolinewidth\":2},\"yaxis\":{\"gridcolor\":\"white\",\"linecolor\":\"white\",\"ticks\":\"\",\"title\":{\"standoff\":15},\"zerolinecolor\":\"white\",\"automargin\":true,\"zerolinewidth\":2},\"scene\":{\"xaxis\":{\"backgroundcolor\":\"#E5ECF6\",\"gridcolor\":\"white\",\"linecolor\":\"white\",\"showbackground\":true,\"ticks\":\"\",\"zerolinecolor\":\"white\",\"gridwidth\":2},\"yaxis\":{\"backgroundcolor\":\"#E5ECF6\",\"gridcolor\":\"white\",\"linecolor\":\"white\",\"showbackground\":true,\"ticks\":\"\",\"zerolinecolor\":\"white\",\"gridwidth\":2},\"zaxis\":{\"backgroundcolor\":\"#E5ECF6\",\"gridcolor\":\"white\",\"linecolor\":\"white\",\"showbackground\":true,\"ticks\":\"\",\"zerolinecolor\":\"white\",\"gridwidth\":2}},\"shapedefaults\":{\"line\":{\"color\":\"#2a3f5f\"}},\"annotationdefaults\":{\"arrowcolor\":\"#2a3f5f\",\"arrowhead\":0,\"arrowwidth\":1},\"geo\":{\"bgcolor\":\"white\",\"landcolor\":\"#E5ECF6\",\"subunitcolor\":\"white\",\"showland\":true,\"showlakes\":true,\"lakecolor\":\"white\"},\"title\":{\"x\":0.05},\"mapbox\":{\"style\":\"light\"}}},\"xaxis\":{\"anchor\":\"y\",\"domain\":[0.0,1.0],\"title\":{\"text\":\"x\"}},\"yaxis\":{\"anchor\":\"x\",\"domain\":[0.0,1.0],\"title\":{\"text\":\"importance\"}},\"legend\":{\"tracegroupgap\":0},\"margin\":{\"t\":60},\"barmode\":\"relative\",\"height\":500},                        {\"responsive\": true}                    ).then(function(){\n",
       "                            \n",
       "var gd = document.getElementById('c8c6218c-67ec-42ea-825f-5d87981cc8c3');\n",
       "var x = new MutationObserver(function (mutations, observer) {{\n",
       "        var display = window.getComputedStyle(gd).display;\n",
       "        if (!display || display === 'none') {{\n",
       "            console.log([gd, 'removed!']);\n",
       "            Plotly.purge(gd);\n",
       "            observer.disconnect();\n",
       "        }}\n",
       "}});\n",
       "\n",
       "// Listen for the removal of the full notebook cells\n",
       "var notebookContainer = gd.closest('#notebook-container');\n",
       "if (notebookContainer) {{\n",
       "    x.observe(notebookContainer, {childList: true});\n",
       "}}\n",
       "\n",
       "// Listen for the clearing of the current output cell\n",
       "var outputEl = gd.closest('.output');\n",
       "if (outputEl) {{\n",
       "    x.observe(outputEl, {childList: true});\n",
       "}}\n",
       "\n",
       "                        })                };                });            </script>        </div>"
      ]
     },
     "metadata": {},
     "output_type": "display_data"
    }
   ],
   "source": [
    "feat_imp = xgc.best_estimator_.feature_importances_\n",
    "feat_names2 = xgc.feature_names_in_\n",
    "import plotly.express as px\n",
    "\n",
    "\n",
    "fig = px.bar(x=feat_names2, y=feat_imp,\n",
    "             labels={'y':'importance'}, height=500)\n",
    "\n",
    "fig.write_html(\"../viz/feat_imp.html\")           \n",
    "fig.show()"
   ]
  },
  {
   "cell_type": "code",
   "execution_count": 135,
   "id": "f4b6fb05-1c6a-4c67-979c-06a8327bcf89",
   "metadata": {},
   "outputs": [],
   "source": [
    "# from sklearn.metrics import confusion_matrix\n",
    "# def plot_confusion_matrix(y_true, y_pred):\n",
    "#     cm = confusion_matrix(y_true, y_pred)\n",
    "#     f, ax = plt.subplots(figsize=(8, 6))\n",
    "#     sns.heatmap(cm, annot=True)\n",
    "#     plt.title('Confusion Matrix', fontsize=15)\n",
    "#     plt.ylabel('True label', fontsize=12)\n",
    "#     plt.xlabel('Predicted label', fontsize=12)\n",
    "#     plt.xticks([0, 1],\n",
    "#            ['Upset(0)','No Upset (1)'])\n",
    "#     plt.yticks([0, 1],\n",
    "#            ['Upset(0)','No Upset (1)'], rotation = 0)\n",
    "    \n",
    "    \n",
    "# plot_confusion_matrix(y_test, gs.predict(test))\n",
    "# plt.title(\"Random Forest With Seeding\", fontsize = 15)\n",
    "# plt.show()\n",
    "# #THIS IS THE MATRIX OF OUR RANDOM SAMPLE THAT USES SEEDING"
   ]
  },
  {
   "cell_type": "markdown",
   "id": "6ffad319-0e6e-499e-bf4a-8c37de1e459e",
   "metadata": {},
   "source": [
    "# Deep learning model"
   ]
  },
  {
   "cell_type": "code",
   "execution_count": 136,
   "id": "b10baa8d-5fe9-4afa-a55d-17ee942a7550",
   "metadata": {},
   "outputs": [],
   "source": [
    "# def binary_encoding(outcome_col):\n",
    "\n",
    "#     labels = []\n",
    "#     for i in outcome_col:\n",
    "#         if i == 1:\n",
    "#             labels.append([1,0])\n",
    "#         else:\n",
    "#             labels.append([0,1])\n",
    "#     return np.array(labels)"
   ]
  },
  {
   "cell_type": "code",
   "execution_count": 137,
   "id": "3a7928fe-89a3-4aa6-b6ad-a80cf875fc94",
   "metadata": {},
   "outputs": [],
   "source": [
    "# def split(df, outcome_col):\n",
    "#     # Split dataset in 60% train, 20% test and 20% validation\n",
    "#     #train, validate, test = np.split(df.sample(frac=1), [int(.6*len(df)), int(.8*len(df))])\n",
    "\n",
    "#     train_x = df.drop(columns = [outcome_col])\n",
    "#     train_y = df[outcome_col]\n",
    "    \n",
    "#     trainy = binary_encoding(train_y)\n",
    "    \n",
    "#     #test\n",
    "    \n",
    "\n",
    "#     return train_x, trainy\n",
    "\n",
    "# hidden_nodes = int((1/100) * (len(tour9)))+1\n",
    "# print(f\"The number of hidden nodes is {hidden_nodes}.\")"
   ]
  },
  {
   "cell_type": "code",
   "execution_count": 138,
   "id": "2e1430af-ec75-4354-9b27-9661cedf75da",
   "metadata": {},
   "outputs": [],
   "source": [
    "# print(\"Prepping deep learning data\")\n",
    "# d_data_x, d_data_y  = split(train,'target')"
   ]
  },
  {
   "cell_type": "code",
   "execution_count": null,
   "id": "94cdf1da-916f-47a7-ac57-255f1cde7419",
   "metadata": {},
   "outputs": [],
   "source": []
  },
  {
   "cell_type": "code",
   "execution_count": 139,
   "id": "8a52cce9-a681-4c21-abcf-b28a5fbe2643",
   "metadata": {},
   "outputs": [],
   "source": [
    "# output_labels = 2\n",
    "# def build(train_x, train_y,):\n",
    "#    # Build the model\n",
    "#     print('Build model...')\n",
    "    \n",
    "#     model = Sequential()\n",
    "#     print(np.array(train_x))\n",
    "#     #model.add(LSTM(hidden_nodes, return_sequences=False, input_shape=(np.array(train_x), np.array(train_x))))\n",
    "#     model.add(Dropout(0.2))\n",
    "#     model.add(Dense(units=output_labels))\n",
    "#     model.add(Activation('softmax'))\n",
    "#     model.compile(loss='categorical_crossentropy', optimizer='adam', metrics=['acc'])\n",
    "    \n",
    "#     batch_size=25\n",
    "    \n",
    "#     model.fit(train_x.astype(float), train_y, batch_size=batch_size, epochs=2500)\n",
    " \n",
    "#     return model "
   ]
  },
  {
   "cell_type": "code",
   "execution_count": 140,
   "id": "78869527-78a2-4dad-8860-4c31b8e71a2b",
   "metadata": {},
   "outputs": [],
   "source": [
    "#model_multi = build(d_data_x, d_data_y,)"
   ]
  },
  {
   "cell_type": "code",
   "execution_count": null,
   "id": "b0335ff5-62fa-4cde-adee-aef190bc63cf",
   "metadata": {},
   "outputs": [],
   "source": []
  },
  {
   "cell_type": "markdown",
   "id": "7a79977e-7c45-4867-9547-c35003e36a72",
   "metadata": {},
   "source": [
    "\n"
   ]
  },
  {
   "cell_type": "markdown",
   "id": "87097bd4-a6fb-4980-8afe-f9fdded5430c",
   "metadata": {},
   "source": [
    "# Build Test Data \n",
    "\n",
    "With training data complete, and with the total_dict dictionary holding the values for testing for 2023, we need to build the 2023 infrastructure to be able to test "
   ]
  },
  {
   "cell_type": "code",
   "execution_count": 141,
   "id": "8baba138-20a5-4bf7-882c-4f8ea8f94adc",
   "metadata": {},
   "outputs": [],
   "source": [
    "### building a list of tuples for the first round match ups \n",
    "first_round = [ (1, 64), \n",
    "                (2, 63), \n",
    "                (3, 62), \n",
    "                (4, 61), \n",
    "                (5, 57), \n",
    "                (6, 58), \n",
    "                (7, 59),\n",
    "                (8, 60), \n",
    "                (9, 53), \n",
    "                (10,54), \n",
    "                (11,55), \n",
    "                (12,56), \n",
    "                (13,49), \n",
    "                (14,50), \n",
    "                (15,51), \n",
    "                (16,52), \n",
    "                (17,45), \n",
    "                (18,46), \n",
    "                (19,47), \n",
    "                (20,48),\n",
    "                (21,41), \n",
    "                (22,42), \n",
    "                (23,43), \n",
    "                (24,44), \n",
    "                (25,37),\n",
    "                (26,38), \n",
    "                (27,39), \n",
    "                (28,40),\n",
    "                (29,33),\n",
    "                (30,34),\n",
    "                (31,35),\n",
    "                (32,36),]"
   ]
  },
  {
   "cell_type": "code",
   "execution_count": 142,
   "id": "df9d8575-cda2-48c1-84a1-b67bed349184",
   "metadata": {},
   "outputs": [],
   "source": [
    "#total_dict"
   ]
  },
  {
   "cell_type": "code",
   "execution_count": 149,
   "id": "e62bcbe5-b7ed-41e7-be92-5d7fdc0c34f2",
   "metadata": {},
   "outputs": [],
   "source": [
    "def build_rounds(df, match_ups, tourney_round):\n",
    "    '''\n",
    "    Building the test data set from the total_dictionary columns to mirror \n",
    "    our testing / validation data set \n",
    "\n",
    "    '''\n",
    "    zero_data = np.zeros(shape=(len(match_ups),len(list(df.columns))))\n",
    "    df  = pd.DataFrame(data = zero_data, columns = list(df.columns))\n",
    "    \n",
    "    df['Season'] = year_\n",
    "    #print(len(testd))\n",
    "    \n",
    "    year = psd[year_]\n",
    "    \n",
    "    seed_team = dict([(value, key) for key, value in psd[year_].items()])\n",
    "    \n",
    "    for i in range(len(df)):\n",
    "        print(df['HS_power_seed'][i])# \n",
    "        df['HS_power_seed'][i] = match_ups[i][0]\n",
    "        df['LS_power_seed'][i] = match_ups[i][1]\n",
    "        \n",
    "        df['HSTeamID'][i] = seed_team[df['HS_power_seed'][i]]\n",
    "        df['LSTeamID'][i] = seed_team[df['LS_power_seed'][i]]\n",
    "\n",
    "        \n",
    "        \n",
    "    df['HSFGM'] = df.apply(lambda x: total_dict[x['HSTeamID']][year_]['FGM'], axis = 1)\n",
    "    df['HSFGA'] = df.apply(lambda x: total_dict[x['HSTeamID']][x['Season']]['FGA'], axis = 1)\n",
    "    df['HSFGM3'] = df.apply(lambda x: total_dict[x['HSTeamID']][year_]['FGM3'], axis = 1)\n",
    "    df['HSFGA3'] = df.apply(lambda x: total_dict[x['HSTeamID']][x['Season']]['FGA3'], axis = 1)\n",
    "    df['HSFTM'] = df.apply(lambda x: total_dict[x['HSTeamID']][year_]['FTM'], axis = 1)\n",
    "    df['HSFTA'] = df.apply(lambda x: total_dict[x['HSTeamID']][x['Season']]['FTA'], axis = 1)\n",
    "    df['HSOR'] = df.apply(lambda x: total_dict[x['HSTeamID']][x['Season']]['OR'], axis = 1)\n",
    "    df['HSDR'] = df.apply(lambda x: total_dict[x['HSTeamID']][x['Season']]['DR'], axis = 1)\n",
    "    df['HSAst'] = df.apply(lambda x: total_dict[x['HSTeamID']][x['Season']]['Ast'], axis = 1)\n",
    "    df['HSTO'] = df.apply(lambda x: total_dict[x['HSTeamID']][x['Season']]['TO'], axis = 1)\n",
    "    df['HSStl'] = df.apply(lambda x: total_dict[x['HSTeamID']][x['Season']]['Stl'], axis = 1)\n",
    "    df['HSBlk'] = df.apply(lambda x: total_dict[x['HSTeamID']][x['Season']]['Blk'], axis = 1)   \n",
    "    df['HSPF'] = df.apply(lambda x: total_dict[x['HSTeamID']][x['Season']]['PF'], axis = 1)\n",
    "    \n",
    " \n",
    "    \n",
    "    df['LSFGM'] = df.apply(lambda x: total_dict[x['LSTeamID']][year_]['FGM'], axis = 1)\n",
    "    df['LSFGA'] = df.apply(lambda x: total_dict[x['LSTeamID']][x['Season']]['FGA'], axis = 1)\n",
    "    df['LSFGM3'] = df.apply(lambda x: total_dict[x['LSTeamID']][year_]['FGM3'], axis = 1)\n",
    "    df['LSFGA3'] = df.apply(lambda x: total_dict[x['LSTeamID']][x['Season']]['FGA3'], axis = 1)\n",
    "    df['LSFTM'] = df.apply(lambda x: total_dict[x['LSTeamID']][year_]['FTM'], axis = 1)\n",
    "    df['LSFTA'] = df.apply(lambda x: total_dict[x['LSTeamID']][x['Season']]['FTA'], axis = 1)\n",
    "    df['LSOR'] = df.apply(lambda x: total_dict[x['LSTeamID']][x['Season']]['OR'], axis = 1)\n",
    "    df['LSDR'] = df.apply(lambda x: total_dict[x['LSTeamID']][x['Season']]['DR'], axis = 1)\n",
    "    df['LSAst'] = df.apply(lambda x: total_dict[x['LSTeamID']][x['Season']]['Ast'], axis = 1)\n",
    "    df['LSTO'] = df.apply(lambda x: total_dict[x['LSTeamID']][x['Season']]['TO'], axis = 1)\n",
    "    df['LSStl'] = df.apply(lambda x: total_dict[x['LSTeamID']][x['Season']]['Stl'], axis = 1)\n",
    "    df['LSBlk'] = df.apply(lambda x: total_dict[x['LSTeamID']][x['Season']]['Blk'], axis = 1)   \n",
    "    df['LSPF'] = df.apply(lambda x: total_dict[x['LSTeamID']][x['Season']]['PF'], axis = 1)\n",
    "\n",
    "    \n",
    "    #psd[df['Season'][i]][df['LSTeamID'][i]]\n",
    "    df['LS_power_seed'] = df.apply(lambda x: psd[year_][x['LSTeamID']], axis = 1)\n",
    "    df['HS_power_seed'] = df.apply(lambda x: psd[year_][x['HSTeamID']], axis = 1)\n",
    "    \n",
    "    if tourney_round == 'first':\n",
    "        df['first_round'] = 1\n",
    "        df['second_round'] = np.zeros(len(df))\n",
    "        df['sweet_16'] = np.zeros(len(df))\n",
    "        df['elite_8'] = np.zeros(len(df))\n",
    "        df['final_four'] = np.zeros(len(df))\n",
    "        df['championship'] = np.zeros(len(df))\n",
    "        \n",
    "    if tourney_round == 'second':\n",
    "        df['first_round'] = np.zeros(len(df))\n",
    "        df['second_round'] = 1\n",
    "        df['sweet_16'] = np.zeros(len(df))\n",
    "        df['elite_8'] = np.zeros(len(df))\n",
    "        df['final_four'] = np.zeros(len(df))\n",
    "        df['championship'] = np.zeros(len(df))\n",
    "        \n",
    "    if tourney_round == 'third':\n",
    "        df['first_round'] = np.zeros(len(df))\n",
    "        df['second_round'] = np.zeros(len(df))\n",
    "        df['sweet_16'] = 1\n",
    "        df['elite_8'] = np.zeros(len(df))\n",
    "        df['final_four'] = np.zeros(len(df))\n",
    "        df['championship'] = np.zeros(len(df))\n",
    "        \n",
    "    if tourney_round == 'fourth':\n",
    "        df['first_round'] = np.zeros(len(df))\n",
    "        df['second_round'] = np.zeros(len(df))\n",
    "        df['sweet_16'] = np.zeros(len(df))\n",
    "        df['elite_8'] = 1\n",
    "        df['final_four'] = np.zeros(len(df))\n",
    "        df['championship'] = np.zeros(len(df)) \n",
    "                                     \n",
    "    if tourney_round == 'fifth':\n",
    "        df['first_round'] = np.zeros(len(df))\n",
    "        df['second_round'] = np.zeros(len(df))\n",
    "        df['sweet_16'] = np.zeros(len(df))\n",
    "        df['elite_8'] = np.zeros(len(df))\n",
    "        df['final_four'] = 1\n",
    "        df['championship'] = np.zeros(len(df)) \n",
    "    \n",
    "    if tourney_round == 'sixth':\n",
    "        df['first_round'] = np.zeros(len(df))\n",
    "        df['second_round'] = np.zeros(len(df))\n",
    "        df['sweet_16'] = np.zeros(len(df))\n",
    "        df['elite_8'] = np.zeros(len(df))\n",
    "        df['final_four'] = 1\n",
    "        df['championship'] = np.zeros(len(df)) \n",
    "            \n",
    "    \n",
    "    df['HS_avg_score'] = df.apply(lambda x: total_dict[x['HSTeamID']][x['Season']]['Score'], axis = 1)\n",
    "    df['HS_avg_against'] = df.apply(lambda x: total_dict[x['HSTeamID']][x['Season']]['Op_score'], axis = 1)\n",
    "    df['LS_avg_score'] = df.apply(lambda x: total_dict[x['LSTeamID']][x['Season']]['Score'], axis = 1)\n",
    "    df['LS_avg_against'] = df.apply(lambda x: total_dict[x['LSTeamID']][x['Season']]['Op_score'], axis = 1)\n",
    "\n",
    "    \n",
    "    df['HS_wins'] = df.apply(lambda x: total_dict[x['HSTeamID']][x['Season']]['num_wins'], axis = 1)\n",
    "    df['HS_loss'] = df.apply(lambda x: total_dict[x['HSTeamID']][x['Season']]['num_loss'], axis = 1)\n",
    "    df['LS_wins'] = df.apply(lambda x: total_dict[x['LSTeamID']][x['Season']]['num_wins'], axis = 1)\n",
    "    df['LS_loss'] = df.apply(lambda x: total_dict[x['LSTeamID']][x['Season']]['num_loss'], axis = 1)\n",
    "    \n",
    "    \n",
    "    df['HS_op_FGM'] = df.apply(lambda x: total_dict[x['HSTeamID']][x['Season']]['Op_FGM'], axis = 1)\n",
    "    df['HS_op_FGA'] = df.apply(lambda x: total_dict[x['HSTeamID']][x['Season']]['Op_FGA'], axis = 1)\n",
    "    df['HS_op_FMG3'] = df.apply(lambda x: total_dict[x['HSTeamID']][x['Season']]['Op_FGM3'], axis = 1)\n",
    "    df['HS_op_FGA3'] = df.apply(lambda x: total_dict[x['HSTeamID']][x['Season']]['Op_FGA3'], axis = 1)\n",
    "    df['HS_op_OR'] = df.apply(lambda x: total_dict[x['HSTeamID']][x['Season']]['Op_OR'], axis = 1)\n",
    "    df['HS_op_DR'] = df.apply(lambda x: total_dict[x['HSTeamID']][x['Season']]['Op_DR'], axis = 1)\n",
    "    df['HS_op_To'] = df.apply(lambda x: total_dict[x['HSTeamID']][x['Season']]['Op_TO'], axis = 1)\n",
    "\n",
    "    \n",
    "    \n",
    "    df['LS_op_FGM'] = df.apply(lambda x: total_dict[x['LSTeamID']][x['Season']]['Op_FGM'], axis = 1)\n",
    "    df['LS_op_FGA'] = df.apply(lambda x: total_dict[x['LSTeamID']][x['Season']]['Op_FGA'], axis = 1)\n",
    "    df['LS_op_FMG3'] = df.apply(lambda x: total_dict[x['LSTeamID']][x['Season']]['Op_FGM3'], axis = 1)\n",
    "    df['LS_op_FGA3'] = df.apply(lambda x: total_dict[x['LSTeamID']][x['Season']]['Op_FGA3'], axis = 1)\n",
    "    df['LS_op_OR'] = df.apply(lambda x: total_dict[x['LSTeamID']][x['Season']]['Op_OR'], axis = 1)\n",
    "    df['LS_op_DR'] = df.apply(lambda x: total_dict[x['LSTeamID']][x['Season']]['Op_DR'], axis = 1)\n",
    "    df['LS_op_To'] = df.apply(lambda x: total_dict[x['LSTeamID']][x['Season']]['Op_TO'], axis = 1)\n",
    "                                                                                        \n",
    "    \n",
    "\n",
    "    \n",
    "    \n",
    "    df['ls_conf'] = df['LSTeamID'].apply(lambda x:  conf_affil[2023][x])\n",
    "    df['hs_conf'] = df['HSTeamID'].apply(lambda x:  conf_affil[2023][x])\n",
    "    \n",
    "    power_conf = [\"acc\", 'sec', \"big_ten\", \n",
    "                  \"big_twelve\", \"pac_ten\", \"pac_twelve\"]\n",
    "\n",
    "    mid_major = ['cusa', 'aac', 'mwc', 'sun_belt', 'ivy', \n",
    "                 'mac', 'big_sky', 'meac' ,'southland', \n",
    "                 'summit', 'wac', 'wcc',]\n",
    "\n",
    "    low_major = ['aec', 'a_ten', 'big_south', 'caa', \n",
    "                 'nec', 'patriot', 'southern', 'swac', \n",
    "                 'mvc', 'a_sun', 'ovc', 'horizon', \n",
    "                 'maac', 'swac']    \n",
    "    \n",
    "    \n",
    "    df['HS_power_conf']=df['hs_conf'].apply(lambda x: 1 if x in power_conf else 0)\n",
    "    df['HS_mid_conf'] = df['hs_conf'].apply(lambda x: 1 if x in mid_major else 0)\n",
    "    df['HS_low_conf'] = df['hs_conf'].apply(lambda x: 1 if x in low_major else 0)\n",
    "    \n",
    "    df['LS_power_conf']=df['ls_conf'].apply(lambda x: 1 if x in power_conf else 0)\n",
    "    df['LS_mid_conf'] = df['ls_conf'].apply(lambda x: 1 if x in mid_major else 0)\n",
    "    df['LS_low_conf'] = df['ls_conf'].apply(lambda x: 1 if x in low_major else 0)\n",
    "    \n",
    "\n",
    "    df['HS_conf_champ'] = df['HSTeamID'].apply(lambda x: 1 if x in list(conf_champs[2023].keys()) else 0)\n",
    "    df['LS_conf_champ'] = df['LSTeamID'].apply(lambda x: 1 if x in list(conf_champs[2023].keys()) else 0)\n",
    "\n",
    "    \n",
    "    df = df.drop(columns = ['ls_conf', 'hs_conf'])\n",
    "    \n",
    "    df['HS_page_rank'] = df.apply(lambda x: page_rank[x['Season']][str(int(x['HSTeamID']))], axis = 1)\n",
    "    df['LS_page_rank'] = df.apply(lambda x: page_rank[x['Season']][str(int(x['LSTeamID']))], axis = 1)\n",
    "    \n",
    "    df['HS_historical_tournament_win%'] = df.apply(lambda x: tw[x['Season']][x['HSTeamID']] if x['HSTeamID'] in tw[x['Season']].keys() else 0 , axis = 1)\n",
    "    df['LS_historical_tournament_win%'] = df.apply(lambda x: tw[x['Season']][x['LSTeamID']] if x['LSTeamID'] in tw[x['Season']].keys() else 0, axis = 1)\n",
    "    \n",
    "    df = df[cols]\n",
    "   \n",
    "    return df\n",
    "    \n",
    "    \n",
    "    \n",
    "    "
   ]
  },
  {
   "cell_type": "code",
   "execution_count": 150,
   "id": "3e0e9167-cb51-4198-9679-c95c29166828",
   "metadata": {},
   "outputs": [],
   "source": [
    "def build_second_round(result):\n",
    "    '''\n",
    "    building a function that takes in the result of the first round and \n",
    "    delivers a list of tuples containing the power seeds of the following\n",
    "    round, we will then iteritevly build the rounds as the \n",
    "    tournament progresses \n",
    "    \n",
    "    '''\n",
    "\n",
    "    second = []\n",
    "   \n",
    "    if result[0] ==1:\n",
    "        if result[31] == 1:\n",
    "            second.append((first_round[0][0], first_round[31][0]))\n",
    "         \n",
    "        else:\n",
    "            second.append((first_round[0][0], first_round[31][1]))\n",
    "            print(\"inside first couble else \")\n",
    "    else:\n",
    "        if result[31] == 1:\n",
    "            second.append((first_round[0][1], first_round[31][0]))\n",
    "        else:\n",
    "            second.append((first_round[0][1], first_round[31][1]))\n",
    "    \n",
    "    if result[1] ==1:\n",
    "        if result[30] == 1:\n",
    "            second.append((first_round[1][0], first_round[30][0]))\n",
    "        else:\n",
    "            second.append((first_round[1][0], first_round[30][1]))\n",
    "\n",
    "    else:\n",
    "        if result[30] == 1:\n",
    "            second.append((first_round[1][1], first_round[30][0]))\n",
    "        else:\n",
    "            second.append((first_round[1][1], first_round[30][1]))\n",
    "    \n",
    "    if result[2] ==1:\n",
    "        if result[29] == 1:\n",
    "            second.append((first_round[2][0], first_round[29][0]))\n",
    "        else:\n",
    "            second.append((first_round[2][0], first_round[29][1]))\n",
    "\n",
    "    else:\n",
    "        if result[29] == 1:\n",
    "            second.append((first_round[2][1], first_round[29][0]))\n",
    "        else:\n",
    "            second.append((first_round[2][1], first_round[29][1]))\n",
    "    \n",
    "    if result[3] ==1:\n",
    "        if result[28] == 1:\n",
    "            second.append((first_round[3][0], first_round[28][0]))\n",
    "        else:\n",
    "            second.append((first_round[3][0], first_round[28][1]))\n",
    "\n",
    "    else:\n",
    "        if result[28] == 1:\n",
    "            second.append((first_round[3][1], first_round[28][0]))\n",
    "        else:\n",
    "            second.append((first_round[3][1], first_round[28][1]))\n",
    "########## \n",
    "    if result[4] ==1:\n",
    "        if result[24] == 1:\n",
    "            second.append((first_round[4][0], first_round[24][0]))\n",
    "        else:\n",
    "            second.append((first_round[4][0], first_round[24][1]))\n",
    "\n",
    "    else:\n",
    "        if result[24] == 1:\n",
    "            second.append((first_round[4][1], first_round[24][0]))\n",
    "        else:\n",
    "            second.append((first_round[4][1], first_round[24][1]))\n",
    "    \n",
    "    if result[5] ==1:\n",
    "        if result[25] == 1:\n",
    "            second.append((first_round[5][0], first_round[25][0]))\n",
    "        else:\n",
    "            second.append((first_round[5][0], first_round[25][1]))\n",
    "    else:\n",
    "        if result[25] == 1:\n",
    "            second.append((first_round[5][1], first_round[25][0]))\n",
    "        else:\n",
    "            second.append((first_round[5][1], first_round[25][1]))\n",
    "    \n",
    "    if result[6] ==1:\n",
    "        if result[26] == 1:\n",
    "            second.append((first_round[6][0], first_round[26][0]))\n",
    "        else:\n",
    "            second.append((first_round[6][0], first_round[26][1]))\n",
    "\n",
    "    else:\n",
    "        if result[26] == 1:\n",
    "            second.append((first_round[6][1], first_round[26][0]))\n",
    "        else:\n",
    "            second.append((first_round[6][1], first_round[26][1]))\n",
    "    \n",
    "    if result[7] ==1:\n",
    "        if result[27] == 1:\n",
    "            second.append((first_round[7][0], first_round[27][0]))\n",
    "        else:\n",
    "            second.append((first_round[7][0], first_round[27][1]))\n",
    "\n",
    "    else:\n",
    "        if result[27] == 1:\n",
    "            second.append((first_round[7][1], first_round[27][0]))\n",
    "        else:\n",
    "            second.append((first_round[7][1], first_round[27][1]))\n",
    "            \n",
    "    if result[11] ==1:\n",
    "        if result[23] == 1:\n",
    "            second.append((first_round[11][0], first_round[23][0]))\n",
    "        else:\n",
    "            second.append((first_round[11][0], first_round[23][1]))\n",
    "    else:\n",
    "        if result[23] == 1:\n",
    "            second.append((first_round[11][1], first_round[23][0]))\n",
    "        else:\n",
    "            second.append((first_round[11][1], first_round[23][1]))\n",
    "            \n",
    "    if result[10] ==1:\n",
    "        if result[22] == 1:\n",
    "            second.append((first_round[10][0], first_round[22][0]))\n",
    "        else:\n",
    "            second.append((first_round[10][0], first_round[22][1]))\n",
    "    else:\n",
    "        if result[22] == 1:\n",
    "            second.append((first_round[10][1], first_round[22][0]))\n",
    "        else:\n",
    "            second.append((first_round[10][1], first_round[22][1]))\n",
    "\n",
    "            \n",
    "    if result[9] ==1:\n",
    "        if result[21] == 1:\n",
    "            second.append((first_round[9][0], first_round[21][0]))\n",
    "        else:\n",
    "            second.append((first_round[9][0], first_round[21][1]))\n",
    "    else:\n",
    "        if result[21] == 1:\n",
    "            second.append((first_round[9][1], first_round[21][0]))\n",
    "        else:\n",
    "            second.append((first_round[9][1], first_round[21][1]))       \n",
    "            \n",
    "            \n",
    "    if result[8] ==1:\n",
    "        if result[20] == 1:\n",
    "            second.append((first_round[8][0], first_round[20][0]))\n",
    "        else:\n",
    "            second.append((first_round[8][0], first_round[20][1]))\n",
    "    else:\n",
    "        if result[20] == 1:\n",
    "            second.append((first_round[8][1], first_round[20][0]))\n",
    "        else:\n",
    "            second.append((first_round[8][1], first_round[20][1]))\n",
    "        \n",
    "            \n",
    "######\n",
    "\n",
    "    if result[12] ==1:\n",
    "        if result[16] == 1:\n",
    "            second.append((first_round[12][0], first_round[16][0]))\n",
    "        else:\n",
    "            second.append((first_round[12][0], first_round[16][1]))\n",
    "    else:\n",
    "        if result[16] == 1:\n",
    "            second.append((first_round[12][1], first_round[16][0]))\n",
    "        else:\n",
    "            second.append((first_round[12][1], first_round[16][1]))\n",
    "            \n",
    "    \n",
    "            \n",
    "            \n",
    "    if result[13] ==1:\n",
    "        if result[17] == 1:\n",
    "            second.append((first_round[13][0], first_round[17][0]))\n",
    "        else:\n",
    "            second.append((first_round[13][0], first_round[17][1]))\n",
    "    else:\n",
    "        if result[17] == 1:\n",
    "            second.append((first_round[13][1], first_round[17][0]))\n",
    "        else:\n",
    "            second.append((first_round[13][1], first_round[17][1]))\n",
    "            \n",
    "            \n",
    "            \n",
    "            \n",
    "    if result[14] ==1:\n",
    "        if result[18] == 1:\n",
    "            second.append((first_round[14][0], first_round[18][0]))\n",
    "        else:\n",
    "            second.append((first_round[14][0], first_round[18][1]))\n",
    "    else:\n",
    "        if result[18] == 1:\n",
    "            second.append((first_round[14][1], first_round[18][0]))\n",
    "        else:\n",
    "            second.append((first_round[14][1], first_round[18][1]))\n",
    "            \n",
    "            \n",
    "                        \n",
    "            \n",
    "    if result[15] ==1:\n",
    "        if result[19] == 1:\n",
    "            second.append((first_round[15][0], first_round[19][0]))\n",
    "        else:\n",
    "            second.append((first_round[15][0], first_round[19][1]))\n",
    "    else:\n",
    "        if result[19] == 1:\n",
    "            second.append((first_round[15][1], first_round[19][0]))\n",
    "        else:\n",
    "            second.append((first_round[15][1], first_round[19][1]))         \n",
    "            \n",
    "            \n",
    "            \n",
    "    \n",
    "    return second \n",
    "\n",
    "\n",
    "def get_names(matchups):\n",
    "    pyear = power_seeds[power_seeds['Season'] ==year_]\n",
    "    \n",
    "    yd = dict(zip(pyear['PowerSeed '], pyear['TeamName']))\n",
    "    for i in range(len(matchups)):\n",
    "        print(yd[matchups[i][0]]+ \" v \" +yd[matchups[i][1]])\n",
    "    \n",
    "def get_champ_names(matchups):\n",
    "    pyear = power_seeds[power_seeds['Season'] ==year_]\n",
    "    \n",
    "    yd = dict(zip(pyear['PowerSeed '], pyear['TeamName']))\n",
    "    for i in range(len(matchups)):\n",
    "        return (yd[matchups[i][0]]+ \" v \" +yd[matchups[i][1]])\n",
    "    \n",
    "        \n",
    "def get_next(n_games, prev_round, result):\n",
    "    current_round = []\n",
    "    for i in range(0,n_games):\n",
    "        if result[i] ==1:\n",
    "            if result[-i-1] == 1:\n",
    "            \n",
    "                current_round.append((prev_round[i][0], prev_round[-i-1][0]))\n",
    "                #print(first_round[-i][0])\n",
    "            else:\n",
    "                current_round.append((prev_round[i][0], prev_round[-i-1][1]))\n",
    "\n",
    "        else:\n",
    "            if result[-i-1] == 1:\n",
    "                current_round.append((prev_round[i][1], prev_round[-i-1][0]))\n",
    "            else:\n",
    "                current_round.append((prev_round[i][1], prev_round[-i-1][1]))\n",
    "                \n",
    "    current_round = list(pd.Series(current_round).apply(lambda x:x if x[0]<x[1] else (x[1], x[0])))\n",
    "    return current_round"
   ]
  },
  {
   "cell_type": "code",
   "execution_count": 151,
   "id": "32efbcfb-3cc0-4a4a-a4b1-284db37430b8",
   "metadata": {},
   "outputs": [],
   "source": [
    "#load in past mod\n",
    "#xgb_model_loaded = pickle.load(open('../pickled_out/20230315-1709_xgb_out.pkl', \"rb\"))\n",
    "#xgb_model_loaded.best_params_"
   ]
  },
  {
   "cell_type": "code",
   "execution_count": 152,
   "id": "e168c518-978c-4e4a-a85a-a849bdea04fc",
   "metadata": {},
   "outputs": [],
   "source": [
    "def full_bracket(df, xgc, loaded_model = False):\n",
    "    \n",
    "    if loaded_model == False:\n",
    "        xgc = xgc\n",
    "    else:\n",
    "        xgc = xgb_model_loaded\n",
    "    \n",
    "    \n",
    "    r1 =  build_rounds(df, first_round, 'first')\n",
    "    r1 = r1[list(train.columns)]\n",
    "    r1 = r1.drop(columns = 'target')\n",
    "    \n",
    "    \n",
    "    r1_preds = xgc.predict(r1)\n",
    "    \n",
    "    \n",
    "    second_match = build_second_round(r1_preds)\n",
    "    print(\"Second Round Matchups: \")\n",
    "    get_names(second_match)\n",
    "    print(\" \")\n",
    "    \n",
    "    #r2 = build_rounds(tour9, second_match, 'second')\n",
    "    r2 = build_rounds(df, second_match, 'second')\n",
    "    r2 = r2[train.columns]\n",
    "    r2 = r2.drop(columns = ['target'])\n",
    "    \n",
    "    r2_preds = xgc.predict(r2)\n",
    "    \n",
    "    \n",
    "    third_match = get_next(8, second_match, r2_preds)\n",
    "    print(\"Sweet 16 Matchups: \")\n",
    "    get_names(third_match)\n",
    "    print(\" \")\n",
    "    \n",
    "    #r3 = build_rounds(tour9, third_match, 'third')\n",
    "    r3 = build_rounds(df, third_match, 'third')\n",
    "    r3 = r3[train.columns]\n",
    "    r3 = r3.drop(columns = ['target'])\n",
    "    \n",
    "    r3_preds = xgc.predict(r3)\n",
    "    \n",
    "    \n",
    "    fourth_match = get_next(4, third_match, r3_preds)\n",
    "    print(\"Elite 8 Matchups: \") \n",
    "    get_names(fourth_match)\n",
    "    print(\" \")\n",
    "    \n",
    "    #r4 = build_rounds(tour9, fourth_match, 'fourth')\n",
    "    r4 = build_rounds(df, fourth_match, 'fourth')\n",
    "    r4 = r4[train.columns]\n",
    "    r4 = r4.drop(columns = ['target'])\n",
    "    \n",
    "    r4_preds = xgc.predict(r4)\n",
    "    \n",
    "    \n",
    "    fifth_match = get_next(2, fourth_match, r4_preds)\n",
    "    print(\"Final Four Matchups: \")\n",
    "    get_names(fifth_match)\n",
    "    print(\" \")\n",
    "    \n",
    "    #r5 = build_rounds(tour9, fifth_match, 'fifth')\n",
    "    r5 = build_rounds(df, fifth_match, 'fifth')\n",
    "    r5 = r5[train.columns]\n",
    "    r5 = r5.drop(columns = ['target'])\n",
    "    \n",
    "    r5_preds = xgc.predict(r5)\n",
    "    \n",
    "    \n",
    "    sixth_match = get_next(1, fifth_match, r5_preds)\n",
    "    print(\"Championship Matchups: \")\n",
    "    get_names(sixth_match)\n",
    "    champ_names = get_champ_names(sixth_match)\n",
    "    champ_matchup = get_champ_names(sixth_match)\n",
    "    #print(type(champ_matchup))\n",
    "    print(\" \")\n",
    "    \n",
    "    #r6 = build_rounds(tour9, sixth_match, 'sixth')\n",
    "    r6 = build_rounds(df, sixth_match, 'sixth')\n",
    "    #print('champ seeds', sixth_match)\n",
    "    r6 = r6[train.columns]\n",
    "    r6 = r6.drop(columns = ['target'])\n",
    "    \n",
    "    r6_preds = xgc.predict(r6)\n",
    "    \n",
    "    ##Get seeds and names for champion \n",
    "    def get_last_name(champ_matchup, sixth_match,r6_preds):\n",
    "        \n",
    "        champ_matchup = champ_matchup.split(\" v \")\n",
    "   \n",
    "    \n",
    "        cham_ = dict(zip(champ_matchup, sixth_match[0]))\n",
    "        \n",
    "        print(\"Champion\")\n",
    "        if r6_preds[0] == 1:\n",
    "            \n",
    "            #find min of this dict \n",
    "            seed_1 = cham_[champ_matchup[0]]\n",
    "\n",
    "            seed_2 = cham_[champ_matchup[1]]\n",
    "\n",
    "            if seed_1 < seed_2:\n",
    "                print(champ_matchup[0])\n",
    "            else:\n",
    "                print(champ_matchup[1])\n",
    "                \n",
    "        else:\n",
    "            #find max of this dict \n",
    "            seed_1 = cham_[champ_matchup[0]]\n",
    "\n",
    "            seed_2 = cham_[champ_matchup[1]]\n",
    "\n",
    "            if seed_1 > seed_2:\n",
    "                print(champ_matchup[0])\n",
    "            else:\n",
    "                print(champ_matchup[1])\n",
    "            \n",
    "    champ = get_last_name(champ_matchup, sixth_match, r6_preds)\n",
    "        \n",
    "    \n",
    "    \n",
    "    \n",
    "    \n",
    "    \n"
   ]
  },
  {
   "cell_type": "code",
   "execution_count": 153,
   "id": "20c2ff34-f0a3-4712-91e8-f9676ec99b0e",
   "metadata": {},
   "outputs": [
    {
     "name": "stdout",
     "output_type": "stream",
     "text": [
      "0.0\n",
      "0.0\n",
      "0.0\n",
      "0.0\n",
      "0.0\n",
      "0.0\n",
      "0.0\n",
      "0.0\n",
      "0.0\n",
      "0.0\n",
      "0.0\n",
      "0.0\n",
      "0.0\n",
      "0.0\n",
      "0.0\n",
      "0.0\n",
      "0.0\n",
      "0.0\n",
      "0.0\n",
      "0.0\n",
      "0.0\n",
      "0.0\n",
      "0.0\n",
      "0.0\n",
      "0.0\n",
      "0.0\n",
      "0.0\n",
      "0.0\n",
      "0.0\n",
      "0.0\n",
      "0.0\n",
      "0.0\n"
     ]
    },
    {
     "ename": "KeyError",
     "evalue": "\"['LS_conf_champ', 'HS_page_rank', 'LS_page_rank', 'HS_historical_tournament_win%', 'LS_historical_tournament_win%', 'target'] not in index\"",
     "output_type": "error",
     "traceback": [
      "\u001b[0;31m---------------------------------------------------------------------------\u001b[0m",
      "\u001b[0;31mKeyError\u001b[0m                                  Traceback (most recent call last)",
      "Cell \u001b[0;32mIn[153], line 1\u001b[0m\n\u001b[0;32m----> 1\u001b[0m full_bracket(tour9, xgc, loaded_model \u001b[38;5;241m=\u001b[39m \u001b[38;5;28;01mFalse\u001b[39;00m)\n",
      "Cell \u001b[0;32mIn[152], line 10\u001b[0m, in \u001b[0;36mfull_bracket\u001b[0;34m(df, xgc, loaded_model)\u001b[0m\n\u001b[1;32m      6\u001b[0m     xgc \u001b[38;5;241m=\u001b[39m xgb_model_loaded\n\u001b[1;32m      9\u001b[0m r1 \u001b[38;5;241m=\u001b[39m  build_rounds(df, first_round, \u001b[38;5;124m'\u001b[39m\u001b[38;5;124mfirst\u001b[39m\u001b[38;5;124m'\u001b[39m)\n\u001b[0;32m---> 10\u001b[0m r1 \u001b[38;5;241m=\u001b[39m r1[\u001b[38;5;28mlist\u001b[39m(train\u001b[38;5;241m.\u001b[39mcolumns)]\n\u001b[1;32m     11\u001b[0m r1 \u001b[38;5;241m=\u001b[39m r1\u001b[38;5;241m.\u001b[39mdrop(columns \u001b[38;5;241m=\u001b[39m \u001b[38;5;124m'\u001b[39m\u001b[38;5;124mtarget\u001b[39m\u001b[38;5;124m'\u001b[39m)\n\u001b[1;32m     14\u001b[0m r1_preds \u001b[38;5;241m=\u001b[39m xgc\u001b[38;5;241m.\u001b[39mpredict(r1)\n",
      "File \u001b[0;32m~/anaconda3/lib/python3.11/site-packages/pandas/core/frame.py:3813\u001b[0m, in \u001b[0;36mDataFrame.__getitem__\u001b[0;34m(self, key)\u001b[0m\n\u001b[1;32m   3811\u001b[0m     \u001b[38;5;28;01mif\u001b[39;00m is_iterator(key):\n\u001b[1;32m   3812\u001b[0m         key \u001b[38;5;241m=\u001b[39m \u001b[38;5;28mlist\u001b[39m(key)\n\u001b[0;32m-> 3813\u001b[0m     indexer \u001b[38;5;241m=\u001b[39m \u001b[38;5;28mself\u001b[39m\u001b[38;5;241m.\u001b[39mcolumns\u001b[38;5;241m.\u001b[39m_get_indexer_strict(key, \u001b[38;5;124m\"\u001b[39m\u001b[38;5;124mcolumns\u001b[39m\u001b[38;5;124m\"\u001b[39m)[\u001b[38;5;241m1\u001b[39m]\n\u001b[1;32m   3815\u001b[0m \u001b[38;5;66;03m# take() does not accept boolean indexers\u001b[39;00m\n\u001b[1;32m   3816\u001b[0m \u001b[38;5;28;01mif\u001b[39;00m \u001b[38;5;28mgetattr\u001b[39m(indexer, \u001b[38;5;124m\"\u001b[39m\u001b[38;5;124mdtype\u001b[39m\u001b[38;5;124m\"\u001b[39m, \u001b[38;5;28;01mNone\u001b[39;00m) \u001b[38;5;241m==\u001b[39m \u001b[38;5;28mbool\u001b[39m:\n",
      "File \u001b[0;32m~/anaconda3/lib/python3.11/site-packages/pandas/core/indexes/base.py:6070\u001b[0m, in \u001b[0;36mIndex._get_indexer_strict\u001b[0;34m(self, key, axis_name)\u001b[0m\n\u001b[1;32m   6067\u001b[0m \u001b[38;5;28;01melse\u001b[39;00m:\n\u001b[1;32m   6068\u001b[0m     keyarr, indexer, new_indexer \u001b[38;5;241m=\u001b[39m \u001b[38;5;28mself\u001b[39m\u001b[38;5;241m.\u001b[39m_reindex_non_unique(keyarr)\n\u001b[0;32m-> 6070\u001b[0m \u001b[38;5;28mself\u001b[39m\u001b[38;5;241m.\u001b[39m_raise_if_missing(keyarr, indexer, axis_name)\n\u001b[1;32m   6072\u001b[0m keyarr \u001b[38;5;241m=\u001b[39m \u001b[38;5;28mself\u001b[39m\u001b[38;5;241m.\u001b[39mtake(indexer)\n\u001b[1;32m   6073\u001b[0m \u001b[38;5;28;01mif\u001b[39;00m \u001b[38;5;28misinstance\u001b[39m(key, Index):\n\u001b[1;32m   6074\u001b[0m     \u001b[38;5;66;03m# GH 42790 - Preserve name from an Index\u001b[39;00m\n",
      "File \u001b[0;32m~/anaconda3/lib/python3.11/site-packages/pandas/core/indexes/base.py:6133\u001b[0m, in \u001b[0;36mIndex._raise_if_missing\u001b[0;34m(self, key, indexer, axis_name)\u001b[0m\n\u001b[1;32m   6130\u001b[0m     \u001b[38;5;28;01mraise\u001b[39;00m \u001b[38;5;167;01mKeyError\u001b[39;00m(\u001b[38;5;124mf\u001b[39m\u001b[38;5;124m\"\u001b[39m\u001b[38;5;124mNone of [\u001b[39m\u001b[38;5;132;01m{\u001b[39;00mkey\u001b[38;5;132;01m}\u001b[39;00m\u001b[38;5;124m] are in the [\u001b[39m\u001b[38;5;132;01m{\u001b[39;00maxis_name\u001b[38;5;132;01m}\u001b[39;00m\u001b[38;5;124m]\u001b[39m\u001b[38;5;124m\"\u001b[39m)\n\u001b[1;32m   6132\u001b[0m not_found \u001b[38;5;241m=\u001b[39m \u001b[38;5;28mlist\u001b[39m(ensure_index(key)[missing_mask\u001b[38;5;241m.\u001b[39mnonzero()[\u001b[38;5;241m0\u001b[39m]]\u001b[38;5;241m.\u001b[39munique())\n\u001b[0;32m-> 6133\u001b[0m \u001b[38;5;28;01mraise\u001b[39;00m \u001b[38;5;167;01mKeyError\u001b[39;00m(\u001b[38;5;124mf\u001b[39m\u001b[38;5;124m\"\u001b[39m\u001b[38;5;132;01m{\u001b[39;00mnot_found\u001b[38;5;132;01m}\u001b[39;00m\u001b[38;5;124m not in index\u001b[39m\u001b[38;5;124m\"\u001b[39m)\n",
      "\u001b[0;31mKeyError\u001b[0m: \"['LS_conf_champ', 'HS_page_rank', 'LS_page_rank', 'HS_historical_tournament_win%', 'LS_historical_tournament_win%', 'target'] not in index\""
     ]
    }
   ],
   "source": [
    "full_bracket(tour9, xgc, loaded_model = False)"
   ]
  },
  {
   "cell_type": "code",
   "execution_count": null,
   "id": "a3a7c964-3bcf-4e33-9dfa-dbb8a56b719d",
   "metadata": {},
   "outputs": [],
   "source": []
  },
  {
   "cell_type": "code",
   "execution_count": null,
   "id": "ab3f5407-6e25-464e-bc26-8232e3cf0855",
   "metadata": {},
   "outputs": [],
   "source": []
  },
  {
   "cell_type": "code",
   "execution_count": 148,
   "id": "cc9e40ab-7b1a-41f8-9a68-e3ba92b34181",
   "metadata": {},
   "outputs": [],
   "source": [
    "def create_page_rank_html(dict1, dict2):\n",
    "    \n",
    "    tourney_teams = list(dict1[year_].keys())\n",
    "    \n",
    "    rank_order = list(range(1, len(dict2[year_])+1))\n",
    "    \n",
    "    temp = pd.DataFrame(list(zip(teams_rank[2024], rank_order)),\n",
    "                        columns = ['TeamID', \"PR\"])\n",
    "    \n",
    "    temp['TT'] = temp['TeamID'].apply(lambda x: 1 if int(x) in tourney_teams else 0)\n",
    "    \n",
    "    temp = temp[temp[\"TT\"] == 1]\n",
    "    temp['TeamID'] = temp['TeamID'].apply(lambda x: int(x))\n",
    "    \n",
    "    temp2 = pd.merge(left = temp,   right = teams_df, \n",
    "                     on = ['TeamID'])\n",
    "    \n",
    "    temp2 = temp2.drop(columns = ['FirstD1Season',\n",
    "                                   'LastD1Season', \n",
    "                                   'TeamID', \n",
    "                                   'TT'])\n",
    "                                   \n",
    "    \n",
    "    return temp2\n",
    "    \n",
    "    \n",
    "    "
   ]
  },
  {
   "cell_type": "code",
   "execution_count": 263,
   "id": "01808486-769e-4280-bc1e-81fb4a34fa4a",
   "metadata": {},
   "outputs": [],
   "source": [
    "pr = create_page_rank_html(psd, page_rank)"
   ]
  },
  {
   "cell_type": "code",
   "execution_count": 265,
   "id": "56e5fcad-f6c6-4c97-9425-07a3f79399a0",
   "metadata": {},
   "outputs": [],
   "source": [
    "pr.to_csv('../dictionaries/page_rank_names.csv')"
   ]
  },
  {
   "cell_type": "code",
   "execution_count": 266,
   "id": "6a639e2d-58e5-4ad9-950a-44915035757a",
   "metadata": {
    "tags": []
   },
   "outputs": [
    {
     "data": {
      "text/html": [
       "<div>\n",
       "<style scoped>\n",
       "    .dataframe tbody tr th:only-of-type {\n",
       "        vertical-align: middle;\n",
       "    }\n",
       "\n",
       "    .dataframe tbody tr th {\n",
       "        vertical-align: top;\n",
       "    }\n",
       "\n",
       "    .dataframe thead th {\n",
       "        text-align: right;\n",
       "    }\n",
       "</style>\n",
       "<table border=\"1\" class=\"dataframe\">\n",
       "  <thead>\n",
       "    <tr style=\"text-align: right;\">\n",
       "      <th></th>\n",
       "      <th>PR</th>\n",
       "      <th>TeamName</th>\n",
       "    </tr>\n",
       "  </thead>\n",
       "  <tbody>\n",
       "    <tr>\n",
       "      <th>0</th>\n",
       "      <td>1</td>\n",
       "      <td>Kansas</td>\n",
       "    </tr>\n",
       "    <tr>\n",
       "      <th>1</th>\n",
       "      <td>2</td>\n",
       "      <td>Purdue</td>\n",
       "    </tr>\n",
       "    <tr>\n",
       "      <th>2</th>\n",
       "      <td>3</td>\n",
       "      <td>Houston</td>\n",
       "    </tr>\n",
       "    <tr>\n",
       "      <th>3</th>\n",
       "      <td>4</td>\n",
       "      <td>Iowa St</td>\n",
       "    </tr>\n",
       "    <tr>\n",
       "      <th>4</th>\n",
       "      <td>5</td>\n",
       "      <td>Creighton</td>\n",
       "    </tr>\n",
       "    <tr>\n",
       "      <th>5</th>\n",
       "      <td>6</td>\n",
       "      <td>Connecticut</td>\n",
       "    </tr>\n",
       "    <tr>\n",
       "      <th>6</th>\n",
       "      <td>7</td>\n",
       "      <td>Tennessee</td>\n",
       "    </tr>\n",
       "    <tr>\n",
       "      <th>7</th>\n",
       "      <td>8</td>\n",
       "      <td>Northwestern</td>\n",
       "    </tr>\n",
       "    <tr>\n",
       "      <th>8</th>\n",
       "      <td>9</td>\n",
       "      <td>Baylor</td>\n",
       "    </tr>\n",
       "    <tr>\n",
       "      <th>9</th>\n",
       "      <td>10</td>\n",
       "      <td>Nebraska</td>\n",
       "    </tr>\n",
       "    <tr>\n",
       "      <th>10</th>\n",
       "      <td>11</td>\n",
       "      <td>North Carolina</td>\n",
       "    </tr>\n",
       "    <tr>\n",
       "      <th>11</th>\n",
       "      <td>12</td>\n",
       "      <td>Clemson</td>\n",
       "    </tr>\n",
       "    <tr>\n",
       "      <th>12</th>\n",
       "      <td>14</td>\n",
       "      <td>BYU</td>\n",
       "    </tr>\n",
       "    <tr>\n",
       "      <th>13</th>\n",
       "      <td>15</td>\n",
       "      <td>TCU</td>\n",
       "    </tr>\n",
       "    <tr>\n",
       "      <th>14</th>\n",
       "      <td>16</td>\n",
       "      <td>Kentucky</td>\n",
       "    </tr>\n",
       "    <tr>\n",
       "      <th>15</th>\n",
       "      <td>17</td>\n",
       "      <td>Marquette</td>\n",
       "    </tr>\n",
       "    <tr>\n",
       "      <th>16</th>\n",
       "      <td>18</td>\n",
       "      <td>Wisconsin</td>\n",
       "    </tr>\n",
       "    <tr>\n",
       "      <th>17</th>\n",
       "      <td>19</td>\n",
       "      <td>Arizona</td>\n",
       "    </tr>\n",
       "    <tr>\n",
       "      <th>18</th>\n",
       "      <td>20</td>\n",
       "      <td>Alabama</td>\n",
       "    </tr>\n",
       "    <tr>\n",
       "      <th>19</th>\n",
       "      <td>21</td>\n",
       "      <td>Nevada</td>\n",
       "    </tr>\n",
       "    <tr>\n",
       "      <th>20</th>\n",
       "      <td>22</td>\n",
       "      <td>South Carolina</td>\n",
       "    </tr>\n",
       "    <tr>\n",
       "      <th>21</th>\n",
       "      <td>23</td>\n",
       "      <td>Illinois</td>\n",
       "    </tr>\n",
       "    <tr>\n",
       "      <th>22</th>\n",
       "      <td>25</td>\n",
       "      <td>San Diego St</td>\n",
       "    </tr>\n",
       "    <tr>\n",
       "      <th>23</th>\n",
       "      <td>27</td>\n",
       "      <td>New Mexico</td>\n",
       "    </tr>\n",
       "    <tr>\n",
       "      <th>24</th>\n",
       "      <td>28</td>\n",
       "      <td>Duke</td>\n",
       "    </tr>\n",
       "    <tr>\n",
       "      <th>25</th>\n",
       "      <td>29</td>\n",
       "      <td>Texas A&amp;M</td>\n",
       "    </tr>\n",
       "    <tr>\n",
       "      <th>26</th>\n",
       "      <td>31</td>\n",
       "      <td>Texas Tech</td>\n",
       "    </tr>\n",
       "    <tr>\n",
       "      <th>27</th>\n",
       "      <td>33</td>\n",
       "      <td>Auburn</td>\n",
       "    </tr>\n",
       "    <tr>\n",
       "      <th>28</th>\n",
       "      <td>34</td>\n",
       "      <td>Drake</td>\n",
       "    </tr>\n",
       "    <tr>\n",
       "      <th>29</th>\n",
       "      <td>36</td>\n",
       "      <td>Washington St</td>\n",
       "    </tr>\n",
       "    <tr>\n",
       "      <th>30</th>\n",
       "      <td>37</td>\n",
       "      <td>FL Atlantic</td>\n",
       "    </tr>\n",
       "    <tr>\n",
       "      <th>31</th>\n",
       "      <td>38</td>\n",
       "      <td>Utah St</td>\n",
       "    </tr>\n",
       "    <tr>\n",
       "      <th>32</th>\n",
       "      <td>39</td>\n",
       "      <td>Mississippi St</td>\n",
       "    </tr>\n",
       "    <tr>\n",
       "      <th>33</th>\n",
       "      <td>41</td>\n",
       "      <td>Florida</td>\n",
       "    </tr>\n",
       "    <tr>\n",
       "      <th>34</th>\n",
       "      <td>43</td>\n",
       "      <td>Michigan St</td>\n",
       "    </tr>\n",
       "    <tr>\n",
       "      <th>35</th>\n",
       "      <td>50</td>\n",
       "      <td>Texas</td>\n",
       "    </tr>\n",
       "    <tr>\n",
       "      <th>36</th>\n",
       "      <td>54</td>\n",
       "      <td>St Mary's CA</td>\n",
       "    </tr>\n",
       "    <tr>\n",
       "      <th>37</th>\n",
       "      <td>56</td>\n",
       "      <td>UAB</td>\n",
       "    </tr>\n",
       "    <tr>\n",
       "      <th>38</th>\n",
       "      <td>59</td>\n",
       "      <td>Dayton</td>\n",
       "    </tr>\n",
       "    <tr>\n",
       "      <th>39</th>\n",
       "      <td>73</td>\n",
       "      <td>Gonzaga</td>\n",
       "    </tr>\n",
       "    <tr>\n",
       "      <th>40</th>\n",
       "      <td>79</td>\n",
       "      <td>Oregon</td>\n",
       "    </tr>\n",
       "    <tr>\n",
       "      <th>41</th>\n",
       "      <td>80</td>\n",
       "      <td>NC State</td>\n",
       "    </tr>\n",
       "    <tr>\n",
       "      <th>42</th>\n",
       "      <td>87</td>\n",
       "      <td>Duquesne</td>\n",
       "    </tr>\n",
       "    <tr>\n",
       "      <th>43</th>\n",
       "      <td>90</td>\n",
       "      <td>Grand Canyon</td>\n",
       "    </tr>\n",
       "    <tr>\n",
       "      <th>44</th>\n",
       "      <td>102</td>\n",
       "      <td>Samford</td>\n",
       "    </tr>\n",
       "    <tr>\n",
       "      <th>45</th>\n",
       "      <td>103</td>\n",
       "      <td>Yale</td>\n",
       "    </tr>\n",
       "    <tr>\n",
       "      <th>46</th>\n",
       "      <td>104</td>\n",
       "      <td>Vermont</td>\n",
       "    </tr>\n",
       "    <tr>\n",
       "      <th>47</th>\n",
       "      <td>113</td>\n",
       "      <td>Col Charleston</td>\n",
       "    </tr>\n",
       "    <tr>\n",
       "      <th>48</th>\n",
       "      <td>117</td>\n",
       "      <td>James Madison</td>\n",
       "    </tr>\n",
       "    <tr>\n",
       "      <th>49</th>\n",
       "      <td>122</td>\n",
       "      <td>McNeese St</td>\n",
       "    </tr>\n",
       "    <tr>\n",
       "      <th>50</th>\n",
       "      <td>137</td>\n",
       "      <td>Oakland</td>\n",
       "    </tr>\n",
       "    <tr>\n",
       "      <th>51</th>\n",
       "      <td>140</td>\n",
       "      <td>Akron</td>\n",
       "    </tr>\n",
       "    <tr>\n",
       "      <th>52</th>\n",
       "      <td>149</td>\n",
       "      <td>Stetson</td>\n",
       "    </tr>\n",
       "    <tr>\n",
       "      <th>53</th>\n",
       "      <td>155</td>\n",
       "      <td>Colgate</td>\n",
       "    </tr>\n",
       "    <tr>\n",
       "      <th>54</th>\n",
       "      <td>161</td>\n",
       "      <td>Longwood</td>\n",
       "    </tr>\n",
       "    <tr>\n",
       "      <th>55</th>\n",
       "      <td>167</td>\n",
       "      <td>WKU</td>\n",
       "    </tr>\n",
       "    <tr>\n",
       "      <th>56</th>\n",
       "      <td>180</td>\n",
       "      <td>Morehead St</td>\n",
       "    </tr>\n",
       "    <tr>\n",
       "      <th>57</th>\n",
       "      <td>183</td>\n",
       "      <td>S Dakota St</td>\n",
       "    </tr>\n",
       "    <tr>\n",
       "      <th>58</th>\n",
       "      <td>201</td>\n",
       "      <td>Long Beach St</td>\n",
       "    </tr>\n",
       "    <tr>\n",
       "      <th>59</th>\n",
       "      <td>260</td>\n",
       "      <td>St Peter's</td>\n",
       "    </tr>\n",
       "  </tbody>\n",
       "</table>\n",
       "</div>"
      ],
      "text/plain": [
       "     PR        TeamName\n",
       "0     1          Kansas\n",
       "1     2          Purdue\n",
       "2     3         Houston\n",
       "3     4         Iowa St\n",
       "4     5       Creighton\n",
       "5     6     Connecticut\n",
       "6     7       Tennessee\n",
       "7     8    Northwestern\n",
       "8     9          Baylor\n",
       "9    10        Nebraska\n",
       "10   11  North Carolina\n",
       "11   12         Clemson\n",
       "12   14             BYU\n",
       "13   15             TCU\n",
       "14   16        Kentucky\n",
       "15   17       Marquette\n",
       "16   18       Wisconsin\n",
       "17   19         Arizona\n",
       "18   20         Alabama\n",
       "19   21          Nevada\n",
       "20   22  South Carolina\n",
       "21   23        Illinois\n",
       "22   25    San Diego St\n",
       "23   27      New Mexico\n",
       "24   28            Duke\n",
       "25   29       Texas A&M\n",
       "26   31      Texas Tech\n",
       "27   33          Auburn\n",
       "28   34           Drake\n",
       "29   36   Washington St\n",
       "30   37     FL Atlantic\n",
       "31   38         Utah St\n",
       "32   39  Mississippi St\n",
       "33   41         Florida\n",
       "34   43     Michigan St\n",
       "35   50           Texas\n",
       "36   54    St Mary's CA\n",
       "37   56             UAB\n",
       "38   59          Dayton\n",
       "39   73         Gonzaga\n",
       "40   79          Oregon\n",
       "41   80        NC State\n",
       "42   87        Duquesne\n",
       "43   90    Grand Canyon\n",
       "44  102         Samford\n",
       "45  103            Yale\n",
       "46  104         Vermont\n",
       "47  113  Col Charleston\n",
       "48  117   James Madison\n",
       "49  122      McNeese St\n",
       "50  137         Oakland\n",
       "51  140           Akron\n",
       "52  149         Stetson\n",
       "53  155         Colgate\n",
       "54  161        Longwood\n",
       "55  167             WKU\n",
       "56  180     Morehead St\n",
       "57  183     S Dakota St\n",
       "58  201   Long Beach St\n",
       "59  260      St Peter's"
      ]
     },
     "execution_count": 266,
     "metadata": {},
     "output_type": "execute_result"
    }
   ],
   "source": [
    "pr"
   ]
  },
  {
   "cell_type": "code",
   "execution_count": null,
   "id": "e487d3d3-c99e-46ba-81ce-7cb42453a233",
   "metadata": {
    "tags": []
   },
   "outputs": [],
   "source": []
  },
  {
   "cell_type": "code",
   "execution_count": null,
   "id": "05ed5161-ec7b-440f-bb9f-4c29dff673e0",
   "metadata": {
    "tags": []
   },
   "outputs": [],
   "source": []
  },
  {
   "cell_type": "code",
   "execution_count": null,
   "id": "2237cbde-21c4-4066-b11c-9c219485f712",
   "metadata": {},
   "outputs": [],
   "source": []
  },
  {
   "cell_type": "code",
   "execution_count": null,
   "id": "096f5edd-6602-4121-93a6-6f9cec61a250",
   "metadata": {
    "tags": []
   },
   "outputs": [],
   "source": []
  },
  {
   "cell_type": "code",
   "execution_count": null,
   "id": "e24b04b5-ec91-4a06-97bb-a3b864d1b623",
   "metadata": {},
   "outputs": [],
   "source": []
  }
 ],
 "metadata": {
  "kernelspec": {
   "display_name": "Python 3 (ipykernel)",
   "language": "python",
   "name": "python3"
  },
  "language_info": {
   "codemirror_mode": {
    "name": "ipython",
    "version": 3
   },
   "file_extension": ".py",
   "mimetype": "text/x-python",
   "name": "python",
   "nbconvert_exporter": "python",
   "pygments_lexer": "ipython3",
   "version": "3.11.4"
  }
 },
 "nbformat": 4,
 "nbformat_minor": 5
}
